{
 "cells": [
  {
   "cell_type": "code",
   "execution_count": 1,
   "id": "09512227-4631-4c4b-9bf2-6a350f28ed57",
   "metadata": {},
   "outputs": [
    {
     "name": "stdout",
     "output_type": "stream",
     "text": [
      "vasanth\n"
     ]
    }
   ],
   "source": [
    "print(\"vasanth\")\n"
   ]
  },
  {
   "cell_type": "code",
   "execution_count": 2,
   "id": "b5a5a907-f9d6-499a-be1d-9e5a08554bfe",
   "metadata": {},
   "outputs": [
    {
     "name": "stdout",
     "output_type": "stream",
     "text": [
      "hello world\n"
     ]
    }
   ],
   "source": [
    "print('hello world')"
   ]
  },
  {
   "cell_type": "code",
   "execution_count": 1,
   "id": "2395f002-61c0-4564-8031-d8d1e4947c1a",
   "metadata": {},
   "outputs": [
    {
     "name": "stdout",
     "output_type": "stream",
     "text": [
      "25\n"
     ]
    }
   ],
   "source": [
    "a=10\n",
    "b=15\n",
    "c=a+b\n",
    "print(c)"
   ]
  },
  {
   "cell_type": "markdown",
   "id": "87496af2-a124-4f6a-b6a2-8971d44e3a2a",
   "metadata": {},
   "source": [
    "#  ------check version python version-----"
   ]
  },
  {
   "cell_type": "code",
   "execution_count": 4,
   "id": "edb9970b-14ed-4dad-b71a-8a0a296d5083",
   "metadata": {},
   "outputs": [
    {
     "data": {
      "text/plain": [
       "'3.12.7 | packaged by Anaconda, Inc. | (main, Oct  4 2024, 13:17:27) [MSC v.1929 64 bit (AMD64)]'"
      ]
     },
     "execution_count": 4,
     "metadata": {},
     "output_type": "execute_result"
    }
   ],
   "source": [
    "import sys\n",
    "sys.version"
   ]
  },
  {
   "cell_type": "markdown",
   "id": "11a4b020-a967-48b7-8cb4-be8528700183",
   "metadata": {},
   "source": [
    "single line command"
   ]
  },
  {
   "cell_type": "code",
   "execution_count": 1,
   "id": "e348d390-84d5-4c63-9009-3b251ee00cdc",
   "metadata": {},
   "outputs": [
    {
     "name": "stdout",
     "output_type": "stream",
     "text": [
      "vasanth\n"
     ]
    }
   ],
   "source": [
    "a=\"vasanth\"\n",
    "print(a)"
   ]
  },
  {
   "cell_type": "code",
   "execution_count": 3,
   "id": "2956e36a-ce09-459d-adac-71d461ecaa3d",
   "metadata": {},
   "outputs": [
    {
     "name": "stdout",
     "output_type": "stream",
     "text": [
      "7501_vasanth\n"
     ]
    }
   ],
   "source": [
    "a=\"7501_vasanth\"\n",
    "print(a)"
   ]
  },
  {
   "cell_type": "code",
   "execution_count": 4,
   "id": "ffc15592-0a88-4e46-9e65-4b82affb650d",
   "metadata": {},
   "outputs": [
    {
     "name": "stdout",
     "output_type": "stream",
     "text": [
      "124589\n"
     ]
    }
   ],
   "source": [
    "a=124589\n",
    "print(a)"
   ]
  },
  {
   "cell_type": "markdown",
   "id": "853b1b07-6f67-4111-8ba4-dce6c385dd60",
   "metadata": {},
   "source": [
    "# -----single line command----"
   ]
  },
  {
   "cell_type": "code",
   "execution_count": null,
   "id": "602ffbc7-8a76-4cb4-be1c-de787077afc5",
   "metadata": {},
   "outputs": [],
   "source": [
    "#a=10"
   ]
  },
  {
   "cell_type": "markdown",
   "id": "05a08ecd-2b64-428b-ba6d-b5b4c109801a",
   "metadata": {},
   "source": [
    "# ----multi line command----"
   ]
  },
  {
   "cell_type": "code",
   "execution_count": null,
   "id": "a595aabd-b77c-4f7e-aa26-c87942ace75b",
   "metadata": {},
   "outputs": [],
   "source": [
    "'''a=10\n",
    "b=10\n",
    "c=a+b\n",
    "print(c)'''"
   ]
  }
 ],
 "metadata": {
  "kernelspec": {
   "display_name": "Python 3 (ipykernel)",
   "language": "python",
   "name": "python3"
  },
  "language_info": {
   "codemirror_mode": {
    "name": "ipython",
    "version": 3
   },
   "file_extension": ".py",
   "mimetype": "text/x-python",
   "name": "python",
   "nbconvert_exporter": "python",
   "pygments_lexer": "ipython3",
   "version": "3.12.7"
  }
 },
 "nbformat": 4,
 "nbformat_minor": 5
}
