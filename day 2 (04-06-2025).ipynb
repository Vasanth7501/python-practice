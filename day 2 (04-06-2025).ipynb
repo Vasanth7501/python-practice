{
 "cells": [
  {
   "cell_type": "markdown",
   "id": "7dbc0a76-9724-424f-9f85-8c946b00ae03",
   "metadata": {},
   "source": [
    "# -----Assign multiple values------"
   ]
  },
  {
   "cell_type": "code",
   "execution_count": 1,
   "id": "f0d00b65-3882-4e8f-8dd9-c177be545efb",
   "metadata": {},
   "outputs": [
    {
     "name": "stdout",
     "output_type": "stream",
     "text": [
      "85479\n",
      "85479\n",
      "85479\n"
     ]
    }
   ],
   "source": [
    "k=l=m=85479\n",
    "print(k)\n",
    "print(l)\n",
    "print(m)"
   ]
  },
  {
   "cell_type": "markdown",
   "id": "ea4cb4c1-cbd9-481e-a1ea-7b0b5b25fa88",
   "metadata": {},
   "source": [
    "# -----static value---- one time fix the value at the end of portion the same value valuetd-----"
   ]
  },
  {
   "cell_type": "code",
   "execution_count": 2,
   "id": "46d88f12-c083-40c6-a31e-e53cb556e5a5",
   "metadata": {},
   "outputs": [
    {
     "name": "stdout",
     "output_type": "stream",
     "text": [
      "626\n"
     ]
    }
   ],
   "source": [
    "k=101\n",
    "l=525\n",
    "print(k+l)"
   ]
  },
  {
   "cell_type": "code",
   "execution_count": 3,
   "id": "281029d5-9519-4498-8b7d-7e403e0aaa24",
   "metadata": {},
   "outputs": [
    {
     "name": "stdout",
     "output_type": "stream",
     "text": [
      "-424\n"
     ]
    }
   ],
   "source": [
    "print(k-l)"
   ]
  },
  {
   "cell_type": "code",
   "execution_count": 4,
   "id": "3618be64-090d-4ffd-9875-3c491f2e3210",
   "metadata": {},
   "outputs": [
    {
     "name": "stdout",
     "output_type": "stream",
     "text": [
      "-52399\n"
     ]
    }
   ],
   "source": [
    "print(k+l-k*l)"
   ]
  },
  {
   "cell_type": "markdown",
   "id": "8880b66e-2de6-4565-b3d6-7e0001db8659",
   "metadata": {},
   "source": [
    "# ------Dynamic value-----given value for specific need----"
   ]
  },
  {
   "cell_type": "code",
   "execution_count": 5,
   "id": "0bc7b6f3-e64b-4d36-b8d6-07fad0738f75",
   "metadata": {},
   "outputs": [
    {
     "name": "stdin",
     "output_type": "stream",
     "text": [
      "Enter your value: 87\n"
     ]
    },
    {
     "name": "stdout",
     "output_type": "stream",
     "text": [
      "<class 'int'>\n"
     ]
    }
   ],
   "source": [
    "k=int(input(\"Enter your value:\"))\n",
    "print(type(k))"
   ]
  },
  {
   "cell_type": "code",
   "execution_count": 6,
   "id": "fe502901-059b-424b-8b0d-61ecb929355c",
   "metadata": {},
   "outputs": [
    {
     "name": "stdin",
     "output_type": "stream",
     "text": [
      "Enter your value: 98.23\n"
     ]
    },
    {
     "name": "stdout",
     "output_type": "stream",
     "text": [
      "<class 'float'>\n"
     ]
    }
   ],
   "source": [
    "k=float(input(\"Enter your value:\"))\n",
    "print(type(k))"
   ]
  },
  {
   "cell_type": "code",
   "execution_count": 8,
   "id": "19ad9ccf-bc3e-40ff-b765-792c97c28b28",
   "metadata": {},
   "outputs": [
    {
     "name": "stdout",
     "output_type": "stream",
     "text": [
      "<class 'int'>\n"
     ]
    }
   ],
   "source": [
    "k=500\n",
    "print(type(k))"
   ]
  },
  {
   "cell_type": "code",
   "execution_count": 9,
   "id": "b1c28fa4-1a93-4a9d-909a-03782c70c266",
   "metadata": {},
   "outputs": [
    {
     "name": "stdin",
     "output_type": "stream",
     "text": [
      "Enter your value: 8456\n"
     ]
    },
    {
     "name": "stdout",
     "output_type": "stream",
     "text": [
      "<class 'str'>\n"
     ]
    }
   ],
   "source": [
    "my_variable =input(\"Enter your value:\")\n",
    "print(type(my_variable))"
   ]
  },
  {
   "cell_type": "markdown",
   "id": "cb159f3f-1795-4e66-8012-bfe8744b928f",
   "metadata": {},
   "source": [
    "# ---------change data types------int,float,string,complex-------"
   ]
  },
  {
   "cell_type": "markdown",
   "id": "453b5b16-6ad3-481b-9932-629af5fb8b93",
   "metadata": {},
   "source": [
    "#  ----------Casting--------"
   ]
  },
  {
   "cell_type": "markdown",
   "id": "c5f349a2-4c86-488f-a2ca-d30bb1feb46f",
   "metadata": {},
   "source": [
    "# ------int to float,string,complex-------"
   ]
  },
  {
   "cell_type": "code",
   "execution_count": 2,
   "id": "a409fb44-3aa4-4f8c-8d9c-962ff70263ae",
   "metadata": {},
   "outputs": [
    {
     "name": "stdout",
     "output_type": "stream",
     "text": [
      "25.0\n"
     ]
    }
   ],
   "source": [
    "x=25\n",
    "print(float(x))"
   ]
  },
  {
   "cell_type": "code",
   "execution_count": 3,
   "id": "5b284e09-b4b0-480e-81a3-97d82bb9f543",
   "metadata": {},
   "outputs": [
    {
     "name": "stdout",
     "output_type": "stream",
     "text": [
      "25\n"
     ]
    }
   ],
   "source": [
    "x=25\n",
    "print(str(x))"
   ]
  },
  {
   "cell_type": "code",
   "execution_count": 5,
   "id": "606f2993-2876-4a9c-9712-d722fb57ed29",
   "metadata": {},
   "outputs": [
    {
     "name": "stdout",
     "output_type": "stream",
     "text": [
      "(25+0j)\n"
     ]
    }
   ],
   "source": [
    "x=25\n",
    "print(complex(x))\n"
   ]
  },
  {
   "cell_type": "markdown",
   "id": "b996b9f8-c951-401d-a9d7-fdd413b936b9",
   "metadata": {},
   "source": [
    "# -----float to int,str,complex----"
   ]
  },
  {
   "cell_type": "code",
   "execution_count": 9,
   "id": "24557de7-0d69-4e93-a39c-041ae6a0bae7",
   "metadata": {},
   "outputs": [
    {
     "name": "stdout",
     "output_type": "stream",
     "text": [
      "75\n"
     ]
    }
   ],
   "source": [
    "x1=75.23\n",
    "print(int(x1))"
   ]
  },
  {
   "cell_type": "code",
   "execution_count": 7,
   "id": "94ff737b-4e1e-4bf7-8f58-aa6140a3e0ab",
   "metadata": {},
   "outputs": [
    {
     "name": "stdout",
     "output_type": "stream",
     "text": [
      "75.23\n"
     ]
    }
   ],
   "source": [
    "x1=75.23\n",
    "print(str(x1))"
   ]
  },
  {
   "cell_type": "code",
   "execution_count": 8,
   "id": "9e57fd43-fcbc-4e0f-9ae0-05190b8c34b7",
   "metadata": {},
   "outputs": [
    {
     "name": "stdout",
     "output_type": "stream",
     "text": [
      "(75.23+0j)\n"
     ]
    }
   ],
   "source": [
    "x1=75.23\n",
    "print(complex(x1))"
   ]
  },
  {
   "cell_type": "markdown",
   "id": "50dd0aba-84c3-4fcb-a2a4-53b8c675802e",
   "metadata": {},
   "source": [
    "# ----string to int,float,complex---"
   ]
  },
  {
   "cell_type": "code",
   "execution_count": 10,
   "id": "d5a09f84-e31c-4626-8496-0b16eda4c627",
   "metadata": {},
   "outputs": [
    {
     "ename": "ValueError",
     "evalue": "invalid literal for int() with base 10: 'vasanth_7501'",
     "output_type": "error",
     "traceback": [
      "\u001b[1;31m---------------------------------------------------------------------------\u001b[0m",
      "\u001b[1;31mValueError\u001b[0m                                Traceback (most recent call last)",
      "Cell \u001b[1;32mIn[10], line 2\u001b[0m\n\u001b[0;32m      1\u001b[0m x2\u001b[38;5;241m=\u001b[39m\u001b[38;5;124m\"\u001b[39m\u001b[38;5;124mvasanth_7501\u001b[39m\u001b[38;5;124m\"\u001b[39m\n\u001b[1;32m----> 2\u001b[0m \u001b[38;5;28mprint\u001b[39m(\u001b[38;5;28mint\u001b[39m(x2))\n",
      "\u001b[1;31mValueError\u001b[0m: invalid literal for int() with base 10: 'vasanth_7501'"
     ]
    }
   ],
   "source": [
    "x2=\"vasanth_7501\"\n",
    "print(int(x2))"
   ]
  },
  {
   "cell_type": "code",
   "execution_count": 11,
   "id": "90c1126b-5f3f-4618-b4c3-1b19ba201f50",
   "metadata": {},
   "outputs": [
    {
     "ename": "ValueError",
     "evalue": "could not convert string to float: 'vasanth_7501'",
     "output_type": "error",
     "traceback": [
      "\u001b[1;31m---------------------------------------------------------------------------\u001b[0m",
      "\u001b[1;31mValueError\u001b[0m                                Traceback (most recent call last)",
      "Cell \u001b[1;32mIn[11], line 2\u001b[0m\n\u001b[0;32m      1\u001b[0m x2\u001b[38;5;241m=\u001b[39m\u001b[38;5;124m\"\u001b[39m\u001b[38;5;124mvasanth_7501\u001b[39m\u001b[38;5;124m\"\u001b[39m\n\u001b[1;32m----> 2\u001b[0m \u001b[38;5;28mprint\u001b[39m(\u001b[38;5;28mfloat\u001b[39m(x2))\n",
      "\u001b[1;31mValueError\u001b[0m: could not convert string to float: 'vasanth_7501'"
     ]
    }
   ],
   "source": [
    "x2=\"vasanth_7501\"\n",
    "print(float(x2))"
   ]
  },
  {
   "cell_type": "code",
   "execution_count": 12,
   "id": "4b221106-2fe1-4d2b-871b-6f1ea89f849d",
   "metadata": {},
   "outputs": [
    {
     "ename": "ValueError",
     "evalue": "could not convert string to complex: 'vasanth_7501'",
     "output_type": "error",
     "traceback": [
      "\u001b[1;31m---------------------------------------------------------------------------\u001b[0m",
      "\u001b[1;31mValueError\u001b[0m                                Traceback (most recent call last)",
      "Cell \u001b[1;32mIn[12], line 2\u001b[0m\n\u001b[0;32m      1\u001b[0m x2\u001b[38;5;241m=\u001b[39m\u001b[38;5;124m\"\u001b[39m\u001b[38;5;124mvasanth_7501\u001b[39m\u001b[38;5;124m\"\u001b[39m\n\u001b[1;32m----> 2\u001b[0m \u001b[38;5;28mprint\u001b[39m(\u001b[38;5;28mcomplex\u001b[39m(x2))\n",
      "\u001b[1;31mValueError\u001b[0m: could not convert string to complex: 'vasanth_7501'"
     ]
    }
   ],
   "source": [
    "x2=\"vasanth_7501\"\n",
    "print(complex(x2))"
   ]
  },
  {
   "cell_type": "markdown",
   "id": "b6f6ae8a-f4e3-4a35-a484-55f9c1295a06",
   "metadata": {},
   "source": [
    "# ------complex to int ,float,string-----"
   ]
  },
  {
   "cell_type": "code",
   "execution_count": 13,
   "id": "b6a0af08-29aa-4391-a18f-f7442d6fcb4e",
   "metadata": {},
   "outputs": [
    {
     "ename": "TypeError",
     "evalue": "int() argument must be a string, a bytes-like object or a real number, not 'complex'",
     "output_type": "error",
     "traceback": [
      "\u001b[1;31m---------------------------------------------------------------------------\u001b[0m",
      "\u001b[1;31mTypeError\u001b[0m                                 Traceback (most recent call last)",
      "Cell \u001b[1;32mIn[13], line 2\u001b[0m\n\u001b[0;32m      1\u001b[0m x3\u001b[38;5;241m=\u001b[39m\u001b[38;5;241m5\u001b[39m\u001b[38;5;241m+\u001b[39m\u001b[38;5;241m6\u001b[39mj\n\u001b[1;32m----> 2\u001b[0m \u001b[38;5;28mprint\u001b[39m(\u001b[38;5;28mint\u001b[39m(x3))\n",
      "\u001b[1;31mTypeError\u001b[0m: int() argument must be a string, a bytes-like object or a real number, not 'complex'"
     ]
    }
   ],
   "source": [
    "x3=5+6j\n",
    "print(int(x3))"
   ]
  },
  {
   "cell_type": "code",
   "execution_count": 14,
   "id": "b6e35060-f25b-42be-89a2-d36a70d7410f",
   "metadata": {},
   "outputs": [
    {
     "ename": "TypeError",
     "evalue": "float() argument must be a string or a real number, not 'complex'",
     "output_type": "error",
     "traceback": [
      "\u001b[1;31m---------------------------------------------------------------------------\u001b[0m",
      "\u001b[1;31mTypeError\u001b[0m                                 Traceback (most recent call last)",
      "Cell \u001b[1;32mIn[14], line 2\u001b[0m\n\u001b[0;32m      1\u001b[0m x3\u001b[38;5;241m=\u001b[39m\u001b[38;5;241m5\u001b[39m\u001b[38;5;241m+\u001b[39m\u001b[38;5;241m6\u001b[39mj\n\u001b[1;32m----> 2\u001b[0m \u001b[38;5;28mprint\u001b[39m(\u001b[38;5;28mfloat\u001b[39m(x3))\n",
      "\u001b[1;31mTypeError\u001b[0m: float() argument must be a string or a real number, not 'complex'"
     ]
    }
   ],
   "source": [
    "x3=5+6j\n",
    "print(float(x3))"
   ]
  },
  {
   "cell_type": "code",
   "execution_count": 15,
   "id": "7fa18dbe-52c4-48c9-b828-d9d77963be1b",
   "metadata": {},
   "outputs": [
    {
     "name": "stdout",
     "output_type": "stream",
     "text": [
      "(5+6j)\n"
     ]
    }
   ],
   "source": [
    "x3=5+6J\n",
    "print(str(x3))"
   ]
  },
  {
   "cell_type": "code",
   "execution_count": null,
   "id": "6406c8fd-af21-4a32-8d69-f1807be207d8",
   "metadata": {},
   "outputs": [],
   "source": []
  }
 ],
 "metadata": {
  "kernelspec": {
   "display_name": "Python 3 (ipykernel)",
   "language": "python",
   "name": "python3"
  },
  "language_info": {
   "codemirror_mode": {
    "name": "ipython",
    "version": 3
   },
   "file_extension": ".py",
   "mimetype": "text/x-python",
   "name": "python",
   "nbconvert_exporter": "python",
   "pygments_lexer": "ipython3",
   "version": "3.12.7"
  }
 },
 "nbformat": 4,
 "nbformat_minor": 5
}
