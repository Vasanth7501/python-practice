{
 "cells": [
  {
   "cell_type": "markdown",
   "id": "c7921f2e-7735-4450-97b7-12843a7d33b7",
   "metadata": {},
   "source": [
    "#  function error handling"
   ]
  },
  {
   "cell_type": "code",
   "execution_count": 18,
   "id": "9b435371-1eee-42d6-b952-561d9dabfdc5",
   "metadata": {},
   "outputs": [
    {
     "name": "stdin",
     "output_type": "stream",
     "text": [
      " 14\n",
      " 14\n",
      " +\n"
     ]
    },
    {
     "name": "stdout",
     "output_type": "stream",
     "text": [
      "Result: 28.0\n",
      "Execution successfully completed\n"
     ]
    }
   ],
   "source": [
    "def simple_calculator(x, y, operation):\n",
    " try:\n",
    "    if operation == '+':\n",
    "        x += y\n",
    "    elif operation == '-':\n",
    "        x -= y\n",
    "    elif operation == '*':\n",
    "        x *= y\n",
    "    elif operation == '/':\n",
    "        x /= y\n",
    "    elif operation == '%':\n",
    "        x %= y\n",
    "    elif operation == '//':\n",
    "        x //= y\n",
    "    elif operation == '**':\n",
    "        x **= y\n",
    "    elif operation == '&':\n",
    "        x &= y\n",
    "    elif operation == '|':\n",
    "        x |= y\n",
    "    elif operation == '^':\n",
    "        x ^= y\n",
    "    elif operation == '<<':\n",
    "        x <<= y\n",
    "    elif operation == '>>':\n",
    "        x >>= y\n",
    "    else:\n",
    "        return \"Invalid operation\"\n",
    "    return x\n",
    " \n",
    " except ZeroDivisionError:\n",
    "    return \"Error : Division  by zero is not allowed\"\n",
    " except ValueError:\n",
    "     return \"Error : Invalid value provided\"\n",
    " except Exception as e:\n",
    "     return \"Error: e\"\n",
    "\n",
    "try:\n",
    " x=float(input())\n",
    " y=float(input())\n",
    " operation=input()\n",
    " result = simple_calculator(x, y, operation)  \n",
    " print(\"Result:\", result)\n",
    "except ValueError:\n",
    " print(\"please enter valid numeric input\")\n",
    "finally:\n",
    "    print(\"Execution successfully completed\")\n"
   ]
  },
  {
   "cell_type": "code",
   "execution_count": 16,
   "id": "141e0237-b982-4b21-b7c8-4b7dcb030f2b",
   "metadata": {},
   "outputs": [
    {
     "name": "stdout",
     "output_type": "stream",
     "text": [
      "name error\n"
     ]
    }
   ],
   "source": [
    "try :\n",
    "    a=15\n",
    "    b=0\n",
    "    print(a/c)\n",
    "except:\n",
    "    print(\"name error\")\n",
    "    "
   ]
  },
  {
   "cell_type": "code",
   "execution_count": null,
   "id": "8d9a6e1e-a5c4-4ac7-910e-4acb95fff201",
   "metadata": {},
   "outputs": [],
   "source": [
    "try:\n",
    "    a=10\n",
    "    b="
   ]
  },
  {
   "cell_type": "code",
   "execution_count": 19,
   "id": "f60e77a7-0011-4e01-98cc-e8c5b3ee9a8e",
   "metadata": {},
   "outputs": [
    {
     "name": "stdout",
     "output_type": "stream",
     "text": [
      "pls enter valid input \n"
     ]
    }
   ],
   "source": [
    "try:\n",
    "    a=10\n",
    "    b=0\n",
    "    print(a/b)\n",
    "except NameError:\n",
    "    print(\"name error\")\n",
    "except ZeroDivisionError:\n",
    "    print(\"pls enter valid input \")"
   ]
  },
  {
   "cell_type": "code",
   "execution_count": 21,
   "id": "b42bb54f-4c26-4360-ae85-0e0153733d87",
   "metadata": {},
   "outputs": [
    {
     "name": "stdout",
     "output_type": "stream",
     "text": [
      "0\n",
      "final\n"
     ]
    }
   ],
   "source": [
    "try:\n",
    "    a=10\n",
    "    print(b)\n",
    "except NameError:\n",
    "    print(\"name error\")\n",
    "except ZeroDivisionError:\n",
    "    print(\"ZeroDivisionError error\")\n",
    "finally:\n",
    "    print(\"final\")"
   ]
  },
  {
   "cell_type": "code",
   "execution_count": 26,
   "id": "e22d92ef-eeb5-4230-a174-8a148608efa0",
   "metadata": {},
   "outputs": [
    {
     "name": "stdout",
     "output_type": "stream",
     "text": [
      "name 'c' is not defined\n"
     ]
    }
   ],
   "source": [
    "try:\n",
    "    a=10\n",
    "    b=0\n",
    "    print(a/c)\n",
    "except Exception as a:\n",
    "    print(a)"
   ]
  },
  {
   "cell_type": "code",
   "execution_count": 27,
   "id": "713dce83-1914-4814-a213-993f56eeb74e",
   "metadata": {},
   "outputs": [
    {
     "name": "stdin",
     "output_type": "stream",
     "text": [
      "Enter a number:  14\n"
     ]
    },
    {
     "name": "stdout",
     "output_type": "stream",
     "text": [
      "Result: 0.7142857142857143\n",
      "Execution completed (Success or Failure)\n"
     ]
    }
   ],
   "source": [
    "try:\n",
    "    num = int(input(\"Enter a number: \"))\n",
    "    result = 10 / num\n",
    "    print(\"Result:\", result)\n",
    "except ValueError:\n",
    "    print(\"Error: Invalid input\")\n",
    "except ZeroDivisionError:\n",
    "    print(\"Error: Cannot divide by zero\")\n",
    "finally:\n",
    "    print(\"Execution completed (Success or Failure)\")"
   ]
  },
  {
   "cell_type": "code",
   "execution_count": null,
   "id": "a007f40a-4d61-4371-9b02-ae1636d21f0f",
   "metadata": {},
   "outputs": [],
   "source": []
  }
 ],
 "metadata": {
  "kernelspec": {
   "display_name": "Python 3 (ipykernel)",
   "language": "python",
   "name": "python3"
  },
  "language_info": {
   "codemirror_mode": {
    "name": "ipython",
    "version": 3
   },
   "file_extension": ".py",
   "mimetype": "text/x-python",
   "name": "python",
   "nbconvert_exporter": "python",
   "pygments_lexer": "ipython3",
   "version": "3.12.7"
  }
 },
 "nbformat": 4,
 "nbformat_minor": 5
}
