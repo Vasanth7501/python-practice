{
 "cells": [
  {
   "cell_type": "markdown",
   "id": "dc2fb1c6-50e1-4341-956e-a34de01712ed",
   "metadata": {},
   "source": [
    "# Tuple\n",
    "# Tuples are used to store multiple items in a single variable.\n",
    "\n",
    "# Tuple is one of 4 built-in data types in Python used to store collections of data, the other 3 are List, Set, and Dictionary, all with different qualities and usage.\n",
    "\n",
    "# A tuple is a collection which is ordered and unchangeable.\n",
    "\n",
    "# Tuples are written with round brackets.\n",
    "\n",
    "# Allow dupilcates"
   ]
  },
  {
   "cell_type": "code",
   "execution_count": 1,
   "id": "3f1b2489-b9a5-4b2c-b2f3-77fa2d7437be",
   "metadata": {},
   "outputs": [
    {
     "name": "stdout",
     "output_type": "stream",
     "text": [
      "('apple', 'banana', 'cherry')\n",
      "<class 'tuple'>\n"
     ]
    }
   ],
   "source": [
    "mytuple = (\"apple\", \"banana\", \"cherry\")\n",
    "print(mytuple)\n",
    "print(type(mytuple))"
   ]
  },
  {
   "cell_type": "code",
   "execution_count": 2,
   "id": "0cbe6c80-b23a-4aef-ad42-31bdcca0ab16",
   "metadata": {},
   "outputs": [
    {
     "name": "stdout",
     "output_type": "stream",
     "text": [
      "<class 'list'>\n"
     ]
    }
   ],
   "source": [
    "mylist1 = [\"apple\", \"banana\", \"cherry\"]\n",
    "print(type(mylist1))"
   ]
  },
  {
   "cell_type": "markdown",
   "id": "ff3d4d7a-f32d-4fd8-80bd-c6b96046c366",
   "metadata": {},
   "source": [
    "# insert values"
   ]
  },
  {
   "cell_type": "code",
   "execution_count": 3,
   "id": "504cfeee-661f-4a01-884a-45ec52cfd8d8",
   "metadata": {},
   "outputs": [
    {
     "name": "stdout",
     "output_type": "stream",
     "text": [
      "[1, 2, 3, 4, 6, 88]\n"
     ]
    },
    {
     "data": {
      "text/plain": [
       "(1, 2, 3, 4, 6, 88)"
      ]
     },
     "execution_count": 3,
     "metadata": {},
     "output_type": "execute_result"
    }
   ],
   "source": [
    "t=(1,2,3,4,6)\n",
    "l=list(t)\n",
    "\n",
    "l.append(88)\n",
    "print(l)\n",
    "t=tuple(l)\n",
    "t"
   ]
  },
  {
   "cell_type": "code",
   "execution_count": 5,
   "id": "9a350a30-9861-4ceb-bdcf-f4a5ac635acc",
   "metadata": {},
   "outputs": [
    {
     "name": "stdout",
     "output_type": "stream",
     "text": [
      "[5, 7, 8, 9, 5, 6, 88]\n",
      "(5, 7, 8, 9, 5, 6, 88)\n"
     ]
    }
   ],
   "source": [
    "k=(5,7,8,9,5,6)\n",
    "l=list(k)\n",
    "l.append(88)\n",
    "print(l)\n",
    "k=tuple(l)\n",
    "print(k)\n"
   ]
  },
  {
   "cell_type": "code",
   "execution_count": 6,
   "id": "cdf9d6e5-2dfe-440a-8ca3-dd5310120d76",
   "metadata": {},
   "outputs": [
    {
     "name": "stdout",
     "output_type": "stream",
     "text": [
      "('banana', 'cherry', 'hello')\n"
     ]
    }
   ],
   "source": [
    "mytuple = (\"apple\", \"banana\", \"cherry\",\"hello\")\n",
    "print(mytuple[1:])"
   ]
  },
  {
   "cell_type": "code",
   "execution_count": 7,
   "id": "af09e2ec-747f-4554-a95d-b3e00c0c7ca9",
   "metadata": {},
   "outputs": [
    {
     "name": "stdout",
     "output_type": "stream",
     "text": [
      "('banana', 'cherry', 'hello')\n"
     ]
    }
   ],
   "source": [
    "mytuple = (\"apple\", \"banana\", \"cherry\",\"hello\")\n",
    "print(mytuple[1:5])"
   ]
  },
  {
   "cell_type": "code",
   "execution_count": 8,
   "id": "4f8c427d-4fd7-4b4e-b7cf-2ed0035aae8a",
   "metadata": {},
   "outputs": [
    {
     "name": "stdout",
     "output_type": "stream",
     "text": [
      "('apple', 'banana', 'cherry', 'hello')\n"
     ]
    }
   ],
   "source": [
    "mytuple = (\"apple\", \"banana\", \"cherry\",\"hello\")\n",
    "print(mytuple[0:])"
   ]
  },
  {
   "cell_type": "code",
   "execution_count": 10,
   "id": "3a10f518-075b-47b4-beb9-0d84c9aee4bf",
   "metadata": {},
   "outputs": [
    {
     "name": "stdout",
     "output_type": "stream",
     "text": [
      "('apple', 'banana', 'cherry', 'orange', 'kiwi', 'melon')\n"
     ]
    }
   ],
   "source": [
    "mylist = (\"apple\", \"banana\", \"cherry\", \"orange\", \"kiwi\", \"melon\", \"mango\")\n",
    "print(mylist[:6])"
   ]
  },
  {
   "cell_type": "markdown",
   "id": "2d5dc155-fc7f-494e-81e3-84593c03253d",
   "metadata": {},
   "source": [
    "# Changed value based on index"
   ]
  },
  {
   "cell_type": "code",
   "execution_count": 11,
   "id": "b7c870ed-5651-4586-841a-68530ce14642",
   "metadata": {},
   "outputs": [
    {
     "name": "stdout",
     "output_type": "stream",
     "text": [
      "('apple', 'kiwi', 'cherry')\n"
     ]
    }
   ],
   "source": [
    "x = (\"apple\", \"banana\", \"cherry\")\n",
    "y = list(x)\n",
    "y[1] = \"kiwi\"\n",
    "x = tuple(y)\n",
    "\n",
    "print(x)"
   ]
  },
  {
   "cell_type": "code",
   "execution_count": 13,
   "id": "7ac5092d-3c05-4148-925e-fd6cb9fd6233",
   "metadata": {},
   "outputs": [
    {
     "name": "stdout",
     "output_type": "stream",
     "text": [
      "('apple', 'banana', 'orange')\n"
     ]
    }
   ],
   "source": [
    "x = (\"apple\", \"banana\", \"cherry\")\n",
    "y=list(x)\n",
    "y[2]=\"orange\"\n",
    "x=tuple(y)\n",
    "print(x)"
   ]
  },
  {
   "cell_type": "code",
   "execution_count": 14,
   "id": "23da75be-ee1f-410a-8f94-57fb07793af2",
   "metadata": {},
   "outputs": [
    {
     "name": "stdout",
     "output_type": "stream",
     "text": [
      "apple\n",
      "banana\n",
      "cherry\n"
     ]
    }
   ],
   "source": [
    "veg = (\"apple\", \"banana\", \"cherry\")\n",
    "\n",
    "(green, yellow, red) = veg\n",
    "\n",
    "print(green)\n",
    "print(yellow)\n",
    "print(red)"
   ]
  },
  {
   "cell_type": "code",
   "execution_count": 24,
   "id": "4283c64f-0f7d-4992-b2d8-12bfc22d7a94",
   "metadata": {},
   "outputs": [
    {
     "ename": "SyntaxError",
     "evalue": "cannot assign to literal (2780239553.py, line 2)",
     "output_type": "error",
     "traceback": [
      "\u001b[1;36m  Cell \u001b[1;32mIn[24], line 2\u001b[1;36m\u001b[0m\n\u001b[1;33m    (9,8,7,6,2,3) = num\u001b[0m\n\u001b[1;37m     ^\u001b[0m\n\u001b[1;31mSyntaxError\u001b[0m\u001b[1;31m:\u001b[0m cannot assign to literal\n"
     ]
    }
   ],
   "source": [
    "num=(99,88,77,66,22,33)\n",
    "(9,8,7,6,2,3) = num\n",
    "\n",
    "print(9)\n",
    "print(8)\n",
    "print(7)\n",
    "print(2)\n",
    "print(3)"
   ]
  },
  {
   "cell_type": "code",
   "execution_count": 26,
   "id": "420b55ca-8deb-4043-a6f3-962d193986ce",
   "metadata": {},
   "outputs": [
    {
     "name": "stdout",
     "output_type": "stream",
     "text": [
      "Vasanth\n",
      "Mohan\n"
     ]
    }
   ],
   "source": [
    "name=(\"Vasanth\",\"Mohan\")\n",
    "(name,Friend) = name\n",
    "print(name)\n",
    "print(Friend)"
   ]
  },
  {
   "cell_type": "code",
   "execution_count": 27,
   "id": "53ba5f5b-3a24-4e90-84fc-9c2a55189624",
   "metadata": {},
   "outputs": [
    {
     "ename": "ValueError",
     "evalue": "too many values to unpack (expected 3)",
     "output_type": "error",
     "traceback": [
      "\u001b[1;31m---------------------------------------------------------------------------\u001b[0m",
      "\u001b[1;31mValueError\u001b[0m                                Traceback (most recent call last)",
      "Cell \u001b[1;32mIn[27], line 3\u001b[0m\n\u001b[0;32m      1\u001b[0m veg \u001b[38;5;241m=\u001b[39m (\u001b[38;5;124m\"\u001b[39m\u001b[38;5;124mapple\u001b[39m\u001b[38;5;124m\"\u001b[39m, \u001b[38;5;124m\"\u001b[39m\u001b[38;5;124mbanana\u001b[39m\u001b[38;5;124m\"\u001b[39m, \u001b[38;5;124m\"\u001b[39m\u001b[38;5;124mcherry\u001b[39m\u001b[38;5;124m\"\u001b[39m, \u001b[38;5;124m\"\u001b[39m\u001b[38;5;124mstrawberry\u001b[39m\u001b[38;5;124m\"\u001b[39m, \u001b[38;5;124m\"\u001b[39m\u001b[38;5;124mraspberry\u001b[39m\u001b[38;5;124m\"\u001b[39m)\n\u001b[1;32m----> 3\u001b[0m (green, yellow,red) \u001b[38;5;241m=\u001b[39m veg\n\u001b[0;32m      5\u001b[0m \u001b[38;5;28mprint\u001b[39m(green)\n\u001b[0;32m      6\u001b[0m \u001b[38;5;28mprint\u001b[39m(yellow)\n",
      "\u001b[1;31mValueError\u001b[0m: too many values to unpack (expected 3)"
     ]
    }
   ],
   "source": [
    "veg = (\"apple\", \"banana\", \"cherry\", \"strawberry\", \"raspberry\")\n",
    "\n",
    "(green, yellow,red) = veg\n",
    "\n",
    "print(green)\n",
    "print(yellow)\n",
    "print(red)"
   ]
  },
  {
   "cell_type": "code",
   "execution_count": 28,
   "id": "6e43ba5d-a445-4c85-8716-9bf6a36b5754",
   "metadata": {},
   "outputs": [
    {
     "name": "stdout",
     "output_type": "stream",
     "text": [
      "apple\n",
      "['mango', 'papaya', 'pineapple', 'cherry', 9, 0, 0]\n",
      "78\n",
      "778\n"
     ]
    }
   ],
   "source": [
    "veg = (\"apple\", \"mango\", \"papaya\", \"pineapple\", \"cherry\",9,0,0,78,778)\n",
    "\n",
    "(green, *tropic,yellow,red) = veg\n",
    "\n",
    "print(green)\n",
    "print(tropic)\n",
    "print(yellow)\n",
    "print(red)"
   ]
  },
  {
   "cell_type": "code",
   "execution_count": 29,
   "id": "1020932e-d45f-48e4-9301-a559f5b565be",
   "metadata": {},
   "outputs": [
    {
     "name": "stdout",
     "output_type": "stream",
     "text": [
      "apple\n",
      "banana\n",
      "cherry\n"
     ]
    }
   ],
   "source": [
    "mytuple = (\"apple\", \"banana\", \"cherry\")\n",
    "for i in mytuple:\n",
    "  print(i)"
   ]
  },
  {
   "cell_type": "code",
   "execution_count": 30,
   "id": "8e0a17d8-47d8-4706-90a3-6fda1b89e539",
   "metadata": {},
   "outputs": [
    {
     "name": "stdout",
     "output_type": "stream",
     "text": [
      "7\n",
      "8\n",
      "9\n",
      "10\n",
      "11\n",
      "22\n",
      "33\n"
     ]
    }
   ],
   "source": [
    "k=(7,8,9,10,11,22,33)\n",
    "for i in k:\n",
    "    print(i)"
   ]
  },
  {
   "cell_type": "code",
   "execution_count": 31,
   "id": "3040f293-303b-408f-b97d-a7fc291c4933",
   "metadata": {},
   "outputs": [
    {
     "name": "stdout",
     "output_type": "stream",
     "text": [
      "apple\n",
      "banana\n",
      "cherry\n"
     ]
    }
   ],
   "source": [
    "mylist = (\"apple\", \"banana\", \"cherry\")\n",
    "for i in range(len(mylist)):\n",
    "  print(mylist[i])\n",
    "    "
   ]
  },
  {
   "cell_type": "code",
   "execution_count": 32,
   "id": "37d3ecda-8631-473f-9a75-5c14130acd71",
   "metadata": {},
   "outputs": [
    {
     "name": "stdout",
     "output_type": "stream",
     "text": [
      "('a', 'b', 'c', 1, 2, 3)\n"
     ]
    }
   ],
   "source": [
    "mytuple1 = (\"a\", \"b\" , \"c\")\n",
    "mytuple2 = (1, 2, 3)\n",
    "\n",
    "mytuple3 = mytuple1 + mytuple2\n",
    "print(mytuple3)"
   ]
  },
  {
   "cell_type": "code",
   "execution_count": 36,
   "id": "ec47d08c-39bc-4936-bfab-2666a9260f94",
   "metadata": {},
   "outputs": [
    {
     "name": "stdout",
     "output_type": "stream",
     "text": [
      "(456, 789, 123, 741, 852, 963)\n",
      "456\n",
      "789\n",
      "123\n",
      "741\n",
      "852\n",
      "963\n"
     ]
    }
   ],
   "source": [
    "a=(456,789,123)\n",
    "b=(741,852,963)\n",
    "c=a+b\n",
    "print(c)\n",
    "for j in c:\n",
    "    print(j)"
   ]
  },
  {
   "cell_type": "code",
   "execution_count": 37,
   "id": "043b5170-db65-4b78-a139-528d9c4c45b6",
   "metadata": {},
   "outputs": [
    {
     "name": "stdout",
     "output_type": "stream",
     "text": [
      "4\n"
     ]
    }
   ],
   "source": [
    "mylist = (1, 3,8, 7, 5, 4, 6, 8, 5)\n",
    "\n",
    "x = mylist.index(5)\n",
    "\n",
    "print(x)"
   ]
  },
  {
   "cell_type": "code",
   "execution_count": 38,
   "id": "fbd6edfa-f8f9-457a-b4be-ba824195cb91",
   "metadata": {},
   "outputs": [
    {
     "name": "stdout",
     "output_type": "stream",
     "text": [
      "2\n"
     ]
    }
   ],
   "source": [
    "mynum=(4,5,6,7,8,9,10)\n",
    "y=mynum.index(6)\n",
    "print(y)"
   ]
  },
  {
   "cell_type": "code",
   "execution_count": 39,
   "id": "1a3615c4-d315-4b94-ab7d-068b55800c27",
   "metadata": {},
   "outputs": [
    {
     "name": "stdout",
     "output_type": "stream",
     "text": [
      "2\n"
     ]
    }
   ],
   "source": [
    "mytuple = (1, 3, 7, 8, 7, 5, 4, 6, 8, 5)\n",
    "\n",
    "x = mytuple.count(7)\n",
    "\n",
    "print(x)"
   ]
  },
  {
   "cell_type": "code",
   "execution_count": 42,
   "id": "677c13fe-b67d-4083-84e8-c142a3f17f8d",
   "metadata": {},
   "outputs": [
    {
     "name": "stdout",
     "output_type": "stream",
     "text": [
      "2\n",
      "1\n"
     ]
    }
   ],
   "source": [
    "mynum=(8,5,9,8,6,3)\n",
    "y=mynum.count(8)\n",
    "k=mynum.count(9)\n",
    "print(y)\n",
    "print(k)"
   ]
  },
  {
   "cell_type": "code",
   "execution_count": 43,
   "id": "55a15c90-a5c6-41b8-a9cc-ef4ec0f73bba",
   "metadata": {},
   "outputs": [
    {
     "data": {
      "text/plain": [
       "(1, 3, 7, 8, 7, 5, 4, 6, 8, 5, 'hi')"
      ]
     },
     "execution_count": 43,
     "metadata": {},
     "output_type": "execute_result"
    }
   ],
   "source": [
    "mytuple = (1, 3, 7, 8, 7, 5, 4, 6, 8, 5)\n",
    "list1=list(mytuple)\n",
    "list1.append(\"hi\")\n",
    "mytuple=tuple(list1)\n",
    "mytuple"
   ]
  },
  {
   "cell_type": "code",
   "execution_count": 46,
   "id": "0376c805-75c0-4108-bd1e-6b929fa76826",
   "metadata": {},
   "outputs": [
    {
     "name": "stdout",
     "output_type": "stream",
     "text": [
      "(1, 2, 3, 4, 56, 7, 8, 9, 'vasanth')\n"
     ]
    }
   ],
   "source": [
    "k=(1,2,3,4,56,7,8,9)\n",
    "k1=list(k)\n",
    "k1.append(\"vasanth\")\n",
    "k=tuple(k1)\n",
    "print(k)"
   ]
  },
  {
   "cell_type": "code",
   "execution_count": 47,
   "id": "0cd0cd4a-a8ad-463d-a127-39b6ffaefa08",
   "metadata": {},
   "outputs": [
    {
     "name": "stdout",
     "output_type": "stream",
     "text": [
      "[1, 32, 5, 870, 90, 67, 349]\n"
     ]
    }
   ],
   "source": [
    "k=(1,32,5,870,90)\n",
    "k1=(67,349)\n",
    "k=(list(k)+list(k1))\n",
    "print(k)"
   ]
  },
  {
   "cell_type": "code",
   "execution_count": 48,
   "id": "00d14607-9716-4842-8c64-2a65bda15378",
   "metadata": {},
   "outputs": [
    {
     "name": "stdout",
     "output_type": "stream",
     "text": [
      "(1, 32, 5, 90)\n"
     ]
    }
   ],
   "source": [
    "k=(1,32,5,870,90)\n",
    "k1=list(k)\n",
    "k1.remove(870)\n",
    "k=tuple(k1)\n",
    "print(k)"
   ]
  },
  {
   "cell_type": "code",
   "execution_count": null,
   "id": "20e9f140-0b3f-458c-b9a3-c5d0e55d8118",
   "metadata": {},
   "outputs": [],
   "source": []
  }
 ],
 "metadata": {
  "kernelspec": {
   "display_name": "Python 3 (ipykernel)",
   "language": "python",
   "name": "python3"
  },
  "language_info": {
   "codemirror_mode": {
    "name": "ipython",
    "version": 3
   },
   "file_extension": ".py",
   "mimetype": "text/x-python",
   "name": "python",
   "nbconvert_exporter": "python",
   "pygments_lexer": "ipython3",
   "version": "3.12.7"
  }
 },
 "nbformat": 4,
 "nbformat_minor": 5
}
