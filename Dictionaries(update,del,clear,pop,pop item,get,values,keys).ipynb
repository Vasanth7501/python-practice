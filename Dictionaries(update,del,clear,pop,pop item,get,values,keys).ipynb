{
 "cells": [
  {
   "cell_type": "markdown",
   "id": "53850388-d8da-47e4-ae2f-401bc9c75f38",
   "metadata": {},
   "source": [
    "# Dictionaries \n",
    "# Dictionaries are used to store data values in ----key:value---- pairs.\n",
    "# A dictionary is a collection which is ordered*, changeable and do not allow duplicates."
   ]
  },
  {
   "cell_type": "code",
   "execution_count": 1,
   "id": "54ddf42c-0616-4201-a260-3745eeed4325",
   "metadata": {},
   "outputs": [
    {
     "data": {
      "text/plain": [
       "1964"
      ]
     },
     "execution_count": 1,
     "metadata": {},
     "output_type": "execute_result"
    }
   ],
   "source": [
    "mydict = {\"brand\": \"Ford\",\"model\": \"Mustang\",\"year\": 1964}\n",
    "\n",
    "mydict[\"year\"]\n"
   ]
  },
  {
   "cell_type": "code",
   "execution_count": 4,
   "id": "5191ac9c-3bea-40af-8ccf-d6c7b4467458",
   "metadata": {},
   "outputs": [
    {
     "data": {
      "text/plain": [
       "'Mustang'"
      ]
     },
     "execution_count": 4,
     "metadata": {},
     "output_type": "execute_result"
    }
   ],
   "source": [
    "mydict = {\"brand\": \"Ford\",\"model\": \"Mustang\",\"year\": 1964}\n",
    "\n",
    "mydict[\"model\"]"
   ]
  },
  {
   "cell_type": "code",
   "execution_count": 5,
   "id": "4baadcb1-2f61-44d1-8af0-96b1afe110fd",
   "metadata": {},
   "outputs": [
    {
     "data": {
      "text/plain": [
       "{'stu1': 90, 'stu2': 89, 'stu3': 90, 'stu4': 789}"
      ]
     },
     "execution_count": 5,
     "metadata": {},
     "output_type": "execute_result"
    }
   ],
   "source": [
    "mark={\"stu1\":90,\"stu2\":89,\"stu3\":90}\n",
    "mark[\"stu4\"]=789\n",
    "mark"
   ]
  },
  {
   "cell_type": "code",
   "execution_count": 6,
   "id": "457e6208-dc70-4eed-9f1e-353353b1b786",
   "metadata": {},
   "outputs": [
    {
     "name": "stdout",
     "output_type": "stream",
     "text": [
      "{'name': 'vasanth', 'age': 25, 'gender': 'male'}\n"
     ]
    }
   ],
   "source": [
    "data={\"name\":\"vasanth\",\"age\":25,\"gender\":\"male\"}\n",
    "print(data)"
   ]
  },
  {
   "cell_type": "code",
   "execution_count": 7,
   "id": "aff325c2-e630-4f66-9778-c00e29929eae",
   "metadata": {},
   "outputs": [
    {
     "name": "stdout",
     "output_type": "stream",
     "text": [
      "<class 'dict'>\n"
     ]
    }
   ],
   "source": [
    "print(type(data))"
   ]
  },
  {
   "cell_type": "code",
   "execution_count": 13,
   "id": "69aae546-c6e8-4243-813f-aff107abf1eb",
   "metadata": {},
   "outputs": [
    {
     "name": "stdout",
     "output_type": "stream",
     "text": [
      "{'name': 'vasanth', 'age': 26, 'gender': 'male'}\n"
     ]
    }
   ],
   "source": [
    "data[\"age\"]=26\n",
    "print(data)"
   ]
  },
  {
   "cell_type": "code",
   "execution_count": 14,
   "id": "c7c43047-30de-4686-9409-d88c253a887b",
   "metadata": {},
   "outputs": [
    {
     "data": {
      "text/plain": [
       "'vasanth'"
      ]
     },
     "execution_count": 14,
     "metadata": {},
     "output_type": "execute_result"
    }
   ],
   "source": [
    "data[\"name\"]"
   ]
  },
  {
   "cell_type": "code",
   "execution_count": 15,
   "id": "2066d959-2a1a-49bc-a907-ac663451e412",
   "metadata": {},
   "outputs": [
    {
     "name": "stdout",
     "output_type": "stream",
     "text": [
      "3\n"
     ]
    }
   ],
   "source": [
    "print(len(data))"
   ]
  },
  {
   "cell_type": "markdown",
   "id": "818aa237-66ba-4d58-93e6-d647ba8b541f",
   "metadata": {},
   "source": [
    "# Get"
   ]
  },
  {
   "cell_type": "code",
   "execution_count": 26,
   "id": "31a081fa-92ba-4833-afce-82f222534cf1",
   "metadata": {},
   "outputs": [
    {
     "data": {
      "text/plain": [
       "25"
      ]
     },
     "execution_count": 26,
     "metadata": {},
     "output_type": "execute_result"
    }
   ],
   "source": [
    "data={\"name\":\"vasanth\",\"age\":25,\"gender\":\"male\"}\n",
    "x=data.get(\"age\")\n",
    "x"
   ]
  },
  {
   "cell_type": "code",
   "execution_count": 27,
   "id": "6a215533-e154-447b-8818-36e718b902a3",
   "metadata": {},
   "outputs": [
    {
     "name": "stdout",
     "output_type": "stream",
     "text": [
      "{'name': 'vasanth', 'age': 25, 'gender': 'male'}\n"
     ]
    }
   ],
   "source": [
    "print(data)"
   ]
  },
  {
   "cell_type": "code",
   "execution_count": 28,
   "id": "d7b08c2f-172a-4e29-8b69-033cff45d41b",
   "metadata": {},
   "outputs": [
    {
     "name": "stdout",
     "output_type": "stream",
     "text": [
      "{'name': 'vasanth', 'age': 25, 'gender': 'male', 'course': 'Data Analyst'}\n"
     ]
    }
   ],
   "source": [
    "data={\"name\":\"vasanth\",\"age\":25,\"gender\":\"male\"}\n",
    "data[\"course\"]=\"Data Analyst\"\n",
    "print(data)\n",
    "\n"
   ]
  },
  {
   "cell_type": "markdown",
   "id": "e4c34331-d7f2-4490-8cd9-db96443cba2d",
   "metadata": {},
   "source": [
    "# Values"
   ]
  },
  {
   "cell_type": "code",
   "execution_count": 35,
   "id": "88dce19b-a0dd-49b0-af34-07d40ca16e58",
   "metadata": {},
   "outputs": [
    {
     "name": "stdout",
     "output_type": "stream",
     "text": [
      "dict_values(['vasanth', 25, 'male', 'Data Analyst'])\n"
     ]
    }
   ],
   "source": [
    "data={'name': 'vasanth', 'age': 25, 'gender': 'male', 'course': 'Data Analyst'}\n",
    "x=data.values()\n",
    "print(x)"
   ]
  },
  {
   "cell_type": "code",
   "execution_count": 37,
   "id": "1933490d-c06c-4ad0-8472-7c2d40cc0f12",
   "metadata": {},
   "outputs": [
    {
     "name": "stdout",
     "output_type": "stream",
     "text": [
      "dict_values(['Ford', 'Mustang', 1964])\n"
     ]
    }
   ],
   "source": [
    "mydict = {\"brand\": \"Ford\",\"model\": \"Mustang\",\"year\": 1964}\n",
    "y=mydict.values()\n",
    "print(y)"
   ]
  },
  {
   "cell_type": "markdown",
   "id": "646f2037-2994-44ec-9858-c824816fed10",
   "metadata": {},
   "source": [
    "# Keys"
   ]
  },
  {
   "cell_type": "code",
   "execution_count": 39,
   "id": "47cd6258-fdbf-449c-99d2-8a2fe4eb1261",
   "metadata": {},
   "outputs": [
    {
     "name": "stdout",
     "output_type": "stream",
     "text": [
      "dict_keys(['name', 'age', 'gender', 'course'])\n"
     ]
    }
   ],
   "source": [
    "data={'name': 'vasanth', 'age': 25, 'gender': 'male', 'course': 'Data Analyst'}\n",
    "x=data.keys()\n",
    "print(x)"
   ]
  },
  {
   "cell_type": "code",
   "execution_count": 40,
   "id": "855f4f2e-53ef-4153-b594-cb1b1a8f0eef",
   "metadata": {},
   "outputs": [
    {
     "name": "stdout",
     "output_type": "stream",
     "text": [
      "dict_values(['Ford', 'Mustang', 1964])\n"
     ]
    }
   ],
   "source": [
    "mydict = {\"brand\": \"Ford\",\"model\": \"Mustang\",\"year\": 1964}\n",
    "y=mydict.values()\n",
    "print(y)"
   ]
  },
  {
   "cell_type": "markdown",
   "id": "3add89ca-a288-4d89-8755-02bd6702d533",
   "metadata": {},
   "source": [
    "# Update  add on dictionaries"
   ]
  },
  {
   "cell_type": "code",
   "execution_count": 41,
   "id": "1262b267-2341-4ca7-aa55-c7120790f308",
   "metadata": {},
   "outputs": [
    {
     "data": {
      "text/plain": [
       "{'brand': 'Ford', 'model': 'Mustang', 'year': 1964, 'year1': 2020, 'raja': 56}"
      ]
     },
     "execution_count": 41,
     "metadata": {},
     "output_type": "execute_result"
    }
   ],
   "source": [
    "mydict = {\n",
    "  \"brand\": \"Ford\",\n",
    "  \"model\": \"Mustang\",\n",
    "  \"year\": 1964\n",
    "}\n",
    "\n",
    "k={\"year1\": 2020,\"raja\":56}\n",
    "\n",
    "mydict.update(k)\n",
    "mydict"
   ]
  },
  {
   "cell_type": "code",
   "execution_count": 46,
   "id": "1d875d4f-abb5-4c50-b51b-e1e480fcfbbe",
   "metadata": {},
   "outputs": [
    {
     "name": "stdout",
     "output_type": "stream",
     "text": [
      "{'name': 'vasanth', 'age': 25, 'gender': 'male', 'course': 'Data Analyst', 'Address': 'Chennai'}\n"
     ]
    }
   ],
   "source": [
    "data={'name': 'vasanth', 'age': 25, 'gender': 'male', 'course': 'Data Analyst'}\n",
    "sourse={\"Address\":\"Chennai\"}\n",
    "data.update(sourse)\n",
    "print(data)"
   ]
  },
  {
   "cell_type": "markdown",
   "id": "6e010b59-7691-4bc8-91a7-3ae6a2201235",
   "metadata": {},
   "source": [
    "# POP ----delete specific list-----"
   ]
  },
  {
   "cell_type": "code",
   "execution_count": 47,
   "id": "be7a67f4-2dd4-4fae-a208-88a000b3a580",
   "metadata": {},
   "outputs": [
    {
     "name": "stdout",
     "output_type": "stream",
     "text": [
      "{'brand': 'Ford', 'year': 1964}\n"
     ]
    }
   ],
   "source": [
    "mydict = {\n",
    "  \"brand\": \"Ford\",\n",
    "  \"model\": \"Mustang\",\n",
    "  \"year\": 1964\n",
    "}\n",
    "mydict.pop(\"model\")\n",
    "print(mydict)"
   ]
  },
  {
   "cell_type": "code",
   "execution_count": 49,
   "id": "39be6dc5-c13e-4ef3-b233-c64a47ea5271",
   "metadata": {},
   "outputs": [
    {
     "name": "stdout",
     "output_type": "stream",
     "text": [
      "{'brand': 'Ford', 'model': 'Mustang'}\n"
     ]
    }
   ],
   "source": [
    "mydict = {\n",
    "  \"brand\": \"Ford\",\n",
    "  \"model\": \"Mustang\",\n",
    "  \"year\": 1964\n",
    "}\n",
    "mydict.popitem()\n",
    "print(mydict)"
   ]
  },
  {
   "cell_type": "code",
   "execution_count": 50,
   "id": "950ad96b-7264-4d1e-967d-a7d25a4e6517",
   "metadata": {},
   "outputs": [
    {
     "name": "stdout",
     "output_type": "stream",
     "text": [
      "{'name': 'vasanth', 'age': 25, 'course': 'Data Analyst'}\n"
     ]
    }
   ],
   "source": [
    "data={'name': 'vasanth', 'age': 25, 'gender': 'male', 'course': 'Data Analyst'}\n",
    "data.pop(\"gender\")\n",
    "print(data)"
   ]
  },
  {
   "cell_type": "code",
   "execution_count": 52,
   "id": "5365a857-50d8-405f-b653-d70c2b458baa",
   "metadata": {},
   "outputs": [
    {
     "name": "stdout",
     "output_type": "stream",
     "text": [
      "{'name': 'vasanth', 'age': 25, 'gender': 'male'}\n"
     ]
    }
   ],
   "source": [
    "data={'name': 'vasanth', 'age': 25, 'gender': 'male', 'course': 'Data Analyst'}\n",
    "data.popitem()\n",
    "print(data)"
   ]
  },
  {
   "cell_type": "markdown",
   "id": "3c68c9b6-2c99-4e8f-b74d-b3e1a8329b4f",
   "metadata": {},
   "source": [
    "# Delete dictionaries"
   ]
  },
  {
   "cell_type": "code",
   "execution_count": 53,
   "id": "0e0651dd-cc29-4737-92d5-2b1f5c5916ba",
   "metadata": {},
   "outputs": [
    {
     "name": "stdout",
     "output_type": "stream",
     "text": [
      "{'brand': 'Ford', 'model': 'Mustang'}\n"
     ]
    }
   ],
   "source": [
    "mydict = {\n",
    "  \"brand\": \"Ford\",\n",
    "  \"model\": \"Mustang\",\n",
    "  \"year\": 1964}\n",
    "\n",
    "del mydict[\"year\"]\n",
    "print(mydict)"
   ]
  },
  {
   "cell_type": "code",
   "execution_count": 55,
   "id": "8bae34a0-6344-4d4d-b4bb-8d32594068e8",
   "metadata": {},
   "outputs": [
    {
     "name": "stdout",
     "output_type": "stream",
     "text": [
      "{'age': 25, 'gender': 'male', 'course': 'Data Analyst'}\n"
     ]
    }
   ],
   "source": [
    "data={'name': 'vasanth', 'age': 25, 'gender': 'male', 'course': 'Data Analyst'}\n",
    "del data[\"name\"]\n",
    "print(data)"
   ]
  },
  {
   "cell_type": "markdown",
   "id": "6f6e77b6-583f-415b-b33c-a566cfab5298",
   "metadata": {},
   "source": [
    "# Clear Dictionaries"
   ]
  },
  {
   "cell_type": "code",
   "execution_count": 56,
   "id": "e231bbaa-fe1e-4442-bc25-3794052fcb6b",
   "metadata": {},
   "outputs": [
    {
     "name": "stdout",
     "output_type": "stream",
     "text": [
      "{}\n"
     ]
    }
   ],
   "source": [
    "mydict = {\n",
    "  \"brand\": \"Ford\",\n",
    "  \"model\": \"Mustang\",\n",
    "  \"year\": 1964}\n",
    "\n",
    "mydict.clear()\n",
    "print(mydict)"
   ]
  },
  {
   "cell_type": "code",
   "execution_count": 57,
   "id": "4964a705-9da3-441d-bb56-191e1cdffa83",
   "metadata": {},
   "outputs": [
    {
     "name": "stdout",
     "output_type": "stream",
     "text": [
      "{}\n"
     ]
    }
   ],
   "source": [
    "data={'name': 'vasanth', 'age': 25, 'gender': 'male', 'course': 'Data Analyst'}\n",
    "data.clear()\n",
    "print(data)"
   ]
  },
  {
   "cell_type": "code",
   "execution_count": 59,
   "id": "4eab3dc3-32df-4e6e-9336-118d8915c791",
   "metadata": {},
   "outputs": [
    {
     "name": "stdout",
     "output_type": "stream",
     "text": [
      "{'brand': 'Ford', 'electric': False, 'year': 1964, 'colors': ['red', 'white', 'blue']}\n"
     ]
    }
   ],
   "source": [
    "thisdict = {\n",
    "  \"brand\": \"Ford\",\n",
    "  \"electric\": False,\n",
    "  \"year\": 1964,\n",
    "  \"colors\": [\"red\", \"white\", \"blue\"]\n",
    "}\n",
    "print(thisdict)"
   ]
  },
  {
   "cell_type": "markdown",
   "id": "30aea78b-a65e-4a2e-9af4-bc77d6d759be",
   "metadata": {},
   "source": [
    "# list in list"
   ]
  },
  {
   "cell_type": "code",
   "execution_count": 62,
   "id": "93a7a266-ca11-40ad-bf92-6b6803bfb540",
   "metadata": {},
   "outputs": [
    {
     "data": {
      "text/plain": [
       "8"
      ]
     },
     "execution_count": 62,
     "metadata": {},
     "output_type": "execute_result"
    }
   ],
   "source": [
    "k=[1,2,5,5,[5,8,[7]],9]\n",
    "# need 8\n",
    "k[4][1]"
   ]
  },
  {
   "cell_type": "code",
   "execution_count": 63,
   "id": "df55915a-1bbc-4c34-a0d8-6823e6de7fad",
   "metadata": {},
   "outputs": [
    {
     "data": {
      "text/plain": [
       "7"
      ]
     },
     "execution_count": 63,
     "metadata": {},
     "output_type": "execute_result"
    }
   ],
   "source": [
    "k=[1,2,5,5,[5,8,[7]],9]\n",
    "# need 7\n",
    "k[4][2][0]"
   ]
  },
  {
   "cell_type": "markdown",
   "id": "7b8f5433-f99b-4d2b-86e8-02b6140b407c",
   "metadata": {},
   "source": [
    "# Dictionaries in Dictionaries"
   ]
  },
  {
   "cell_type": "code",
   "execution_count": 69,
   "id": "4629d177-3c1f-4cdd-8a7b-4750ac13348f",
   "metadata": {},
   "outputs": [
    {
     "name": "stdout",
     "output_type": "stream",
     "text": [
      "{'brand': 'Ford', 'model': 'vasanth', 'age': 25, 'gender': 'male', 'course': 'Data Analyst', 'year': 1964}\n"
     ]
    }
   ],
   "source": [
    "mydict = {\"brand\": \"Ford\",\"model\": 'vasanth', 'age': 25, 'gender': 'male', 'course': 'Data Analyst',\n",
    "\"year\": 1964}\n",
    "print(mydict)"
   ]
  },
  {
   "cell_type": "code",
   "execution_count": 70,
   "id": "980b8396-dbef-4bde-b4fa-2a58e6e3207f",
   "metadata": {},
   "outputs": [
    {
     "name": "stdout",
     "output_type": "stream",
     "text": [
      "{'brand': 'Ford', 'model': 'vasanth', 'age': 25, 'gender': 'male', 'course': 'Data Analyst', 'year': [13, 45, 789, 963]}\n"
     ]
    }
   ],
   "source": [
    "mydict = {\"brand\": \"Ford\",\"model\": 'vasanth', 'age': 25, 'gender': 'male', 'course': 'Data Analyst',\n",
    "\"year\": [13,45,789,963]}\n",
    "print(mydict)"
   ]
  },
  {
   "cell_type": "code",
   "execution_count": null,
   "id": "b05ae802-b43e-4ace-be25-55901446971c",
   "metadata": {},
   "outputs": [],
   "source": []
  }
 ],
 "metadata": {
  "kernelspec": {
   "display_name": "Python 3 (ipykernel)",
   "language": "python",
   "name": "python3"
  },
  "language_info": {
   "codemirror_mode": {
    "name": "ipython",
    "version": 3
   },
   "file_extension": ".py",
   "mimetype": "text/x-python",
   "name": "python",
   "nbconvert_exporter": "python",
   "pygments_lexer": "ipython3",
   "version": "3.12.7"
  }
 },
 "nbformat": 4,
 "nbformat_minor": 5
}
