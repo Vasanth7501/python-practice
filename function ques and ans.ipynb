{
 "cells": [
  {
   "cell_type": "markdown",
   "id": "1c49ac80-2c45-478d-af01-c2909ee4c717",
   "metadata": {},
   "source": [
    "# function"
   ]
  },
  {
   "cell_type": "markdown",
   "id": "3808bd06-c0d1-4b68-a44e-4aedf6e925fb",
   "metadata": {},
   "source": [
    "# Anagram"
   ]
  },
  {
   "cell_type": "code",
   "execution_count": 9,
   "id": "e3c872a0-7f1b-42db-b04e-4b71bb69b385",
   "metadata": {},
   "outputs": [
    {
     "name": "stdin",
     "output_type": "stream",
     "text": [
      " silent\n",
      " listen\n"
     ]
    },
    {
     "name": "stdout",
     "output_type": "stream",
     "text": [
      "True\n"
     ]
    }
   ],
   "source": [
    "def is_anagram(a,b):\n",
    "    a=a.replace(\" \",\"\").lower()\n",
    "    b=b.replace(\" \",\"\").lower()\n",
    "    \n",
    "    return sorted(a)==sorted(b)\n",
    "a=input()\n",
    "b=input()\n",
    "    \n",
    "print(is_anagram(a,b))\n",
    "    "
   ]
  },
  {
   "cell_type": "markdown",
   "id": "1d27c0cd-65d0-4f36-b14d-2173a62cbcdc",
   "metadata": {},
   "source": [
    "# Palindrome"
   ]
  },
  {
   "cell_type": "code",
   "execution_count": 1,
   "id": "7429f461-d263-4f10-aa90-c7a8b6fd2ff3",
   "metadata": {},
   "outputs": [
    {
     "name": "stdout",
     "output_type": "stream",
     "text": [
      "True\n"
     ]
    }
   ],
   "source": [
    "def is_palindrome(text):\n",
    "    return text==text[::-1]\n",
    "text=\"madam\"\n",
    "print(is_palindrome(text))\n"
   ]
  },
  {
   "cell_type": "markdown",
   "id": "0a28f460-75cb-4f88-acbe-cc89365cfe72",
   "metadata": {},
   "source": [
    "# Maximum and minimum number "
   ]
  },
  {
   "cell_type": "code",
   "execution_count": 3,
   "id": "b5366393-ef9f-4be0-8fff-3102c674021b",
   "metadata": {},
   "outputs": [
    {
     "name": "stdout",
     "output_type": "stream",
     "text": [
      "max:89,min:7\n"
     ]
    }
   ],
   "source": [
    "def max_min(numbers):\n",
    "    return max(numbers),min(numbers)\n",
    "numbers=[12,45,7,89,23]\n",
    "max_num,min_num=max_min(numbers)\n",
    "print(f\"max:{max_num},min:{min_num}\")"
   ]
  },
  {
   "cell_type": "markdown",
   "id": "63742f26-7ba4-481f-8929-d220cfa9b9cc",
   "metadata": {},
   "source": [
    "# sort ascending and decending"
   ]
  },
  {
   "cell_type": "code",
   "execution_count": 5,
   "id": "137eba31-2821-4f84-96cd-52c641edce34",
   "metadata": {},
   "outputs": [
    {
     "name": "stdout",
     "output_type": "stream",
     "text": [
      "Ascending: [5, 12, 29, 34, 66]\n",
      "Descending: [66, 34, 29, 12, 5]\n"
     ]
    }
   ],
   "source": [
    " def sort_both(data):\n",
    "    return sorted(data), sorted(data, reverse=True)\n",
    "\n",
    "asc, desc = sort_both([34, 12, 5, 66, 29])\n",
    "print(\"Ascending:\", asc)   # [5, 12, 29, 34, 66]\n",
    "print(\"Descending:\", desc)"
   ]
  },
  {
   "cell_type": "markdown",
   "id": "85de3e1d-2c37-47f5-a18a-86a21d6c802d",
   "metadata": {},
   "source": [
    "# Remove duplicates"
   ]
  },
  {
   "cell_type": "code",
   "execution_count": 6,
   "id": "49c33b31-1c5f-45cf-b752-ced61dd19617",
   "metadata": {},
   "outputs": [
    {
     "name": "stdout",
     "output_type": "stream",
     "text": [
      "[1, 2, 3, 4, 5]\n"
     ]
    }
   ],
   "source": [
    "def remove_duplicates(items):\n",
    "    seen = []\n",
    "    for item in items:\n",
    "        if item not in seen:\n",
    "            seen.append(item)\n",
    "    return seen\n",
    "\n",
    "print(remove_duplicates([1, 2, 2, 3, 4, 4, 5])) "
   ]
  },
  {
   "cell_type": "markdown",
   "id": "5d6531a1-3128-458c-8f6e-1d5667cec6f9",
   "metadata": {},
   "source": [
    "# Check Even or odd"
   ]
  },
  {
   "cell_type": "code",
   "execution_count": 7,
   "id": "e2b9e3a2-a563-4310-a208-dae97746e8de",
   "metadata": {},
   "outputs": [
    {
     "name": "stdout",
     "output_type": "stream",
     "text": [
      "Odd\n"
     ]
    }
   ],
   "source": [
    "\n",
    "def is_even_or_odd(number):\n",
    "    return \"Even\" if number % 2 == 0 else \"Odd\"\n",
    "\n",
    "print(is_even_or_odd(17)) "
   ]
  },
  {
   "cell_type": "markdown",
   "id": "a2e186c6-85e7-4232-9e99-0f35a41773ad",
   "metadata": {},
   "source": [
    "# vowels count"
   ]
  },
  {
   "cell_type": "code",
   "execution_count": 8,
   "id": "bebbe329-1aa5-4ef7-88d6-c3692402cea7",
   "metadata": {},
   "outputs": [
    {
     "name": "stdout",
     "output_type": "stream",
     "text": [
      "Vowels: 3\n"
     ]
    }
   ],
   "source": [
    "def count_vowels(text):\n",
    "    vowels = \"aeiouAEIOU\"\n",
    "    return sum(char in vowels for char in text)\n",
    "\n",
    "print(\"Vowels:\", count_vowels(\"Hello World\")) "
   ]
  },
  {
   "cell_type": "markdown",
   "id": "3307ad12-a3e5-4e4c-a5d5-39379e4d6700",
   "metadata": {},
   "source": [
    "# Factorial number"
   ]
  },
  {
   "cell_type": "code",
   "execution_count": 9,
   "id": "6db94b92-ab2d-4fc2-b993-48f95274ff34",
   "metadata": {},
   "outputs": [
    {
     "name": "stdout",
     "output_type": "stream",
     "text": [
      "Factorial: 120\n"
     ]
    }
   ],
   "source": [
    "def factorial(n):\n",
    "    result = 1\n",
    "    for i in range(2, n+1):\n",
    "        result *= i\n",
    "    return result\n",
    "\n",
    "print(\"Factorial:\", factorial(5))"
   ]
  },
  {
   "cell_type": "markdown",
   "id": "09afb5a7-ae12-4dfd-9cbf-f68251baeaad",
   "metadata": {},
   "source": [
    "# prime number"
   ]
  },
  {
   "cell_type": "code",
   "execution_count": 10,
   "id": "a70ee314-1e5c-4665-b31b-eac0a4d98c87",
   "metadata": {},
   "outputs": [
    {
     "name": "stdout",
     "output_type": "stream",
     "text": [
      "Prime\n"
     ]
    }
   ],
   "source": [
    "def is_prime(number):\n",
    "    if number < 2:\n",
    "        return False\n",
    "    for i in range(2, int(number**0.5)+1):\n",
    "        if number % i == 0:\n",
    "            return False\n",
    "    return True\n",
    "\n",
    "print(\"Prime\" if is_prime(13) else \"Not Prime\") "
   ]
  },
  {
   "cell_type": "markdown",
   "id": "5b9c3193-684a-4761-a0a9-2c2a0cb2ce20",
   "metadata": {},
   "source": [
    "# Reverse String"
   ]
  },
  {
   "cell_type": "code",
   "execution_count": null,
   "id": "fc4b1923-9a16-4a07-ab45-a5ebfc7a57bb",
   "metadata": {},
   "outputs": [],
   "source": [
    "def reverse_string(text):\n",
    "    result = \"\"\n",
    "    for ch in text:\n",
    "        result = ch + result\n",
    "    return result\n",
    "\n",
    "print(reverse_string(\"Python\"))"
   ]
  }
 ],
 "metadata": {
  "kernelspec": {
   "display_name": "Python 3 (ipykernel)",
   "language": "python",
   "name": "python3"
  },
  "language_info": {
   "codemirror_mode": {
    "name": "ipython",
    "version": 3
   },
   "file_extension": ".py",
   "mimetype": "text/x-python",
   "name": "python",
   "nbconvert_exporter": "python",
   "pygments_lexer": "ipython3",
   "version": "3.12.7"
  }
 },
 "nbformat": 4,
 "nbformat_minor": 5
}
