{
 "cells": [
  {
   "cell_type": "markdown",
   "id": "1ad26d9e-bd41-4f1b-9851-74777699e8ad",
   "metadata": {},
   "source": [
    "# Stone paper scissors code"
   ]
  },
  {
   "cell_type": "code",
   "execution_count": 2,
   "id": "4dfa57d9-2928-4e58-b051-1b79a6d70bae",
   "metadata": {},
   "outputs": [
    {
     "name": "stdout",
     "output_type": "stream",
     "text": [
      "\n",
      "Choose one: stone, paper, scissors\n"
     ]
    },
    {
     "name": "stdin",
     "output_type": "stream",
     "text": [
      "Your choice:  stone\n"
     ]
    },
    {
     "name": "stdout",
     "output_type": "stream",
     "text": [
      "Computer chose: stone\n",
      "It's a tie!\n"
     ]
    },
    {
     "name": "stdin",
     "output_type": "stream",
     "text": [
      "Play again? (yes/no):  yes\n"
     ]
    },
    {
     "name": "stdout",
     "output_type": "stream",
     "text": [
      "\n",
      "Choose one: stone, paper, scissors\n"
     ]
    },
    {
     "name": "stdin",
     "output_type": "stream",
     "text": [
      "Your choice:  scissors\n"
     ]
    },
    {
     "name": "stdout",
     "output_type": "stream",
     "text": [
      "Computer chose: stone\n",
      "Computer wins!\n"
     ]
    },
    {
     "name": "stdin",
     "output_type": "stream",
     "text": [
      "Play again? (yes/no):  no\n"
     ]
    },
    {
     "name": "stdout",
     "output_type": "stream",
     "text": [
      "Thanks for playing!\n"
     ]
    }
   ],
   "source": [
    "import random\n",
    "\n",
    "options = [\"stone\", \"paper\", \"scissors\"]\n",
    "\n",
    "def winner(user, computer):\n",
    "    if user == computer:\n",
    "        return \"It's a tie!\"\n",
    "    elif (user == \"stone\" and computer == \"scissors\") or \\\n",
    "         (user == \"paper\" and computer == \"stone\") or \\\n",
    "         (user == \"scissors\" and computer == \"paper\"):\n",
    "        return \"You win!\"\n",
    "    else:\n",
    "        return \"Computer wins!\"\n",
    "\n",
    "while True:\n",
    "    print(\"\\nChoose one: stone, paper, scissors\")\n",
    "    user_choice = input(\"Your choice: \").lower()\n",
    "\n",
    "    if user_choice not in options:\n",
    "        print(\"Invalid choice. Try again.\")\n",
    "        continue\n",
    "\n",
    "    computer_choice = random.choice(options)\n",
    "    print(f\"Computer chose: {computer_choice}\")\n",
    "\n",
    "    result = winner(user_choice, computer_choice)\n",
    "    print(result)\n",
    "\n",
    "    play_again = input(\"Play again? (yes/no): \").lower()\n",
    "    if play_again != 'yes':\n",
    "        print(\"Thanks for playing!\")\n",
    "        break "
   ]
  },
  {
   "cell_type": "code",
   "execution_count": null,
   "id": "f72f6bb3-3aa8-489c-b5a8-f608ee24b5e3",
   "metadata": {},
   "outputs": [],
   "source": [
    "class ATM:\n",
    "    def __init__(self, balance=0):\n",
    "        self.balance = balance\n",
    "\n",
    "    def check_balance(self):\n",
    "        return f\"Your current balance is ₹{self.balance}\"\n",
    "\n",
    "    def deposit(self, amount):\n",
    "        if amount > 0:\n",
    "            self.balance += amount\n",
    "            return f\"₹{amount} deposited successfully\"\n",
    "        return \"Invalid deposit amount\"\n",
    "\n",
    "    def withdraw(self, amount):\n",
    "        if amount > self.balance:\n",
    "            return \"Insufficient balance\"\n",
    "        elif amount <= 0:\n",
    "            return \"Enter a valid amount\"\n",
    "        else:\n",
    "            self.balance -= amount\n",
    "            return f\"₹{amount} withdrawn successfully\"\n",
    "\n",
    "# Simulating ATM usage\n",
    "atm = ATM(balance=5000)\n",
    "\n",
    "while True:\n",
    "    print(\"\\n--- ATM Menu ---\")\n",
    "    print(\"1. Check Balance\")\n",
    "    print(\"2. Deposit Money\")\n",
    "    print(\"3. Withdraw Money\")\n",
    "    print(\"4. Exit\")\n",
    "\n",
    "    choice = input(\"Choose an option: \")\n",
    "\n",
    "    if choice == '1':\n",
    "        print(atm.check_balance())\n",
    "    elif choice == '2':\n",
    "        amt = float(input(\"Enter amount to deposit: ₹\"))\n",
    "        print(atm.deposit(amt))\n",
    "    elif choice == '3':\n",
    "        amt = float(input(\"Enter amount to withdraw: ₹\"))\n",
    "        print(atm.withdraw(amt))\n",
    "    elif choice == '4':\n",
    "        print(\"Thank you for using our ATM!\")\n",
    "        break\n",
    "    else:\n",
    "        print(\"Invalid option, please try again.\")"
   ]
  },
  {
   "cell_type": "code",
   "execution_count": 11,
   "id": "bedeedb5-0f96-49fe-a907-daf2b9c7071c",
   "metadata": {},
   "outputs": [
    {
     "name": "stdin",
     "output_type": "stream",
     "text": [
      "enter your number: 50\n"
     ]
    },
    {
     "name": "stdout",
     "output_type": "stream",
     "text": [
      "1 49\n",
      "2 48\n",
      "3 47\n",
      "4 46\n",
      "5 45\n",
      "6 44\n",
      "7 43\n",
      "8 42\n",
      "9 41\n",
      "10 40\n",
      "11 39\n",
      "12 38\n",
      "13 37\n",
      "14 36\n",
      "15 35\n",
      "16 34\n",
      "17 33\n",
      "18 32\n",
      "19 31\n",
      "20 30\n",
      "21 29\n",
      "22 28\n",
      "23 27\n",
      "24 26\n",
      "25 25\n",
      "26 24\n",
      "27 23\n",
      "28 22\n",
      "29 21\n",
      "30 20\n",
      "31 19\n",
      "32 18\n",
      "33 17\n",
      "34 16\n",
      "35 15\n",
      "36 14\n",
      "37 13\n",
      "38 12\n",
      "39 11\n",
      "40 10\n",
      "41 9\n",
      "42 8\n",
      "43 7\n",
      "44 6\n",
      "45 5\n",
      "46 4\n",
      "47 3\n",
      "48 2\n",
      "49 1\n"
     ]
    }
   ],
   "source": [
    "a=int(input(\"enter your number:\"))\n",
    "\n",
    "for i in range(1,a+1):\n",
    "    for j in range(1,a+1):\n",
    "        if i+j==a:\n",
    "          print(i,j)\n",
    "\n",
    "      \n",
    "         \n",
    "        \n",
    "      \n"
   ]
  },
  {
   "cell_type": "code",
   "execution_count": 4,
   "id": "ed871bf3-993a-4ed3-b960-048b28456697",
   "metadata": {},
   "outputs": [
    {
     "name": "stdout",
     "output_type": "stream",
     "text": [
      "{'p': 1, 'y': 1, 't': 1, 'h': 1, 'o': 1, 'n': 1}\n",
      "{'a': 1, 'p': 2, 'l': 1, 'e': 1}\n"
     ]
    }
   ],
   "source": [
    "k=\"python\"\n",
    "k1={}\n",
    "for i in k:\n",
    "    if i not in k1:\n",
    "        k1[i]=1\n",
    "    else:\n",
    "        k1[i]+=1\n",
    "print(k1)\n",
    "\n",
    "k2=\"apple\"\n",
    "k3={}\n",
    "\n",
    "for i in k2:\n",
    "    if i not in k3:\n",
    "        k3[i]=1\n",
    "    else:\n",
    "        k3[i]+=1\n",
    "print(k3)"
   ]
  },
  {
   "cell_type": "code",
   "execution_count": 3,
   "id": "e3d7ae12-65c5-415b-be57-55471b9ef17c",
   "metadata": {},
   "outputs": [
    {
     "name": "stdout",
     "output_type": "stream",
     "text": [
      "{'p': 1, 'y': 1, 't': 1, 'h': 1, 'o': 1, 'n': 1}\n"
     ]
    }
   ],
   "source": [
    "k=\"python\"\n",
    "k1={}\n",
    "for i in k:\n",
    "    if i not in k1:\n",
    "        k1[i]=1\n",
    "    else:\n",
    "        k1[i]+=1\n",
    "print(k1)"
   ]
  },
  {
   "cell_type": "code",
   "execution_count": 18,
   "id": "bfa88362-5956-4aa4-9922-dcf1324b3c0d",
   "metadata": {},
   "outputs": [
    {
     "name": "stdout",
     "output_type": "stream",
     "text": [
      "{'p': 4, 'y': 1, 't': 3, 'h': 1, 'o': 2, 'n': 2, 'r': 2, 'a': 4, 'j': 1, 'l': 1, 'e': 1, 'i': 1, 'm': 1}\n"
     ]
    }
   ],
   "source": [
    "def count_characters(string):\n",
    "    freq = {}\n",
    "    for s in string:\n",
    "     for char in s:\n",
    "        if char not in freq:\n",
    "            freq[char] = 1\n",
    "        else:\n",
    "            freq[char] += 1\n",
    "    return freq\n",
    "\n",
    "# Example usage\n",
    "text=(\"python\",\"raja\",\"apple\",\"important\")\n",
    "result = count_characters(text)\n",
    "print(result)"
   ]
  },
  {
   "cell_type": "code",
   "execution_count": 15,
   "id": "b8a36a4c-7f59-475f-b6d8-60b1c060bdc9",
   "metadata": {},
   "outputs": [
    {
     "name": "stdout",
     "output_type": "stream",
     "text": [
      "{'p': 1, 'y': 1, 't': 1, 'h': 1, 'o': 3, 'n': 1, 'r': 1, 'c': 2, 'k': 1, 's': 1, 'd': 1, 'e': 1}\n"
     ]
    }
   ],
   "source": [
    "def count_characters_from_list(strings):\n",
    "    freq = {}\n",
    "    for s in strings:\n",
    "        for char in s:\n",
    "            if char not in freq:\n",
    "                freq[char] = 1\n",
    "            else:\n",
    "                freq[char] += 1\n",
    "    return freq\n",
    "\n",
    "# Example usage\n",
    "texts = [\"python\", \"rocks\", \"code\"]\n",
    "result = count_characters_from_list(texts)\n",
    "print(result)"
   ]
  },
  {
   "cell_type": "code",
   "execution_count": null,
   "id": "14e7c0af-97e4-48a3-b829-cd33f7c30cc2",
   "metadata": {},
   "outputs": [],
   "source": []
  }
 ],
 "metadata": {
  "kernelspec": {
   "display_name": "Python 3 (ipykernel)",
   "language": "python",
   "name": "python3"
  },
  "language_info": {
   "codemirror_mode": {
    "name": "ipython",
    "version": 3
   },
   "file_extension": ".py",
   "mimetype": "text/x-python",
   "name": "python",
   "nbconvert_exporter": "python",
   "pygments_lexer": "ipython3",
   "version": "3.12.7"
  }
 },
 "nbformat": 4,
 "nbformat_minor": 5
}
