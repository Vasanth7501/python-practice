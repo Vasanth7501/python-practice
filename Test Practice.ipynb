{
 "cells": [
  {
   "cell_type": "markdown",
   "id": "5c1c7de8-d10e-4a19-ad4f-f4562c3f582c",
   "metadata": {},
   "source": [
    "# Class work test"
   ]
  },
  {
   "cell_type": "markdown",
   "id": "bb3ba44b-3ba8-422a-a034-9621df7c4cf1",
   "metadata": {},
   "source": [
    "# Anagram \n",
    "# str1=\"listen\"\n",
    "# str2=\"silent\""
   ]
  },
  {
   "cell_type": "code",
   "execution_count": 75,
   "id": "c4941a7e-8519-454d-95e4-5021ea8fe184",
   "metadata": {},
   "outputs": [
    {
     "name": "stdout",
     "output_type": "stream",
     "text": [
      "Anagram\n"
     ]
    }
   ],
   "source": [
    "str1=\"listen\"\n",
    "str2=\"silent\"\n",
    "if len(str1)!=len(str2):\n",
    "    print(\" not Anagram\")\n",
    "else:\n",
    "   for i in str1:\n",
    "       if i not in str2:\n",
    "          print(\"not anagram\")\n",
    "          break\n",
    "   else:\n",
    "          print(\"Anagram\")\n",
    "           \n",
    "\n",
    "      \n",
    "        \n",
    " "
   ]
  },
  {
   "cell_type": "code",
   "execution_count": 16,
   "id": "f4a2fb99-e09b-4bd7-a898-baa61324f4ed",
   "metadata": {},
   "outputs": [
    {
     "name": "stdout",
     "output_type": "stream",
     "text": [
      "Anagram\n"
     ]
    }
   ],
   "source": [
    "str1=\"listen\"\n",
    "str2=\"silent\"\n",
    "if len(str1)!=len(str2):\n",
    "    print(\" not Anagram\")\n",
    "else:\n",
    "   for i in str1:\n",
    "       if i not in str2:\n",
    "          print(\"not anagram\")\n",
    "          break\n",
    "   else:\n",
    "          print(\"Anagram\")\n",
    "\n"
   ]
  },
  {
   "cell_type": "code",
   "execution_count": 32,
   "id": "6d7d07b4-19f6-42e0-9701-b678f5927e98",
   "metadata": {},
   "outputs": [
    {
     "name": "stdin",
     "output_type": "stream",
     "text": [
      " abcdEF\n",
      " ABCDef\n"
     ]
    },
    {
     "name": "stdout",
     "output_type": "stream",
     "text": [
      "Anagram\n"
     ]
    }
   ],
   "source": [
    "str1=input().lower()\n",
    "str2=input().lower()\n",
    "if len(str1)!=len(str2):\n",
    "    print(\" not Anagram\")\n",
    "else:\n",
    "   for i in str1:\n",
    "       if i not in str2:\n",
    "          print(\"not anagram\")\n",
    "          break\n",
    "   else:\n",
    "          print(\"Anagram\")"
   ]
  },
  {
   "cell_type": "markdown",
   "id": "7b6e2770-75c1-4925-bb1a-f2d130891df9",
   "metadata": {},
   "source": [
    "# Palindrome"
   ]
  },
  {
   "cell_type": "code",
   "execution_count": 67,
   "id": "bedaddf2-bc00-4c51-81ae-33a84123255c",
   "metadata": {},
   "outputs": [
    {
     "name": "stdout",
     "output_type": "stream",
     "text": [
      "TRUE\n"
     ]
    }
   ],
   "source": [
    "text=\"madam\"\n",
    "for i in range(len(text)):\n",
    " if text[i]!=text[-i-1]:\n",
    "    print(\"FALSE\")\n",
    "    break\n",
    "else:\n",
    "    print(\"TRUE\")\n",
    "    "
   ]
  },
  {
   "cell_type": "code",
   "execution_count": 21,
   "id": "3b8759ed-9e9f-445f-a16f-7ab893adcfe4",
   "metadata": {},
   "outputs": [
    {
     "name": "stdin",
     "output_type": "stream",
     "text": [
      "Enter youe value: vasanth\n"
     ]
    },
    {
     "name": "stdout",
     "output_type": "stream",
     "text": [
      "FALSE\n"
     ]
    }
   ],
   "source": [
    "text=input(\"Enter youe value:\")\n",
    "for i in range(len(text)):\n",
    " if text[i]!=text[-i-1]:\n",
    "    print(\"FALSE\")\n",
    "    break\n",
    "else:\n",
    "    print(\"TRUE\")"
   ]
  },
  {
   "cell_type": "markdown",
   "id": "b4eef67a-d44c-430a-8481-15380c8b5bbb",
   "metadata": {},
   "source": [
    "# Maximun minimum number"
   ]
  },
  {
   "cell_type": "code",
   "execution_count": 73,
   "id": "f5c81c21-4925-43c8-ad3e-355bb8848552",
   "metadata": {},
   "outputs": [
    {
     "name": "stdout",
     "output_type": "stream",
     "text": [
      "max:89,min:7\n"
     ]
    }
   ],
   "source": [
    "numbers=[12,45,7,89,23]\n",
    "max_num=numbers[0]\n",
    "min_num=numbers[0]\n",
    "for num in numbers:\n",
    "    if num>max_num:\n",
    "        max_num=num\n",
    "    elif num<min_num:\n",
    "        min_num=num\n",
    "print(f\"max:{max_num},min:{min_num}\")\n",
    "\n",
    "        "
   ]
  },
  {
   "cell_type": "markdown",
   "id": "cb28944e-3c3a-4c28-a60c-213915505146",
   "metadata": {},
   "source": [
    "# Acending and decending"
   ]
  },
  {
   "cell_type": "code",
   "execution_count": 52,
   "id": "4a9586aa-7764-452a-9269-b7981b2d3665",
   "metadata": {},
   "outputs": [
    {
     "name": "stdout",
     "output_type": "stream",
     "text": [
      "Ascending: [5, 12, 29, 34, 66]\n",
      "Descending: [66, 34, 29, 12, 5]\n"
     ]
    }
   ],
   "source": [
    "data=[34,12,5,66,29]\n",
    "for i in range(len(data)):\n",
    "    for j in range(i+1,len(data)):\n",
    "        if data[i]>data[j]:\n",
    "            temp=data[j]\n",
    "            data[j]=data[i]\n",
    "            data[i]=temp\n",
    "print(\"Ascending:\",data)\n",
    "data.reverse()\n",
    "print(\"Descending:\",data)"
   ]
  },
  {
   "cell_type": "markdown",
   "id": "600fbf63-56bd-4db7-98d4-7aeab2f002bc",
   "metadata": {},
   "source": [
    " # Remove dupilicates from list"
   ]
  },
  {
   "cell_type": "code",
   "execution_count": 55,
   "id": "de761759-7613-49ab-98f1-6ea89c037a2a",
   "metadata": {},
   "outputs": [
    {
     "name": "stdout",
     "output_type": "stream",
     "text": [
      "[1, 2, 3, 4, 5]\n"
     ]
    }
   ],
   "source": [
    "items=[1,2,2,3,4,4,5]\n",
    "unique_items=[]\n",
    "for i in items:\n",
    "    if i not in unique_items:\n",
    "        unique_items.append(i)\n",
    "print(unique_items)\n"
   ]
  },
  {
   "cell_type": "markdown",
   "id": "ac28c2e8-1ee6-494c-8007-a1501b715868",
   "metadata": {},
   "source": [
    "# Even or Add"
   ]
  },
  {
   "cell_type": "code",
   "execution_count": 56,
   "id": "c66d3411-c018-47ab-bfef-b257af68856f",
   "metadata": {},
   "outputs": [
    {
     "name": "stdout",
     "output_type": "stream",
     "text": [
      "odd\n"
     ]
    }
   ],
   "source": [
    "number=17\n",
    "if number%2==0:\n",
    "    print(\"even\")\n",
    "else:\n",
    "    print(\"odd\")\n",
    "    "
   ]
  },
  {
   "cell_type": "markdown",
   "id": "672ba49a-8f62-4d9f-a583-85ca61a7d4e8",
   "metadata": {},
   "source": [
    "# vowels"
   ]
  },
  {
   "cell_type": "code",
   "execution_count": 59,
   "id": "6703d511-6aa2-467c-a5b7-22b1278f4172",
   "metadata": {},
   "outputs": [
    {
     "name": "stdout",
     "output_type": "stream",
     "text": [
      "vowels:3\n"
     ]
    }
   ],
   "source": [
    "text=\"Hello World\"\n",
    "vowels=\"aeiou\"\n",
    "count=0\n",
    "for i in text.lower():\n",
    "    if i in vowels:\n",
    "        count+=1\n",
    "print(f\"vowels:{count}\")\n",
    "    "
   ]
  },
  {
   "cell_type": "markdown",
   "id": "45d28981-7ca1-4339-8a57-2a1bdd7b19ae",
   "metadata": {},
   "source": [
    "# Factorial number"
   ]
  },
  {
   "cell_type": "code",
   "execution_count": 71,
   "id": "809c865f-8915-489c-8ddc-a3f4a91d510f",
   "metadata": {},
   "outputs": [
    {
     "name": "stdout",
     "output_type": "stream",
     "text": [
      "factorial:120\n"
     ]
    }
   ],
   "source": [
    "n=5\n",
    "factorial=1\n",
    "for i in range(1,n+1):\n",
    "    factorial *=i\n",
    "print(f\"factorial:{factorial}\")\n"
   ]
  },
  {
   "cell_type": "markdown",
   "id": "2195a4a0-aa0f-444d-be78-88d3754e9637",
   "metadata": {},
   "source": [
    "# prime number\n"
   ]
  },
  {
   "cell_type": "code",
   "execution_count": 64,
   "id": "25a89923-a0b1-416e-a8da-62c2ee64eda5",
   "metadata": {},
   "outputs": [
    {
     "name": "stdout",
     "output_type": "stream",
     "text": [
      "It is prime\n"
     ]
    }
   ],
   "source": [
    "n=13\n",
    "count=0\n",
    "for i in range(1,n+1):\n",
    "    if n%i==0:\n",
    "        count+=1\n",
    "if count<=2:\n",
    "     print(\"It is prime\")\n",
    "else:\n",
    "     print(\"It is not prime\")"
   ]
  },
  {
   "cell_type": "markdown",
   "id": "4bf4389b-a5d0-4469-acbd-eea89ef99351",
   "metadata": {},
   "source": [
    "# Reverse a string"
   ]
  },
  {
   "cell_type": "code",
   "execution_count": 68,
   "id": "62e6c14e-28b4-4a9b-8608-932c912daec2",
   "metadata": {},
   "outputs": [
    {
     "name": "stdout",
     "output_type": "stream",
     "text": [
      "nohtyp\n"
     ]
    }
   ],
   "source": [
    "text=\"python\"\n",
    "reversed_text=\"\"\n",
    "for i in text:\n",
    "    reversed_text=i+reversed_text\n",
    "print(reversed_text)\n",
    "    "
   ]
  },
  {
   "cell_type": "code",
   "execution_count": null,
   "id": "e82becc8-ed07-4782-ab5a-1748df415479",
   "metadata": {},
   "outputs": [],
   "source": []
  }
 ],
 "metadata": {
  "kernelspec": {
   "display_name": "Python 3 (ipykernel)",
   "language": "python",
   "name": "python3"
  },
  "language_info": {
   "codemirror_mode": {
    "name": "ipython",
    "version": 3
   },
   "file_extension": ".py",
   "mimetype": "text/x-python",
   "name": "python",
   "nbconvert_exporter": "python",
   "pygments_lexer": "ipython3",
   "version": "3.12.7"
  }
 },
 "nbformat": 4,
 "nbformat_minor": 5
}
