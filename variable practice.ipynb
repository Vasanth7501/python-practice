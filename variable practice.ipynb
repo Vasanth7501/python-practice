{
 "cells": [
  {
   "cell_type": "markdown",
   "id": "d50dbd45-ae00-4bfe-8a7e-3aaeec452462",
   "metadata": {},
   "source": [
    "3+1\n"
   ]
  },
  {
   "cell_type": "code",
   "execution_count": 1,
   "id": "c22d57ee-71e6-4384-a40c-cc2689d54337",
   "metadata": {},
   "outputs": [
    {
     "data": {
      "text/plain": [
       "2"
      ]
     },
     "execution_count": 1,
     "metadata": {},
     "output_type": "execute_result"
    }
   ],
   "source": [
    "1+1"
   ]
  },
  {
   "cell_type": "code",
   "execution_count": 2,
   "id": "8e51259a-32ec-4f0d-97b6-bfa100a17ebf",
   "metadata": {},
   "outputs": [
    {
     "data": {
      "text/plain": [
       "11"
      ]
     },
     "execution_count": 2,
     "metadata": {},
     "output_type": "execute_result"
    }
   ],
   "source": [
    "5+6"
   ]
  },
  {
   "cell_type": "code",
   "execution_count": 3,
   "id": "cae968b3-30de-4965-acb9-0005a40a9f64",
   "metadata": {},
   "outputs": [
    {
     "data": {
      "text/plain": [
       "-3"
      ]
     },
     "execution_count": 3,
     "metadata": {},
     "output_type": "execute_result"
    }
   ],
   "source": [
    "5-8"
   ]
  },
  {
   "cell_type": "code",
   "execution_count": 4,
   "id": "4ec57a65-0ac3-4f49-9776-9744ddf54cb6",
   "metadata": {},
   "outputs": [
    {
     "data": {
      "text/plain": [
       "25"
      ]
     },
     "execution_count": 4,
     "metadata": {},
     "output_type": "execute_result"
    }
   ],
   "source": [
    "5*5"
   ]
  },
  {
   "cell_type": "code",
   "execution_count": 5,
   "id": "0bca495a-82ad-4f8d-96d9-fb75a2525e50",
   "metadata": {},
   "outputs": [
    {
     "data": {
      "text/plain": [
       "0.625"
      ]
     },
     "execution_count": 5,
     "metadata": {},
     "output_type": "execute_result"
    }
   ],
   "source": [
    "5/8"
   ]
  },
  {
   "cell_type": "code",
   "execution_count": 6,
   "id": "49d44978-5ba0-49a9-936e-bb3675b08f15",
   "metadata": {},
   "outputs": [
    {
     "data": {
      "text/plain": [
       "1"
      ]
     },
     "execution_count": 6,
     "metadata": {},
     "output_type": "execute_result"
    }
   ],
   "source": [
    "5%2"
   ]
  },
  {
   "cell_type": "code",
   "execution_count": 7,
   "id": "124e0ad1-866f-4112-b331-59013e5d9867",
   "metadata": {},
   "outputs": [
    {
     "data": {
      "text/plain": [
       "25"
      ]
     },
     "execution_count": 7,
     "metadata": {},
     "output_type": "execute_result"
    }
   ],
   "source": [
    "5**2"
   ]
  },
  {
   "cell_type": "code",
   "execution_count": 8,
   "id": "689e2554-0626-4ad7-959d-e50848a5a5c1",
   "metadata": {},
   "outputs": [
    {
     "data": {
      "text/plain": [
       "13.0"
      ]
     },
     "execution_count": 8,
     "metadata": {},
     "output_type": "execute_result"
    }
   ],
   "source": [
    "5+2*8/2"
   ]
  },
  {
   "cell_type": "code",
   "execution_count": 9,
   "id": "091d854f-1d29-40de-b170-21cb247ca1cf",
   "metadata": {},
   "outputs": [
    {
     "data": {
      "text/plain": [
       "6"
      ]
     },
     "execution_count": 9,
     "metadata": {},
     "output_type": "execute_result"
    }
   ],
   "source": [
    "13//2"
   ]
  },
  {
   "cell_type": "code",
   "execution_count": 10,
   "id": "5d30a72a-3a38-4209-a6e0-3a5fa6581904",
   "metadata": {},
   "outputs": [],
   "source": [
    "x=5"
   ]
  },
  {
   "cell_type": "code",
   "execution_count": 11,
   "id": "693e058e-47e5-4851-a623-1ac5a265b6a3",
   "metadata": {},
   "outputs": [
    {
     "data": {
      "text/plain": [
       "5"
      ]
     },
     "execution_count": 11,
     "metadata": {},
     "output_type": "execute_result"
    }
   ],
   "source": [
    "x"
   ]
  },
  {
   "cell_type": "code",
   "execution_count": 12,
   "id": "370369e3-42b7-4524-8fb0-9e807a912614",
   "metadata": {},
   "outputs": [
    {
     "data": {
      "text/plain": [
       "20"
      ]
     },
     "execution_count": 12,
     "metadata": {},
     "output_type": "execute_result"
    }
   ],
   "source": [
    "x+15"
   ]
  },
  {
   "cell_type": "code",
   "execution_count": 13,
   "id": "64518616-2d28-49e9-8c91-db72c1daf01a",
   "metadata": {},
   "outputs": [
    {
     "data": {
      "text/plain": [
       "30"
      ]
     },
     "execution_count": 13,
     "metadata": {},
     "output_type": "execute_result"
    }
   ],
   "source": [
    "_+10"
   ]
  },
  {
   "cell_type": "code",
   "execution_count": 17,
   "id": "845297f3-12ae-47bd-8416-aa43fee1ecf9",
   "metadata": {},
   "outputs": [
    {
     "ename": "NameError",
     "evalue": "name 'X' is not defined",
     "output_type": "error",
     "traceback": [
      "\u001b[1;31m---------------------------------------------------------------------------\u001b[0m",
      "\u001b[1;31mNameError\u001b[0m                                 Traceback (most recent call last)",
      "Cell \u001b[1;32mIn[17], line 2\u001b[0m\n\u001b[0;32m      1\u001b[0m y\u001b[38;5;241m=\u001b[39m\u001b[38;5;241m5\u001b[39m\n\u001b[1;32m----> 2\u001b[0m X\u001b[38;5;241m+\u001b[39my\n",
      "\u001b[1;31mNameError\u001b[0m: name 'X' is not defined"
     ]
    }
   ],
   "source": [
    "y=5\n",
    "X+y\n"
   ]
  },
  {
   "cell_type": "code",
   "execution_count": 18,
   "id": "28fd7a0c-c226-4461-9eec-e187d361e2cd",
   "metadata": {},
   "outputs": [
    {
     "data": {
      "text/plain": [
       "10"
      ]
     },
     "execution_count": 18,
     "metadata": {},
     "output_type": "execute_result"
    }
   ],
   "source": [
    "x+y"
   ]
  },
  {
   "cell_type": "code",
   "execution_count": 19,
   "id": "9ea09e6d-8f31-4e32-a037-ecf9f78fdfa6",
   "metadata": {},
   "outputs": [
    {
     "data": {
      "text/plain": [
       "15"
      ]
     },
     "execution_count": 19,
     "metadata": {},
     "output_type": "execute_result"
    }
   ],
   "source": [
    "10+y"
   ]
  },
  {
   "cell_type": "code",
   "execution_count": 20,
   "id": "9143e20b-0540-4dbf-bc51-739c8260f665",
   "metadata": {},
   "outputs": [
    {
     "data": {
      "text/plain": [
       "20"
      ]
     },
     "execution_count": 20,
     "metadata": {},
     "output_type": "execute_result"
    }
   ],
   "source": [
    "_+y"
   ]
  },
  {
   "cell_type": "code",
   "execution_count": 21,
   "id": "01bd96ea-7347-4665-85dc-cedfec19e9ed",
   "metadata": {},
   "outputs": [],
   "source": [
    "name='vasanth'"
   ]
  },
  {
   "cell_type": "code",
   "execution_count": 22,
   "id": "7f196e14-d5d3-4198-8f87-d06b843acb7b",
   "metadata": {},
   "outputs": [
    {
     "data": {
      "text/plain": [
       "'vasanth'"
      ]
     },
     "execution_count": 22,
     "metadata": {},
     "output_type": "execute_result"
    }
   ],
   "source": [
    "name"
   ]
  },
  {
   "cell_type": "code",
   "execution_count": 25,
   "id": "132cc3ee-ffa2-46b8-8878-e2c71c7f9939",
   "metadata": {},
   "outputs": [
    {
     "data": {
      "text/plain": [
       "'vasanthraja_raja raja'"
      ]
     },
     "execution_count": 25,
     "metadata": {},
     "output_type": "execute_result"
    }
   ],
   "source": [
    "_+' raja'"
   ]
  },
  {
   "cell_type": "code",
   "execution_count": 26,
   "id": "ba0412a4-a9f0-4e88-9ecf-044f1d6aafbf",
   "metadata": {},
   "outputs": [],
   "source": [
    "name='vijay'"
   ]
  },
  {
   "cell_type": "code",
   "execution_count": 27,
   "id": "557c5169-0ea0-4f2b-920d-43d5a5b7fb4d",
   "metadata": {},
   "outputs": [
    {
     "data": {
      "text/plain": [
       "'vijaykannan'"
      ]
     },
     "execution_count": 27,
     "metadata": {},
     "output_type": "execute_result"
    }
   ],
   "source": [
    "name+'kannan'"
   ]
  },
  {
   "cell_type": "code",
   "execution_count": 28,
   "id": "02faf78c-6de4-4e3e-b39a-24b06eda512e",
   "metadata": {},
   "outputs": [
    {
     "data": {
      "text/plain": [
       "'vijaykannan raja'"
      ]
     },
     "execution_count": 28,
     "metadata": {},
     "output_type": "execute_result"
    }
   ],
   "source": [
    "_+' raja' "
   ]
  },
  {
   "cell_type": "code",
   "execution_count": 29,
   "id": "7d6b5886-7fc5-4e03-ba76-9d0285d1efd9",
   "metadata": {},
   "outputs": [
    {
     "data": {
      "text/plain": [
       "'y'"
      ]
     },
     "execution_count": 29,
     "metadata": {},
     "output_type": "execute_result"
    }
   ],
   "source": [
    "name [4]"
   ]
  },
  {
   "cell_type": "code",
   "execution_count": 30,
   "id": "2fd7edbb-c6da-49d2-ad59-ad6643ce64aa",
   "metadata": {},
   "outputs": [
    {
     "data": {
      "text/plain": [
       "'j'"
      ]
     },
     "execution_count": 30,
     "metadata": {},
     "output_type": "execute_result"
    }
   ],
   "source": [
    "name[2]"
   ]
  },
  {
   "cell_type": "code",
   "execution_count": 31,
   "id": "5547bce2-c423-4553-a826-50489587d8a6",
   "metadata": {},
   "outputs": [
    {
     "data": {
      "text/plain": [
       "'v'"
      ]
     },
     "execution_count": 31,
     "metadata": {},
     "output_type": "execute_result"
    }
   ],
   "source": [
    "name[-5]"
   ]
  },
  {
   "cell_type": "code",
   "execution_count": 32,
   "id": "f7f92146-70d4-4a43-8384-5f7509f3c226",
   "metadata": {},
   "outputs": [
    {
     "ename": "IndexError",
     "evalue": "string index out of range",
     "output_type": "error",
     "traceback": [
      "\u001b[1;31m---------------------------------------------------------------------------\u001b[0m",
      "\u001b[1;31mIndexError\u001b[0m                                Traceback (most recent call last)",
      "Cell \u001b[1;32mIn[32], line 1\u001b[0m\n\u001b[1;32m----> 1\u001b[0m name[\u001b[38;5;241m6\u001b[39m]\n",
      "\u001b[1;31mIndexError\u001b[0m: string index out of range"
     ]
    }
   ],
   "source": [
    "name[6]"
   ]
  },
  {
   "cell_type": "code",
   "execution_count": 33,
   "id": "37f3826c-9e8d-4b06-a31d-6f0cf532445a",
   "metadata": {},
   "outputs": [
    {
     "data": {
      "text/plain": [
       "'j'"
      ]
     },
     "execution_count": 33,
     "metadata": {},
     "output_type": "execute_result"
    }
   ],
   "source": [
    "name[-3]"
   ]
  },
  {
   "cell_type": "code",
   "execution_count": 36,
   "id": "05823e1d-fff2-48ae-8034-d50de6d7365e",
   "metadata": {},
   "outputs": [
    {
     "ename": "TypeError",
     "evalue": "string indices must be integers, not 'tuple'",
     "output_type": "error",
     "traceback": [
      "\u001b[1;31m---------------------------------------------------------------------------\u001b[0m",
      "\u001b[1;31mTypeError\u001b[0m                                 Traceback (most recent call last)",
      "Cell \u001b[1;32mIn[36], line 1\u001b[0m\n\u001b[1;32m----> 1\u001b[0m name[\u001b[38;5;241m1\u001b[39m,\u001b[38;5;241m3\u001b[39m]\n",
      "\u001b[1;31mTypeError\u001b[0m: string indices must be integers, not 'tuple'"
     ]
    }
   ],
   "source": [
    "name[1,3]"
   ]
  },
  {
   "cell_type": "code",
   "execution_count": 37,
   "id": "fdc19c40-2b26-4d84-86ef-6e825f3587c1",
   "metadata": {},
   "outputs": [
    {
     "ename": "IndexError",
     "evalue": "string index out of range",
     "output_type": "error",
     "traceback": [
      "\u001b[1;31m---------------------------------------------------------------------------\u001b[0m",
      "\u001b[1;31mIndexError\u001b[0m                                Traceback (most recent call last)",
      "Cell \u001b[1;32mIn[37], line 1\u001b[0m\n\u001b[1;32m----> 1\u001b[0m name[\u001b[38;5;241m5\u001b[39m]\n",
      "\u001b[1;31mIndexError\u001b[0m: string index out of range"
     ]
    }
   ],
   "source": [
    "name[5]"
   ]
  },
  {
   "cell_type": "code",
   "execution_count": 38,
   "id": "31f8d2ff-a811-4dfa-a9d7-fa6749546b7a",
   "metadata": {},
   "outputs": [
    {
     "ename": "IndexError",
     "evalue": "string index out of range",
     "output_type": "error",
     "traceback": [
      "\u001b[1;31m---------------------------------------------------------------------------\u001b[0m",
      "\u001b[1;31mIndexError\u001b[0m                                Traceback (most recent call last)",
      "Cell \u001b[1;32mIn[38], line 1\u001b[0m\n\u001b[1;32m----> 1\u001b[0m name[\u001b[38;5;241m5\u001b[39m]\n",
      "\u001b[1;31mIndexError\u001b[0m: string index out of range"
     ]
    }
   ],
   "source": [
    "name[5]"
   ]
  },
  {
   "cell_type": "code",
   "execution_count": 39,
   "id": "24319158-247a-4584-ac22-926ee4acf3b9",
   "metadata": {},
   "outputs": [
    {
     "data": {
      "text/plain": [
       "'y'"
      ]
     },
     "execution_count": 39,
     "metadata": {},
     "output_type": "execute_result"
    }
   ],
   "source": [
    "name[4]"
   ]
  },
  {
   "cell_type": "code",
   "execution_count": 40,
   "id": "d8d99b09-6e97-4091-bcf3-5699551b8700",
   "metadata": {},
   "outputs": [
    {
     "data": {
      "text/plain": [
       "'vij'"
      ]
     },
     "execution_count": 40,
     "metadata": {},
     "output_type": "execute_result"
    }
   ],
   "source": [
    "name[0:3]"
   ]
  },
  {
   "cell_type": "code",
   "execution_count": 43,
   "id": "bccfa67b-0cc3-4c17-b567-a20581f4be00",
   "metadata": {},
   "outputs": [
    {
     "data": {
      "text/plain": [
       "'vijay'"
      ]
     },
     "execution_count": 43,
     "metadata": {},
     "output_type": "execute_result"
    }
   ],
   "source": [
    "name[0:6]"
   ]
  },
  {
   "cell_type": "code",
   "execution_count": 44,
   "id": "45b21691-75cc-4c90-bc2b-1f8372a91aae",
   "metadata": {},
   "outputs": [
    {
     "data": {
      "text/plain": [
       "''"
      ]
     },
     "execution_count": 44,
     "metadata": {},
     "output_type": "execute_result"
    }
   ],
   "source": [
    "name[-1:-4]"
   ]
  },
  {
   "cell_type": "code",
   "execution_count": 45,
   "id": "d5ae9ec6-271d-4ca1-b1a3-5fc1b54594e8",
   "metadata": {},
   "outputs": [
    {
     "data": {
      "text/plain": [
       "''"
      ]
     },
     "execution_count": 45,
     "metadata": {},
     "output_type": "execute_result"
    }
   ],
   "source": [
    "name[-1:-3]"
   ]
  },
  {
   "cell_type": "code",
   "execution_count": 46,
   "id": "3c561c33-1a3b-48cd-a0be-e70cab6ad806",
   "metadata": {},
   "outputs": [
    {
     "data": {
      "text/plain": [
       "'jay'"
      ]
     },
     "execution_count": 46,
     "metadata": {},
     "output_type": "execute_result"
    }
   ],
   "source": [
    "name[2:6]"
   ]
  },
  {
   "cell_type": "code",
   "execution_count": 47,
   "id": "f017719d-e64a-4512-ac84-f6f14f32534d",
   "metadata": {},
   "outputs": [
    {
     "data": {
      "text/plain": [
       "'vijay'"
      ]
     },
     "execution_count": 47,
     "metadata": {},
     "output_type": "execute_result"
    }
   ],
   "source": [
    "name[ :6]"
   ]
  },
  {
   "cell_type": "code",
   "execution_count": 48,
   "id": "d4ba6038-be50-44e7-85d6-f1822809ebc5",
   "metadata": {},
   "outputs": [
    {
     "data": {
      "text/plain": [
       "'ay'"
      ]
     },
     "execution_count": 48,
     "metadata": {},
     "output_type": "execute_result"
    }
   ],
   "source": [
    "name[3:85]"
   ]
  },
  {
   "cell_type": "code",
   "execution_count": 51,
   "id": "e12fd0d1-1da0-47b7-86a9-e28bc878c993",
   "metadata": {},
   "outputs": [
    {
     "ename": "TypeError",
     "evalue": "'str' object does not support item assignment",
     "output_type": "error",
     "traceback": [
      "\u001b[1;31m---------------------------------------------------------------------------\u001b[0m",
      "\u001b[1;31mTypeError\u001b[0m                                 Traceback (most recent call last)",
      "Cell \u001b[1;32mIn[51], line 1\u001b[0m\n\u001b[1;32m----> 1\u001b[0m name[\u001b[38;5;241m0\u001b[39m:\u001b[38;5;241m4\u001b[39m]\u001b[38;5;241m=\u001b[39m\u001b[38;5;124m'\u001b[39m\u001b[38;5;124mhero\u001b[39m\u001b[38;5;124m'\u001b[39m\n",
      "\u001b[1;31mTypeError\u001b[0m: 'str' object does not support item assignment"
     ]
    }
   ],
   "source": [
    "name[0:4]='hero'"
   ]
  },
  {
   "cell_type": "raw",
   "id": "cfd94d01-59a5-42c0-bd4b-9e74682bec27",
   "metadata": {},
   "source": [
    "'hero ' + name[0:5]"
   ]
  },
  {
   "cell_type": "code",
   "execution_count": 52,
   "id": "7eca9de9-077e-4159-b146-11f419aec1a7",
   "metadata": {},
   "outputs": [
    {
     "data": {
      "text/plain": [
       "'hero vijay'"
      ]
     },
     "execution_count": 52,
     "metadata": {},
     "output_type": "execute_result"
    }
   ],
   "source": [
    "'hero '+ name[ :5]"
   ]
  },
  {
   "cell_type": "code",
   "execution_count": 53,
   "id": "5ce31920-2c5b-4780-8a25-21e7e975410d",
   "metadata": {},
   "outputs": [
    {
     "data": {
      "text/plain": [
       "'hero vijay'"
      ]
     },
     "execution_count": 53,
     "metadata": {},
     "output_type": "execute_result"
    }
   ],
   "source": [
    "'hero '+ name[0:5]"
   ]
  },
  {
   "cell_type": "code",
   "execution_count": 1,
   "id": "79167186-5838-4a5c-8737-00fb2a2c2d04",
   "metadata": {},
   "outputs": [
    {
     "ename": "NameError",
     "evalue": "name 'name' is not defined",
     "output_type": "error",
     "traceback": [
      "\u001b[1;31m---------------------------------------------------------------------------\u001b[0m",
      "\u001b[1;31mNameError\u001b[0m                                 Traceback (most recent call last)",
      "Cell \u001b[1;32mIn[1], line 1\u001b[0m\n\u001b[1;32m----> 1\u001b[0m name[::\u001b[38;5;241m-\u001b[39m\u001b[38;5;241m1\u001b[39m]\n",
      "\u001b[1;31mNameError\u001b[0m: name 'name' is not defined"
     ]
    }
   ],
   "source": [
    "name[::-1]"
   ]
  },
  {
   "cell_type": "code",
   "execution_count": 2,
   "id": "4704209f-c835-40d7-be74-a7d6d074e237",
   "metadata": {},
   "outputs": [],
   "source": [
    "name='raj'\n"
   ]
  },
  {
   "cell_type": "code",
   "execution_count": 3,
   "id": "f8152498-8003-459c-8f37-5050422428ed",
   "metadata": {},
   "outputs": [
    {
     "data": {
      "text/plain": [
       "'jar'"
      ]
     },
     "execution_count": 3,
     "metadata": {},
     "output_type": "execute_result"
    }
   ],
   "source": [
    "name[::-1]"
   ]
  },
  {
   "cell_type": "code",
   "execution_count": 3,
   "id": "22b1c37b-d341-409e-b7b4-d0470d231abe",
   "metadata": {},
   "outputs": [
    {
     "name": "stdout",
     "output_type": "stream",
     "text": [
      "10\n"
     ]
    }
   ],
   "source": [
    "k=10\n",
    "print(k)"
   ]
  },
  {
   "cell_type": "code",
   "execution_count": 4,
   "id": "b1e58eea-892b-40f8-aac4-21ca8dc5213a",
   "metadata": {},
   "outputs": [
    {
     "ename": "SyntaxError",
     "evalue": "cannot assign to literal here. Maybe you meant '==' instead of '='? (1907286746.py, line 1)",
     "output_type": "error",
     "traceback": [
      "\u001b[1;36m  Cell \u001b[1;32mIn[4], line 1\u001b[1;36m\u001b[0m\n\u001b[1;33m    0=10\u001b[0m\n\u001b[1;37m    ^\u001b[0m\n\u001b[1;31mSyntaxError\u001b[0m\u001b[1;31m:\u001b[0m cannot assign to literal here. Maybe you meant '==' instead of '='?\n"
     ]
    }
   ],
   "source": [
    "0=10\n",
    "print(0)"
   ]
  },
  {
   "cell_type": "code",
   "execution_count": 5,
   "id": "df9a82fe-62d0-4546-99e6-e30c89d1201a",
   "metadata": {},
   "outputs": [
    {
     "ename": "SyntaxError",
     "evalue": "invalid decimal literal (603155743.py, line 1)",
     "output_type": "error",
     "traceback": [
      "\u001b[1;36m  Cell \u001b[1;32mIn[5], line 1\u001b[1;36m\u001b[0m\n\u001b[1;33m    0k=10\u001b[0m\n\u001b[1;37m    ^\u001b[0m\n\u001b[1;31mSyntaxError\u001b[0m\u001b[1;31m:\u001b[0m invalid decimal literal\n"
     ]
    }
   ],
   "source": [
    "0k=10\n",
    "print(0k)"
   ]
  },
  {
   "cell_type": "code",
   "execution_count": 6,
   "id": "0d5790bb-49e0-4968-9002-eae45459c98c",
   "metadata": {},
   "outputs": [
    {
     "name": "stdout",
     "output_type": "stream",
     "text": [
      "10\n"
     ]
    }
   ],
   "source": [
    "k0=10\n",
    "print(k0)"
   ]
  },
  {
   "cell_type": "code",
   "execution_count": 7,
   "id": "5d716d45-b5a2-4f07-8c23-d1a50ce385ec",
   "metadata": {},
   "outputs": [
    {
     "ename": "SyntaxError",
     "evalue": "invalid syntax. Maybe you meant '==' or ':=' instead of '='? (2368667675.py, line 1)",
     "output_type": "error",
     "traceback": [
      "\u001b[1;36m  Cell \u001b[1;32mIn[7], line 1\u001b[1;36m\u001b[0m\n\u001b[1;33m    @k=10\u001b[0m\n\u001b[1;37m     ^\u001b[0m\n\u001b[1;31mSyntaxError\u001b[0m\u001b[1;31m:\u001b[0m invalid syntax. Maybe you meant '==' or ':=' instead of '='?\n"
     ]
    }
   ],
   "source": [
    "@k=10\n",
    "print(@k)"
   ]
  },
  {
   "cell_type": "code",
   "execution_count": 8,
   "id": "95538f4f-c7c1-467f-9b27-74bc1b1d64e5",
   "metadata": {},
   "outputs": [
    {
     "ename": "SyntaxError",
     "evalue": "invalid syntax (447160553.py, line 2)",
     "output_type": "error",
     "traceback": [
      "\u001b[1;36m  Cell \u001b[1;32mIn[8], line 2\u001b[1;36m\u001b[0m\n\u001b[1;33m    print(k@)\u001b[0m\n\u001b[1;37m            ^\u001b[0m\n\u001b[1;31mSyntaxError\u001b[0m\u001b[1;31m:\u001b[0m invalid syntax\n"
     ]
    }
   ],
   "source": [
    "k@=10\n",
    "print(k@)"
   ]
  },
  {
   "cell_type": "code",
   "execution_count": 9,
   "id": "3ce7c762-9582-4c3c-97e6-2fdf6de548d0",
   "metadata": {},
   "outputs": [
    {
     "name": "stdout",
     "output_type": "stream",
     "text": [
      "10\n"
     ]
    }
   ],
   "source": [
    "_k=10\n",
    "print(_k)"
   ]
  },
  {
   "cell_type": "code",
   "execution_count": 10,
   "id": "7acc1a95-fc30-460f-8f39-4a151d9d949e",
   "metadata": {},
   "outputs": [
    {
     "name": "stdout",
     "output_type": "stream",
     "text": [
      "10\n"
     ]
    }
   ],
   "source": [
    "k_=10\n",
    "print(_k)"
   ]
  },
  {
   "cell_type": "code",
   "execution_count": 26,
   "id": "4cb5dafe-e3d0-4d23-9b5c-e7874478e477",
   "metadata": {},
   "outputs": [
    {
     "name": "stdout",
     "output_type": "stream",
     "text": [
      "10\n"
     ]
    }
   ],
   "source": [
    "_value1=10\n",
    "print(_value1)"
   ]
  },
  {
   "cell_type": "code",
   "execution_count": 1,
   "id": "b8ac212c-0169-4674-95b8-67b6dfa3c113",
   "metadata": {},
   "outputs": [
    {
     "name": "stdout",
     "output_type": "stream",
     "text": [
      "vasanth\n"
     ]
    }
   ],
   "source": [
    "myname='vasanth'\n",
    "print(myname)"
   ]
  },
  {
   "cell_type": "code",
   "execution_count": 2,
   "id": "c69f2b89-adca-424c-8d62-da61111fb011",
   "metadata": {},
   "outputs": [
    {
     "data": {
      "text/plain": [
       "7"
      ]
     },
     "execution_count": 2,
     "metadata": {},
     "output_type": "execute_result"
    }
   ],
   "source": [
    "myname='vasanth'\n",
    "len(myname)"
   ]
  },
  {
   "cell_type": "code",
   "execution_count": null,
   "id": "3043227e-6d69-40d8-b7b8-96dd3b0bc609",
   "metadata": {},
   "outputs": [],
   "source": []
  }
 ],
 "metadata": {
  "kernelspec": {
   "display_name": "Python 3 (ipykernel)",
   "language": "python",
   "name": "python3"
  },
  "language_info": {
   "codemirror_mode": {
    "name": "ipython",
    "version": 3
   },
   "file_extension": ".py",
   "mimetype": "text/x-python",
   "name": "python",
   "nbconvert_exporter": "python",
   "pygments_lexer": "ipython3",
   "version": "3.12.7"
  }
 },
 "nbformat": 4,
 "nbformat_minor": 5
}
