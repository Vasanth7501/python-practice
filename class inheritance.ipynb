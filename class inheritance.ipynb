{
 "cells": [
  {
   "cell_type": "markdown",
   "id": "403f0f18-4571-4e70-a104-ba62b5431a57",
   "metadata": {},
   "source": [
    "# class inheritance"
   ]
  },
  {
   "cell_type": "markdown",
   "id": "9f292440-5a86-4f13-b04a-0708d769bdd3",
   "metadata": {},
   "source": [
    "# single inheritance"
   ]
  },
  {
   "cell_type": "code",
   "execution_count": 8,
   "id": "e51cc472-230b-4f9c-b4aa-60b28bce14ca",
   "metadata": {},
   "outputs": [
    {
     "name": "stdout",
     "output_type": "stream",
     "text": [
      "Animal sound\n",
      "Barking sound\n"
     ]
    }
   ],
   "source": [
    "class animal:\n",
    "    def sound(self):\n",
    "        print(\"Animal sound\")\n",
    "class dog(animal):\n",
    "    def bark(self):\n",
    "        print(\"Barking sound\")\n",
    "d=dog()\n",
    "d.sound()\n",
    "d.bark()"
   ]
  },
  {
   "cell_type": "markdown",
   "id": "4298f0ac-b6ee-4d1e-b080-448884dd3bdb",
   "metadata": {},
   "source": [
    "# multiple inheritance"
   ]
  },
  {
   "cell_type": "code",
   "execution_count": 1,
   "id": "a5776856-0de3-42e3-adf8-bfba5db86fca",
   "metadata": {},
   "outputs": [
    {
     "name": "stdout",
     "output_type": "stream",
     "text": [
      "Gardening\n",
      "Cooking\n",
      "Drawing\n"
     ]
    }
   ],
   "source": [
    "class Father:\n",
    "    def skills(self):\n",
    "        print(\"Gardening\")\n",
    "\n",
    "class Mother:\n",
    "    def skills(self):\n",
    "        print(\"Cooking\")\n",
    "\n",
    "class Child(Father, Mother):\n",
    "    def skills(self):\n",
    "        Father.skills(self)\n",
    "        Mother.skills(self)\n",
    "        print(\"Drawing\")\n",
    "\n",
    "c = Child()\n",
    "c.skills()\n",
    "\n",
    "    \n",
    "    "
   ]
  },
  {
   "cell_type": "markdown",
   "id": "36a7d98c-b3f9-4e2e-93a3-c3a813d8a8dc",
   "metadata": {},
   "source": [
    "# Multilevel inheritance"
   ]
  },
  {
   "cell_type": "code",
   "execution_count": 4,
   "id": "d5764b79-47e6-47d9-82a3-7ef2de4c7916",
   "metadata": {},
   "outputs": [
    {
     "name": "stdout",
     "output_type": "stream",
     "text": [
      "From village\n",
      "Engineer\n",
      "Painting\n"
     ]
    }
   ],
   "source": [
    "class Grandparent:\n",
    "    def origin(self):\n",
    "        print(\"From village\")\n",
    "\n",
    "class Parent(Grandparent):\n",
    "    def job(self):\n",
    "        print(\"Engineer\")\n",
    "\n",
    "class Child(Parent):\n",
    "    def hobby(self):\n",
    "        print(\"Painting\")\n",
    "\n",
    "c = Child()\n",
    "c.origin()\n",
    "c.job()\n",
    "c.hobby()\n"
   ]
  },
  {
   "cell_type": "markdown",
   "id": "9dccf808-7272-48ae-8d0d-63ea58bf191c",
   "metadata": {},
   "source": [
    "# Hierarchical inheritance"
   ]
  },
  {
   "cell_type": "code",
   "execution_count": 5,
   "id": "ae8e40ff-437e-4949-a17f-4fc53df0318b",
   "metadata": {},
   "outputs": [
    {
     "name": "stdout",
     "output_type": "stream",
     "text": [
      "Vehicle started\n",
      "Driving car\n",
      "Vehicle started\n"
     ]
    }
   ],
   "source": [
    "class Vehicle:\n",
    "    def start(self):\n",
    "        print(\"Vehicle started\")\n",
    "\n",
    "class Car(Vehicle):\n",
    "    def drive(self):\n",
    "        print(\"Driving car\")\n",
    "\n",
    "class Bike(Vehicle):\n",
    "    def ride(self):\n",
    "        print(\"Riding bike\")\n",
    "\n",
    "c = Car()\n",
    "b = Bike()\n",
    "c.start()\n",
    "c.drive()\n",
    "b.start()\n"
   ]
  },
  {
   "cell_type": "markdown",
   "id": "f6f169b0-e01e-48cf-8da1-0b2860515487",
   "metadata": {},
   "source": [
    "# hybrid inheritance"
   ]
  },
  {
   "cell_type": "code",
   "execution_count": 1,
   "id": "6edc940d-c2c3-4a6b-af22-c2dbf1e29b15",
   "metadata": {},
   "outputs": [
    {
     "name": "stdout",
     "output_type": "stream",
     "text": [
      "Located in city\n",
      "Student1: vasanth\n",
      "Grade: A\n",
      "Student2: raj\n"
     ]
    }
   ],
   "source": [
    "class School:\n",
    "    def location(self):\n",
    "        print(\"Located in city\")\n",
    "\n",
    "class Student1(School):\n",
    "    def name(self):\n",
    "        print(\"Student1: vasanth\")\n",
    "\n",
    "class Student2(Student1):\n",
    "    def name2(self):\n",
    "        print(\"Student2: raj\")\n",
    "\n",
    "class Student3(Student2):\n",
    "    def grade(self):\n",
    "        print(\"Grade: A\")\n",
    "\n",
    "s = Student3()\n",
    "s.location()\n",
    "s.name()\n",
    "s.grade()\n",
    "s.name2()\n"
   ]
  },
  {
   "cell_type": "code",
   "execution_count": null,
   "id": "dc4c330f-a21f-4333-a42a-47506c32e8f1",
   "metadata": {},
   "outputs": [],
   "source": [
    "class student:\n",
    "    def __init__(self,name,age,gender)\n",
    "     self.name=name\n",
    "     self._age=age\n",
    "     self.__gender=gender\n",
    "    def "
   ]
  }
 ],
 "metadata": {
  "kernelspec": {
   "display_name": "Python 3 (ipykernel)",
   "language": "python",
   "name": "python3"
  },
  "language_info": {
   "codemirror_mode": {
    "name": "ipython",
    "version": 3
   },
   "file_extension": ".py",
   "mimetype": "text/x-python",
   "name": "python",
   "nbconvert_exporter": "python",
   "pygments_lexer": "ipython3",
   "version": "3.12.7"
  }
 },
 "nbformat": 4,
 "nbformat_minor": 5
}
