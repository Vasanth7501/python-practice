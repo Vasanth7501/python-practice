{
 "cells": [
  {
   "cell_type": "markdown",
   "id": "dd42fe2e-bf8e-49ab-9d18-4196c43c5119",
   "metadata": {},
   "source": [
    "# python condition and if statement"
   ]
  },
  {
   "cell_type": "code",
   "execution_count": 2,
   "id": "22f87eeb-f2a3-42cb-becc-33f116bc4f7e",
   "metadata": {},
   "outputs": [
    {
     "name": "stdout",
     "output_type": "stream",
     "text": [
      "b is greater than a\n"
     ]
    }
   ],
   "source": [
    "a=10\n",
    "b=15\n",
    "#print(b>a)\n",
    "if b>a:\n",
    "    print(\"b is greater than a\")"
   ]
  },
  {
   "cell_type": "code",
   "execution_count": 3,
   "id": "88a176c0-c1ce-4696-83a2-ff60100d9276",
   "metadata": {},
   "outputs": [
    {
     "name": "stdin",
     "output_type": "stream",
     "text": [
      " 15\n"
     ]
    }
   ],
   "source": [
    "b=input()"
   ]
  },
  {
   "cell_type": "markdown",
   "id": "cd11a0ff-7b8c-4359-b608-1417353bfcfe",
   "metadata": {},
   "source": [
    "# identation error "
   ]
  },
  {
   "cell_type": "code",
   "execution_count": 4,
   "id": "013af4e3-9204-4f5d-aa93-92cea6f8e417",
   "metadata": {},
   "outputs": [
    {
     "ename": "IndentationError",
     "evalue": "expected an indented block after 'if' statement on line 4 (3173554008.py, line 5)",
     "output_type": "error",
     "traceback": [
      "\u001b[1;36m  Cell \u001b[1;32mIn[4], line 5\u001b[1;36m\u001b[0m\n\u001b[1;33m    print(\"b is greater than a\")\u001b[0m\n\u001b[1;37m    ^\u001b[0m\n\u001b[1;31mIndentationError\u001b[0m\u001b[1;31m:\u001b[0m expected an indented block after 'if' statement on line 4\n"
     ]
    }
   ],
   "source": [
    "a=10\n",
    "b=15\n",
    "#print(b>a)\n",
    "if b>a:\n",
    "print(\"b is greater than a\")"
   ]
  },
  {
   "cell_type": "markdown",
   "id": "246879b8-e355-4984-bf3b-b34bc1c5b91d",
   "metadata": {},
   "source": [
    "# syntax error "
   ]
  },
  {
   "cell_type": "code",
   "execution_count": 5,
   "id": "06fd5ea3-5c2c-4ff2-83ea-28800509b485",
   "metadata": {},
   "outputs": [
    {
     "ename": "SyntaxError",
     "evalue": "expected ':' (1039079091.py, line 4)",
     "output_type": "error",
     "traceback": [
      "\u001b[1;36m  Cell \u001b[1;32mIn[5], line 4\u001b[1;36m\u001b[0m\n\u001b[1;33m    if b>a\u001b[0m\n\u001b[1;37m          ^\u001b[0m\n\u001b[1;31mSyntaxError\u001b[0m\u001b[1;31m:\u001b[0m expected ':'\n"
     ]
    }
   ],
   "source": [
    "a=10\n",
    "b=15\n",
    "#print(b>a)\n",
    "if b>a\n",
    "    print(\"b is greater than a\")"
   ]
  },
  {
   "cell_type": "markdown",
   "id": "9aeffd02-b700-4244-a066-2b3a67a53e64",
   "metadata": {},
   "source": [
    "# if.....elif..... condition"
   ]
  },
  {
   "cell_type": "code",
   "execution_count": 6,
   "id": "717615bf-7301-4a60-969e-a3a96e202f6f",
   "metadata": {},
   "outputs": [
    {
     "name": "stdout",
     "output_type": "stream",
     "text": [
      "b is greater than  a\n"
     ]
    }
   ],
   "source": [
    "a=40\n",
    "b=50\n",
    "if (b>a):\n",
    "    print(\"b is greater than  a\")\n",
    "elif a==b:\n",
    "    print(\"a and b are equal\")\n",
    "          "
   ]
  },
  {
   "cell_type": "markdown",
   "id": "2490571a-8373-4c43-b375-6b57f1052d5d",
   "metadata": {},
   "source": [
    "# if....elif..... else...."
   ]
  },
  {
   "cell_type": "code",
   "execution_count": 10,
   "id": "d5dc6ef1-8707-4e51-b5d5-a9cb5e7a50e5",
   "metadata": {},
   "outputs": [
    {
     "name": "stdout",
     "output_type": "stream",
     "text": [
      "a and b are equal\n"
     ]
    }
   ],
   "source": [
    "a=50\n",
    "b=50\n",
    "if (b>a):\n",
    "    print(\"b is greater than a\")\n",
    "elif (a==b):\n",
    "    print(\"a and b are equal\")\n",
    "else :\n",
    "    print(\"not valied\")"
   ]
  },
  {
   "cell_type": "markdown",
   "id": "8b12e804-6968-4602-9019-45761f38db74",
   "metadata": {},
   "source": [
    "# if.......else..."
   ]
  },
  {
   "cell_type": "code",
   "execution_count": 12,
   "id": "5c2db0c9-bf1e-4eaf-9693-6ed5bb9c4345",
   "metadata": {},
   "outputs": [
    {
     "name": "stdout",
     "output_type": "stream",
     "text": [
      "b is not greater than a\n"
     ]
    }
   ],
   "source": [
    "a = 100\n",
    "b = 50\n",
    "if b > a:\n",
    "  print(\"b is greater than a\")\n",
    "else:\n",
    "  print(\"b is not greater than a\")"
   ]
  },
  {
   "cell_type": "markdown",
   "id": "0ad813e3-f17d-44b7-a1e9-d1e6adad541b",
   "metadata": {},
   "source": [
    "# if condition using .....AND....."
   ]
  },
  {
   "cell_type": "code",
   "execution_count": 15,
   "id": "b068cb04-0db3-4370-a1c0-7bfa19b66ee4",
   "metadata": {},
   "outputs": [
    {
     "name": "stdout",
     "output_type": "stream",
     "text": [
      "Both conditions are True\n"
     ]
    }
   ],
   "source": [
    "a = 50\n",
    "b = 42\n",
    "c = 600\n",
    "if a > b and c > a:\n",
    "  print(\"Both conditions are True\")"
   ]
  },
  {
   "cell_type": "markdown",
   "id": "90461c51-e280-4d40-89c4-84dbc7284f2b",
   "metadata": {},
   "source": [
    "# if condition using .......OR......."
   ]
  },
  {
   "cell_type": "code",
   "execution_count": 16,
   "id": "683050fd-69f7-4d4b-a366-428311dbac9f",
   "metadata": {},
   "outputs": [
    {
     "name": "stdout",
     "output_type": "stream",
     "text": [
      "At least one of the conditions is True\n"
     ]
    }
   ],
   "source": [
    "a = 500\n",
    "b = 85\n",
    "c = 700\n",
    "if a > b or a > c:\n",
    "  print(\"At least one of the conditions is True\")"
   ]
  },
  {
   "cell_type": "code",
   "execution_count": 17,
   "id": "21f08ee2-402e-4afb-a664-3cef1baf80f8",
   "metadata": {},
   "outputs": [
    {
     "name": "stdout",
     "output_type": "stream",
     "text": [
      "b is greater\n"
     ]
    }
   ],
   "source": [
    "a = 12\n",
    "b = 45\n",
    "c=10\n",
    "\n",
    "if a>=b and a>=c:\n",
    "    print(\"a is greater\")\n",
    "elif b>=a and b>=c:  \n",
    "    print(\"b is greater\")\n",
    "else:\n",
    "    print(\"c is greater\")"
   ]
  },
  {
   "cell_type": "markdown",
   "id": "ecae34a8-ed01-4497-a2c8-76a50a3379d3",
   "metadata": {},
   "source": [
    "#   if condition using .....NOT....."
   ]
  },
  {
   "cell_type": "code",
   "execution_count": 18,
   "id": "c3658718-ad39-4fb7-9616-8c9b3313b384",
   "metadata": {},
   "outputs": [
    {
     "name": "stdout",
     "output_type": "stream",
     "text": [
      "a is NOT greater than b\n"
     ]
    }
   ],
   "source": [
    "a = 75\n",
    "b = 150\n",
    "if not a > b:\n",
    "  print(\"a is NOT greater than b\")"
   ]
  },
  {
   "cell_type": "code",
   "execution_count": 19,
   "id": "ab2686f5-6774-449f-bfbe-c81a9c2464eb",
   "metadata": {},
   "outputs": [
    {
     "name": "stdout",
     "output_type": "stream",
     "text": [
      "b is greater\n"
     ]
    }
   ],
   "source": [
    "a = 15\n",
    "b = 45\n",
    "c=10\n",
    "\n",
    "if a>=b and a>=c:\n",
    "    print(\"a is greater\")\n",
    "elif b>=a and b>=c:  \n",
    "    print(\"b is greater\")\n",
    "else:\n",
    "    print(\"c is greater\")\n"
   ]
  },
  {
   "cell_type": "code",
   "execution_count": 21,
   "id": "6410c811-7c74-4c01-8387-b0da97bf3922",
   "metadata": {},
   "outputs": [
    {
     "name": "stdin",
     "output_type": "stream",
     "text": [
      "available there yes\n"
     ]
    }
   ],
   "source": [
    "k=\"i am vasanth\"\n",
    "if \"vasanth\"  in k:\n",
    "    deg=input(\"available there\")\n",
    "    \n",
    "else:\n",
    "    print(\"your not vasanth\")"
   ]
  },
  {
   "cell_type": "code",
   "execution_count": 27,
   "id": "342f7b6d-f6f3-47ec-a5a2-621547d91235",
   "metadata": {},
   "outputs": [
    {
     "name": "stdout",
     "output_type": "stream",
     "text": [
      "enter correct age\n"
     ]
    }
   ],
   "source": [
    "a=26\n",
    "b=\"jlhjn\"\n",
    "if a>35:\n",
    "    if b==\"jlhjn\":\n",
    "        print(\"yes\")\n",
    "    else:\n",
    "        print(\"invalid\")\n",
    "else:\n",
    "    print(\"enter correct age\")"
   ]
  },
  {
   "cell_type": "markdown",
   "id": "e9c01b30-255b-4b9e-8cb8-94294c95597e",
   "metadata": {},
   "source": [
    "# Exercise"
   ]
  },
  {
   "cell_type": "code",
   "execution_count": 10,
   "id": "5a3cf2fd-6fcc-4cbd-9d95-aaa4182a0a77",
   "metadata": {},
   "outputs": [
    {
     "name": "stdout",
     "output_type": "stream",
     "text": [
      "Grade B\n"
     ]
    }
   ],
   "source": [
    "k = 75\n",
    "if k>=90:\n",
    "    print(\"Grade A\")\n",
    "elif k>70 and k<=80:\n",
    "    print(\"Grade B\")\n",
    "elif k>60 and k<70:\n",
    "    print(\"Grade C\")\n",
    "elif k<50:\n",
    "    print(\"Grade D\")"
   ]
  },
  {
   "cell_type": "code",
   "execution_count": null,
   "id": "aff69ba1-fa5b-4fd1-b788-17d6910ae401",
   "metadata": {},
   "outputs": [],
   "source": []
  }
 ],
 "metadata": {
  "kernelspec": {
   "display_name": "Python 3 (ipykernel)",
   "language": "python",
   "name": "python3"
  },
  "language_info": {
   "codemirror_mode": {
    "name": "ipython",
    "version": 3
   },
   "file_extension": ".py",
   "mimetype": "text/x-python",
   "name": "python",
   "nbconvert_exporter": "python",
   "pygments_lexer": "ipython3",
   "version": "3.12.7"
  }
 },
 "nbformat": 4,
 "nbformat_minor": 5
}
