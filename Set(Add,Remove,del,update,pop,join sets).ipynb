{
 "cells": [
  {
   "cell_type": "markdown",
   "id": "3bd6e7b3-43ea-46f3-864b-ab86980c9697",
   "metadata": {},
   "source": [
    "# Set\n",
    "# Sets are used to store multiple items in a single variable.\n",
    "\n",
    "# Set is one of 4 built-in data types in Python used to store collections of data, the other 3 are List, Tuple, and Dictionary, all with different qualities and usage.\n",
    "\n",
    "# A set is a collection which is unordered, unchangeable*, and unindexed(Duplicates not allowed).\n",
    "\n",
    "# Note: Set items are unchangeable, but you can remove items and add new items."
   ]
  },
  {
   "cell_type": "code",
   "execution_count": 1,
   "id": "aab3e4a9-69a5-477a-a0dc-0eee6e963f03",
   "metadata": {},
   "outputs": [
    {
     "data": {
      "text/plain": [
       "{1, 2}"
      ]
     },
     "execution_count": 1,
     "metadata": {},
     "output_type": "execute_result"
    }
   ],
   "source": [
    "k={1,1,1,2,2,1,1}\n",
    "k"
   ]
  },
  {
   "cell_type": "code",
   "execution_count": 3,
   "id": "059312dd-2d4d-4f74-a694-1f42fb222405",
   "metadata": {},
   "outputs": [
    {
     "name": "stdout",
     "output_type": "stream",
     "text": [
      "{'raja', 'vasanth'}\n"
     ]
    }
   ],
   "source": [
    "k={\"vasanth\",\"raja\",\"raja\",\"vasanth\"}\n",
    "print(k)"
   ]
  },
  {
   "cell_type": "code",
   "execution_count": 4,
   "id": "a2b61706-dd3d-42dc-b5fd-fe73a3c3af7b",
   "metadata": {},
   "outputs": [
    {
     "data": {
      "text/plain": [
       "{5, 8, 89, 9, 90, False, True, 'apple', 'banana', 'cherry'}"
      ]
     },
     "execution_count": 4,
     "metadata": {},
     "output_type": "execute_result"
    }
   ],
   "source": [
    "myset = {\"apple\",89,\"banana\", \"cherry\", False, True, 1,0,5,9,90,8,90}\n",
    "myset"
   ]
  },
  {
   "cell_type": "code",
   "execution_count": 5,
   "id": "9e84d4d0-2f79-482c-acf2-f487ad559b68",
   "metadata": {},
   "outputs": [
    {
     "name": "stdout",
     "output_type": "stream",
     "text": [
      "10\n"
     ]
    }
   ],
   "source": [
    "myset = {\"apple\",89,\"banana\", \"cherry\", False, True, 1,0,5,9,90,8,90}\n",
    "print(len(myset))"
   ]
  },
  {
   "cell_type": "code",
   "execution_count": 6,
   "id": "d8952775-49bd-4f62-bd9c-ff80978501b1",
   "metadata": {},
   "outputs": [
    {
     "data": {
      "text/plain": [
       "{1, 2, 3, 454}"
      ]
     },
     "execution_count": 6,
     "metadata": {},
     "output_type": "execute_result"
    }
   ],
   "source": [
    "mylist=[1,2,2,2,3,454]\n",
    "myset=set(mylist)\n",
    "myset"
   ]
  },
  {
   "cell_type": "code",
   "execution_count": 9,
   "id": "29aa9d7f-b503-4c13-9d97-edf77acd54a7",
   "metadata": {},
   "outputs": [
    {
     "name": "stdout",
     "output_type": "stream",
     "text": [
      "{1, 66, 33, 6, 11, 22}\n"
     ]
    }
   ],
   "source": [
    "mylist=(11,1,11,22,22,33,66,33,6)\n",
    "k=set(mylist)\n",
    "print(k)"
   ]
  },
  {
   "cell_type": "code",
   "execution_count": 10,
   "id": "47bfa7d1-2456-433e-b063-96184b7aeb4c",
   "metadata": {},
   "outputs": [
    {
     "name": "stdout",
     "output_type": "stream",
     "text": [
      "banana\n",
      "apple\n",
      "cherry\n"
     ]
    }
   ],
   "source": [
    "myset = {\"apple\", \"banana\", \"cherry\"}\n",
    "\n",
    "for x in myset:\n",
    "  print(x)"
   ]
  },
  {
   "cell_type": "code",
   "execution_count": 12,
   "id": "1928f155-476b-4d6e-9b43-776db8a62374",
   "metadata": {},
   "outputs": [
    {
     "name": "stdout",
     "output_type": "stream",
     "text": [
      "1\n",
      "5\n",
      "6\n",
      "8\n",
      "9\n"
     ]
    }
   ],
   "source": [
    "k={1,5,6,8,9}\n",
    "for j in k:\n",
    "    print(j)"
   ]
  },
  {
   "cell_type": "markdown",
   "id": "ffefb0c8-2022-492a-bef4-fff37f793083",
   "metadata": {},
   "source": [
    "# Add in set"
   ]
  },
  {
   "cell_type": "code",
   "execution_count": 13,
   "id": "95b57801-8e2e-405e-997a-bcf993eb8683",
   "metadata": {},
   "outputs": [
    {
     "name": "stdout",
     "output_type": "stream",
     "text": [
      "{'banana', 'hi', 'apple', 'cherry'}\n"
     ]
    }
   ],
   "source": [
    "myset = {\"apple\", \"banana\", \"cherry\"}\n",
    "\n",
    "myset.add(\"hi\")\n",
    "\n",
    "print(myset)"
   ]
  },
  {
   "cell_type": "code",
   "execution_count": 19,
   "id": "7103b627-02c5-4100-9b97-575a5318f2f7",
   "metadata": {},
   "outputs": [
    {
     "name": "stdout",
     "output_type": "stream",
     "text": [
      "{456, 123, 'hi', 789}\n"
     ]
    }
   ],
   "source": [
    "num={789,456,123}\n",
    "num.add(\"hi\")\n",
    "print(num)"
   ]
  },
  {
   "cell_type": "code",
   "execution_count": 20,
   "id": "0bdd7b58-0981-4ce2-83c3-4d86df3086af",
   "metadata": {},
   "outputs": [
    {
     "name": "stdout",
     "output_type": "stream",
     "text": [
      "{'papaya', 'pineapple', 'banana', 'mango', 'apple', 'cherry'}\n"
     ]
    }
   ],
   "source": [
    "myset = {\"apple\", \"banana\", \"cherry\"}\n",
    "myset1 = {\"pineapple\", \"mango\", \"papaya\"}\n",
    "\n",
    "myset.update(myset1)\n",
    "\n",
    "print(myset)"
   ]
  },
  {
   "cell_type": "code",
   "execution_count": 21,
   "id": "f19a38b5-2e47-4858-a84b-8aeb6fd29e85",
   "metadata": {},
   "outputs": [
    {
     "name": "stdout",
     "output_type": "stream",
     "text": [
      "{1, 2, 3, 5, 7, 8, 95}\n"
     ]
    }
   ],
   "source": [
    "k={1,2,3,5,8}\n",
    "l={7,8,95,2}\n",
    "k.update(l)\n",
    "print(k)"
   ]
  },
  {
   "cell_type": "markdown",
   "id": "7295e1d4-0f93-4400-ae79-320652797009",
   "metadata": {},
   "source": [
    "# Remove"
   ]
  },
  {
   "cell_type": "code",
   "execution_count": 22,
   "id": "d558aaa1-38ff-49a7-a443-019a1b97af6f",
   "metadata": {},
   "outputs": [
    {
     "name": "stdout",
     "output_type": "stream",
     "text": [
      "{'apple', 'cherry'}\n"
     ]
    }
   ],
   "source": [
    "myset = {\"apple\", \"banana\", \"cherry\"}\n",
    "\n",
    "myset.remove(\"banana\")\n",
    "\n",
    "print(myset)"
   ]
  },
  {
   "cell_type": "code",
   "execution_count": 23,
   "id": "7ec06f68-f687-474a-a81d-fff597e2d512",
   "metadata": {},
   "outputs": [
    {
     "name": "stdout",
     "output_type": "stream",
     "text": [
      "{123852, 789}\n"
     ]
    }
   ],
   "source": [
    "num={789,456,123852}\n",
    "num.remove(456)\n",
    "print(num)"
   ]
  },
  {
   "cell_type": "code",
   "execution_count": 24,
   "id": "a2d48f72-c3a5-4975-a516-cf2da0206bd9",
   "metadata": {},
   "outputs": [
    {
     "name": "stdout",
     "output_type": "stream",
     "text": [
      "{'apple', 'cherry'}\n"
     ]
    }
   ],
   "source": [
    "myset = {\"apple\", \"banana\", \"cherry\"}\n",
    "\n",
    "myset.discard(\"banana\")\n",
    "\n",
    "print(myset)"
   ]
  },
  {
   "cell_type": "code",
   "execution_count": 25,
   "id": "47e21cb5-d1f8-4229-b3d3-43869d6aa14e",
   "metadata": {},
   "outputs": [
    {
     "name": "stdout",
     "output_type": "stream",
     "text": [
      "{123852, 789}\n"
     ]
    }
   ],
   "source": [
    "num={789,456,123852}\n",
    "num.discard(456)\n",
    "print(num)"
   ]
  },
  {
   "cell_type": "code",
   "execution_count": 26,
   "id": "0f1cbd78-6860-445a-977d-225c1d4287d2",
   "metadata": {},
   "outputs": [
    {
     "name": "stdout",
     "output_type": "stream",
     "text": [
      "{89, 'apple', 'hji', 8.0, 9, 'banana', 78}\n",
      "89\n",
      "{'apple', 'hji', 8.0, 9, 'banana', 78}\n"
     ]
    }
   ],
   "source": [
    "myset = { \"banana\",\"apple\",\"hji\",8.0,9,78,89}\n",
    "print(myset)\n",
    "x = myset.pop()\n",
    "\n",
    "print(x)\n",
    "\n",
    "print(myset)"
   ]
  },
  {
   "cell_type": "code",
   "execution_count": 27,
   "id": "bb0d3644-01d9-4ec2-b891-14560dd23dc9",
   "metadata": {},
   "outputs": [
    {
     "name": "stdout",
     "output_type": "stream",
     "text": [
      "{456, 123852, 789}\n",
      "456\n",
      "{123852, 789}\n"
     ]
    }
   ],
   "source": [
    "num={789,456,123852}\n",
    "print(num)\n",
    "x=num.pop()\n",
    "print(x)\n",
    "print(num)"
   ]
  },
  {
   "cell_type": "code",
   "execution_count": 28,
   "id": "29006677-ab64-4ff2-bf8d-900a82eb5f86",
   "metadata": {},
   "outputs": [
    {
     "ename": "NameError",
     "evalue": "name 'myset' is not defined",
     "output_type": "error",
     "traceback": [
      "\u001b[1;31m---------------------------------------------------------------------------\u001b[0m",
      "\u001b[1;31mNameError\u001b[0m                                 Traceback (most recent call last)",
      "Cell \u001b[1;32mIn[28], line 5\u001b[0m\n\u001b[0;32m      1\u001b[0m myset \u001b[38;5;241m=\u001b[39m {\u001b[38;5;124m\"\u001b[39m\u001b[38;5;124mapple\u001b[39m\u001b[38;5;124m\"\u001b[39m, \u001b[38;5;124m\"\u001b[39m\u001b[38;5;124mbanana\u001b[39m\u001b[38;5;124m\"\u001b[39m, \u001b[38;5;124m\"\u001b[39m\u001b[38;5;124mcherry\u001b[39m\u001b[38;5;124m\"\u001b[39m}\n\u001b[0;32m      3\u001b[0m \u001b[38;5;28;01mdel\u001b[39;00m myset\n\u001b[1;32m----> 5\u001b[0m \u001b[38;5;28mprint\u001b[39m(myset)\n",
      "\u001b[1;31mNameError\u001b[0m: name 'myset' is not defined"
     ]
    }
   ],
   "source": [
    "myset = {\"apple\", \"banana\", \"cherry\"}\n",
    "\n",
    "del myset\n",
    "\n",
    "print(myset)"
   ]
  },
  {
   "cell_type": "code",
   "execution_count": 29,
   "id": "bf38fc6a-bc7a-419f-b1a9-6a60a6c8c4f0",
   "metadata": {},
   "outputs": [
    {
     "ename": "NameError",
     "evalue": "name 'num' is not defined",
     "output_type": "error",
     "traceback": [
      "\u001b[1;31m---------------------------------------------------------------------------\u001b[0m",
      "\u001b[1;31mNameError\u001b[0m                                 Traceback (most recent call last)",
      "Cell \u001b[1;32mIn[29], line 3\u001b[0m\n\u001b[0;32m      1\u001b[0m num\u001b[38;5;241m=\u001b[39m{\u001b[38;5;241m789\u001b[39m,\u001b[38;5;241m456\u001b[39m,\u001b[38;5;241m123852\u001b[39m}\n\u001b[0;32m      2\u001b[0m \u001b[38;5;28;01mdel\u001b[39;00m num\n\u001b[1;32m----> 3\u001b[0m \u001b[38;5;28mprint\u001b[39m(num)\n",
      "\u001b[1;31mNameError\u001b[0m: name 'num' is not defined"
     ]
    }
   ],
   "source": [
    "num={789,456,123852}\n",
    "del num\n",
    "print(num)"
   ]
  },
  {
   "cell_type": "markdown",
   "id": "22ad07f5-b9f8-4fa0-acf9-2e31af87987f",
   "metadata": {},
   "source": [
    "# joins set"
   ]
  },
  {
   "cell_type": "markdown",
   "id": "38cfb9c4-ac91-4378-a669-278121e8f8ae",
   "metadata": {},
   "source": [
    "# Union\n",
    "# Combine all items both sets,excluding dupilicates\n",
    "# Using symbol \" | \""
   ]
  },
  {
   "cell_type": "code",
   "execution_count": 2,
   "id": "3eb9ef76-50d0-47de-87dc-bacd6d0f070c",
   "metadata": {},
   "outputs": [
    {
     "name": "stdout",
     "output_type": "stream",
     "text": [
      "{1, 2, 3, 'apple', 6, 8, 'banana', 'orange'}\n"
     ]
    }
   ],
   "source": [
    "set1 = {\"apple\", \"banana\", \"orange\",1}\n",
    "set2 = {1, 2, 3,\"apple\",6,8,\"banana\"}\n",
    "\n",
    "set3 = set1.union(set2)\n",
    "print(set3)"
   ]
  },
  {
   "cell_type": "code",
   "execution_count": 3,
   "id": "765c9327-f50c-46b1-ac67-8d8ed81a4a6d",
   "metadata": {},
   "outputs": [
    {
     "name": "stdout",
     "output_type": "stream",
     "text": [
      "{1, 2, 3, 4, 5, 6, 8, 9}\n"
     ]
    }
   ],
   "source": [
    "k={1,2,3,4,5,5,4,2}\n",
    "l={9,8,5,6,2,4,3,5}\n",
    "m=k.union(l)\n",
    "print(m)"
   ]
  },
  {
   "cell_type": "code",
   "execution_count": 4,
   "id": "cf71af99-c03c-4a8b-b66f-cf81471da07e",
   "metadata": {},
   "outputs": [
    {
     "data": {
      "text/plain": [
       "{1, 2, 3, 'apple', 'banana', 'orange'}"
      ]
     },
     "execution_count": 4,
     "metadata": {},
     "output_type": "execute_result"
    }
   ],
   "source": [
    "set1 = {\"apple\", \"banana\", \"orange\"}\n",
    "set2 = {1, 2, 3}\n",
    "\n",
    "set3=set1|set2\n",
    "\n",
    "set3"
   ]
  },
  {
   "cell_type": "code",
   "execution_count": 5,
   "id": "5d571c63-d97d-4c05-8144-e7d0e5ba4acc",
   "metadata": {},
   "outputs": [
    {
     "name": "stdout",
     "output_type": "stream",
     "text": [
      "{1, 2, 3, 4, 5, 6, 8, 9}\n"
     ]
    }
   ],
   "source": [
    "k={1,2,3,4,5,5,4,2}\n",
    "l={9,8,5,6,2,4,3,5}\n",
    "m=k|l\n",
    "print(m)"
   ]
  },
  {
   "cell_type": "code",
   "execution_count": 6,
   "id": "b9c7574f-6e2e-4ee0-bb19-161d4f2af1f4",
   "metadata": {},
   "outputs": [
    {
     "name": "stdout",
     "output_type": "stream",
     "text": [
      "{1, 2, 3, 'apple', 'b', 'John', 'a', 'c', 'Elena', 'cherry', 'bananas'}\n"
     ]
    }
   ],
   "source": [
    "set1 = {\"a\", \"b\", \"c\"}\n",
    "set2 = {1, 2, 3}\n",
    "set3 = {\"John\", \"Elena\",3}\n",
    "set4 = {\"apple\", \"bananas\", \"cherry\"}\n",
    "\n",
    "myset = set1.union(set2, set3, set4)\n",
    "print(myset)"
   ]
  },
  {
   "cell_type": "code",
   "execution_count": 8,
   "id": "4d5be4ca-e34a-4ee5-9b2a-bb0df2f3803b",
   "metadata": {},
   "outputs": [
    {
     "name": "stdout",
     "output_type": "stream",
     "text": [
      "{1, 2, 3, 'apple', 'b', 'John', 'a', 'c', 'Elena', 'cherry', 'bananas'}\n"
     ]
    }
   ],
   "source": [
    "set1 = {\"a\", \"b\", \"c\"}\n",
    "set2 = {1, 2, 3}\n",
    "set3 = {\"John\", \"Elena\",3}\n",
    "set4 = {\"apple\", \"bananas\", \"cherry\"}\n",
    "\n",
    "myset = set1|set2|set3|set4\n",
    "print(myset)"
   ]
  },
  {
   "cell_type": "code",
   "execution_count": 10,
   "id": "484ceebb-4093-41d0-a8cf-4a9c971275fe",
   "metadata": {},
   "outputs": [
    {
     "name": "stdout",
     "output_type": "stream",
     "text": [
      "{1, 2, 3, 4, 5, 6, 8, 9}\n"
     ]
    }
   ],
   "source": [
    "k={1,2,3,4,5,5,4,2}\n",
    "l={9,8,5,6,2,4,3,5}\n",
    "n={5,6,2,3,8,9,6}\n",
    "o={9,5,2,1,6,6}\n",
    "m=k|l|o|n\n",
    "print(m)"
   ]
  },
  {
   "cell_type": "code",
   "execution_count": 11,
   "id": "044817c0-5b80-448b-8c42-1b159ddfe0a8",
   "metadata": {},
   "outputs": [
    {
     "name": "stdout",
     "output_type": "stream",
     "text": [
      "{1, 2, 3, 'b', 'a', 'c'}\n"
     ]
    }
   ],
   "source": [
    "x = {\"a\", \"b\", \"c\"}\n",
    "y = (1, 2, 3)\n",
    "\n",
    "z = x.union(y)\n",
    "print(z)"
   ]
  },
  {
   "cell_type": "markdown",
   "id": "659c07e0-7c3f-4146-be6c-a16e64cea50a",
   "metadata": {},
   "source": [
    "# tuple,set merge one set"
   ]
  },
  {
   "cell_type": "code",
   "execution_count": 14,
   "id": "42d9f242-683c-4e8d-af2a-c3234b2791d1",
   "metadata": {},
   "outputs": [
    {
     "name": "stdout",
     "output_type": "stream",
     "text": [
      "{1, 2, 5, 'hi', 'vasanth', 8, 9}\n"
     ]
    }
   ],
   "source": [
    "k={1,2,5,8,9}\n",
    "l=(\"hi\",\"vasanth\")\n",
    "m=k.union(l)\n",
    "print(m)"
   ]
  },
  {
   "cell_type": "markdown",
   "id": "f510390b-b4db-4f68-a088-1f187e16f91b",
   "metadata": {},
   "source": [
    "# list,tuple,set merge in one set"
   ]
  },
  {
   "cell_type": "code",
   "execution_count": 16,
   "id": "b78079db-8c83-4b36-bb0b-ed8c434b445b",
   "metadata": {},
   "outputs": [
    {
     "name": "stdout",
     "output_type": "stream",
     "text": [
      "{1, 2, 5, 456, 8, 9, 'ajith', 789, 'hi', 'vasanth', 123}\n"
     ]
    }
   ],
   "source": [
    "k={1,2,5,8,9}\n",
    "l=(\"hi\",\"vasanth\")\n",
    "n=[456,789,123,\"ajith\"]\n",
    "m=k.union(l,n)\n",
    "print(m)"
   ]
  },
  {
   "cell_type": "markdown",
   "id": "40b9d8d8-c056-4c8d-92b2-bf5fa872a3a0",
   "metadata": {},
   "source": [
    "# update in union -----  modifying the originalset but same as union---"
   ]
  },
  {
   "cell_type": "code",
   "execution_count": 21,
   "id": "f6430491-333a-43d7-b207-b31c69290886",
   "metadata": {},
   "outputs": [
    {
     "name": "stdout",
     "output_type": "stream",
     "text": [
      "{1, 2, 5, 'hi', 'vasanth', 8, 9}\n"
     ]
    }
   ],
   "source": [
    "k={1,2,5,8,9}\n",
    "l=(\"hi\",\"vasanth\")\n",
    "k.update(l)\n",
    "print(k)"
   ]
  },
  {
   "cell_type": "code",
   "execution_count": 22,
   "id": "7238a2f1-3d7b-4e5c-aa4e-dc8a8586666b",
   "metadata": {},
   "outputs": [
    {
     "name": "stdout",
     "output_type": "stream",
     "text": [
      "{1, 2, 3, 4, 5, 6, 8, 9}\n"
     ]
    }
   ],
   "source": [
    "k={1,2,3,4,5,5,4,2}\n",
    "l={9,8,5,6,2,4,3,5}\n",
    "k.update(l)\n",
    "print(k)"
   ]
  },
  {
   "cell_type": "code",
   "execution_count": 33,
   "id": "1ffa2927-8c49-496c-b618-016043a4aea1",
   "metadata": {},
   "outputs": [
    {
     "name": "stdout",
     "output_type": "stream",
     "text": [
      "{1, 2, 3, 4, 5, 6, 8, 9}\n"
     ]
    }
   ],
   "source": [
    "k={1,2,3,4,5,5,4,2}\n",
    "l={9,8,5,6,2,4,3,5}\n",
    "n={5,6,2,3,8,9,6}\n",
    "o={9,5,2,1,6,6}\n",
    "k.update(l,o,n)\n",
    "print(k)"
   ]
  },
  {
   "cell_type": "markdown",
   "id": "8685183e-1a01-4408-a185-a6ede96c8942",
   "metadata": {},
   "source": [
    "# Intersection\n",
    "# keep only the common items found in both sets\n",
    "# Using symbol \" & \""
   ]
  },
  {
   "cell_type": "code",
   "execution_count": 11,
   "id": "55641262-734e-4d57-b0ec-2fd0484ba4e9",
   "metadata": {},
   "outputs": [
    {
     "data": {
      "text/plain": [
       "{'apple'}"
      ]
     },
     "execution_count": 11,
     "metadata": {},
     "output_type": "execute_result"
    }
   ],
   "source": [
    "set1 = {\"apple\", \"banana\", \"cherry\"}\n",
    "set2 = {\"google\", \"microsoft\", \"apple\"}\n",
    "\n",
    "\n",
    "set3=set1.intersection(set2)\n",
    "set3"
   ]
  },
  {
   "cell_type": "code",
   "execution_count": 24,
   "id": "2083fc00-ea6c-4045-9e48-17097a395fc5",
   "metadata": {},
   "outputs": [
    {
     "name": "stdout",
     "output_type": "stream",
     "text": [
      "{3, 4}\n",
      "{1, 2, 3, 4}\n"
     ]
    }
   ],
   "source": [
    "set1 = {1, 2, 3, 4}\n",
    "set2 = {3, 4, 5, 6}\n",
    "result = set1.intersection(set2)\n",
    "print(result)  # Output: {3, 4}\n",
    "print(set1)    # Output: {1, 2, 3, 4} (unchanged)\n"
   ]
  },
  {
   "cell_type": "code",
   "execution_count": 25,
   "id": "168ae6e0-62cf-49f9-b528-a9f5219f418a",
   "metadata": {},
   "outputs": [
    {
     "name": "stdout",
     "output_type": "stream",
     "text": [
      "{2, 3, 4, 5}\n"
     ]
    }
   ],
   "source": [
    "k={1,2,3,4,5,5,4,2}\n",
    "l={9,8,5,6,2,4,3,5}\n",
    "m=k.intersection(l)\n",
    "print(m)"
   ]
  },
  {
   "cell_type": "code",
   "execution_count": 27,
   "id": "b07d60ec-f4e8-4922-8d1d-82fc32a4daf6",
   "metadata": {},
   "outputs": [
    {
     "name": "stdout",
     "output_type": "stream",
     "text": [
      "{2, 5}\n"
     ]
    }
   ],
   "source": [
    "k={1,2,3,4,5,5,4,2}\n",
    "l={9,8,5,6,2,4,3,5}\n",
    "n={5,6,2,3,8,9,6}\n",
    "o={9,5,2,1,6,6}\n",
    "m=k&l&n&o\n",
    "print(m)"
   ]
  },
  {
   "cell_type": "code",
   "execution_count": 28,
   "id": "91f67891-c285-4a97-ada4-e00ace44a12d",
   "metadata": {},
   "outputs": [
    {
     "data": {
      "text/plain": [
       "{'apple'}"
      ]
     },
     "execution_count": 28,
     "metadata": {},
     "output_type": "execute_result"
    }
   ],
   "source": [
    "set1 = {\"apple\", \"banana\", \"cherry\"}\n",
    "set2 = {\"google\", \"microsoft\", \"apple\"}\n",
    "\n",
    "\n",
    "set3=set1&set2\n",
    "set3"
   ]
  },
  {
   "cell_type": "markdown",
   "id": "074be73b-da92-4d73-93fd-507c7921d51d",
   "metadata": {},
   "source": [
    "# Intersection_update\n",
    "# modifys sets to keep only common values"
   ]
  },
  {
   "cell_type": "code",
   "execution_count": 34,
   "id": "98b228b2-18bd-427d-9063-d6b69b4dd86a",
   "metadata": {},
   "outputs": [
    {
     "data": {
      "text/plain": [
       "{'apple'}"
      ]
     },
     "execution_count": 34,
     "metadata": {},
     "output_type": "execute_result"
    }
   ],
   "source": [
    "set1 = {\"apple\", \"banana\", \"cherry\"}\n",
    "set2 = {\"google\", \"microsoft\", \"apple\"}\n",
    "\n",
    "\n",
    "set1.intersection_update(set2)\n",
    "set1"
   ]
  },
  {
   "cell_type": "code",
   "execution_count": 35,
   "id": "c3eed2dc-c1f5-40d3-b794-ed5eda3d0eea",
   "metadata": {},
   "outputs": [
    {
     "name": "stdout",
     "output_type": "stream",
     "text": [
      "{2, 3, 4, 5}\n"
     ]
    }
   ],
   "source": [
    "k={1,2,3,4,5,5,4,2}\n",
    "l={9,8,5,6,2,4,3,5}\n",
    "k.intersection_update(l)\n",
    "print(k)"
   ]
  },
  {
   "cell_type": "code",
   "execution_count": 31,
   "id": "f683c4bb-e280-4402-86d9-aaae86f5f92b",
   "metadata": {},
   "outputs": [
    {
     "name": "stdout",
     "output_type": "stream",
     "text": [
      "{2, 5}\n"
     ]
    }
   ],
   "source": [
    "k={1,2,3,4,5,5,4,2}\n",
    "l={9,8,5,6,2,4,3,5}\n",
    "n={5,6,2,3,8,9,6}\n",
    "o={9,5,2,1,6,6}\n",
    "k.intersection_update(l,n,o)\n",
    "print(k)"
   ]
  },
  {
   "cell_type": "markdown",
   "id": "817433a5-8847-438c-845a-bd6547ee5157",
   "metadata": {},
   "source": [
    "# Difference\n",
    "# keeps items from first set(set1) that are not in second set(set2)\n",
    "# Using Symbol \" - \""
   ]
  },
  {
   "cell_type": "code",
   "execution_count": 44,
   "id": "465b2e97-f997-49d0-b5f2-7659fb42114a",
   "metadata": {},
   "outputs": [
    {
     "name": "stdout",
     "output_type": "stream",
     "text": [
      "{'banana', 'cherry'}\n"
     ]
    }
   ],
   "source": [
    "set1 = {\"apple\", \"banana\", \"cherry\"}\n",
    "set2 = {\"google\", \"microsoft\", \"apple\"}\n",
    "\n",
    "set3 = set1.difference(set2)\n",
    "\n",
    "print(set3)"
   ]
  },
  {
   "cell_type": "code",
   "execution_count": 45,
   "id": "3009f0ed-e43b-4ab7-bab1-e6efd53807ec",
   "metadata": {},
   "outputs": [
    {
     "name": "stdout",
     "output_type": "stream",
     "text": [
      "{'banana', 'cherry'}\n"
     ]
    }
   ],
   "source": [
    "set1 = {\"apple\", \"banana\", \"cherry\"}\n",
    "set2 = {\"google\", \"microsoft\", \"apple\"}\n",
    "\n",
    "set3 = set1-set2\n",
    "\n",
    "print(set3)"
   ]
  },
  {
   "cell_type": "code",
   "execution_count": 37,
   "id": "2e6bebb4-15a9-4b3e-8cdb-710f91d500af",
   "metadata": {},
   "outputs": [
    {
     "name": "stdout",
     "output_type": "stream",
     "text": [
      "{1}\n"
     ]
    }
   ],
   "source": [
    "k={1,2,3,4,5,5,4,2}\n",
    "l={9,8,5,6,2,4,3,5}\n",
    "m=k.difference(l)\n",
    "print(m)"
   ]
  },
  {
   "cell_type": "code",
   "execution_count": 46,
   "id": "0eb47552-1c15-4683-be57-bb82668ca078",
   "metadata": {},
   "outputs": [
    {
     "name": "stdout",
     "output_type": "stream",
     "text": [
      "{1}\n"
     ]
    }
   ],
   "source": [
    "k={1,2,3,4,5,5,4,2}\n",
    "l={9,8,5,6,2,4,3,5}\n",
    "m=k-l\n",
    "print(m)"
   ]
  },
  {
   "cell_type": "code",
   "execution_count": 60,
   "id": "4da04226-3dde-4ef2-a90f-24dfe6d33fc5",
   "metadata": {},
   "outputs": [
    {
     "name": "stdout",
     "output_type": "stream",
     "text": [
      "{1}\n"
     ]
    }
   ],
   "source": [
    "n={5,6,2,3,8,9,6}\n",
    "o={9,5,2,1,6,6}\n",
    "p=o.difference(n)\n",
    "print(p)"
   ]
  },
  {
   "cell_type": "code",
   "execution_count": 55,
   "id": "418056e7-8d64-4c17-84d5-c0a70a22636b",
   "metadata": {},
   "outputs": [
    {
     "name": "stdout",
     "output_type": "stream",
     "text": [
      "set()\n"
     ]
    }
   ],
   "source": [
    "k={1,2,3,4,5,5,4,2}\n",
    "l={9,8,5,6,2,4,3,5}\n",
    "n={5,6,2,3,8,9,6}\n",
    "o={9,5,2,1,6,6}\n",
    "m=k-l-n-o\n",
    "print(m)"
   ]
  },
  {
   "cell_type": "code",
   "execution_count": 48,
   "id": "b1417339-7c4b-40c7-a509-465da6f50772",
   "metadata": {},
   "outputs": [
    {
     "name": "stdout",
     "output_type": "stream",
     "text": [
      "{'google', 'microsoft'}\n"
     ]
    }
   ],
   "source": [
    "set1 = {\"apple\", \"banana\", \"cherry\"}\n",
    "set2 = {\"google\", \"microsoft\", \"apple\"}\n",
    "\n",
    "set3 = set2 - set1\n",
    "print(set3)"
   ]
  },
  {
   "cell_type": "code",
   "execution_count": 53,
   "id": "7aaca0b2-cb5a-496d-bb66-fb0cc9f227d2",
   "metadata": {},
   "outputs": [
    {
     "name": "stdout",
     "output_type": "stream",
     "text": [
      "{9, 4}\n"
     ]
    }
   ],
   "source": [
    "k={1,2,3,8,5,6}\n",
    "l={9,8,5,6,2,4,3,5}\n",
    "m=l-k\n",
    "print(m)"
   ]
  },
  {
   "cell_type": "markdown",
   "id": "ef4edb26-95c3-4014-8d6d-09f2857b91f0",
   "metadata": {},
   "source": [
    "# Difference_update\n",
    "# modifies set1 remove items found in set2"
   ]
  },
  {
   "cell_type": "code",
   "execution_count": 61,
   "id": "f71940a3-1d0b-40a0-b728-5764000835a5",
   "metadata": {},
   "outputs": [
    {
     "name": "stdout",
     "output_type": "stream",
     "text": [
      "{'banana', 'cherry'}\n"
     ]
    }
   ],
   "source": [
    "set1 = {\"apple\", \"banana\", \"cherry\"}\n",
    "set2 = {\"google\", \"microsoft\", \"apple\"}\n",
    "\n",
    "set1.difference_update(set2)\n",
    "\n",
    "print(set1)"
   ]
  },
  {
   "cell_type": "code",
   "execution_count": 62,
   "id": "1581fe7d-3fe9-4b89-b87a-76ffb3d8560f",
   "metadata": {},
   "outputs": [
    {
     "name": "stdout",
     "output_type": "stream",
     "text": [
      "{1}\n"
     ]
    }
   ],
   "source": [
    "k={1,2,3,4,5,5,4,2}\n",
    "l={9,8,5,6,2,4,3,5}\n",
    "k.difference_update(l)\n",
    "print(k)"
   ]
  },
  {
   "cell_type": "code",
   "execution_count": 1,
   "id": "4d8dc499-1778-49ba-8cb6-352cd62deac7",
   "metadata": {},
   "outputs": [
    {
     "name": "stdout",
     "output_type": "stream",
     "text": [
      "{1}\n"
     ]
    }
   ],
   "source": [
    "n={5,6,2,3,8,9,6}\n",
    "o={9,5,2,1,6,6}\n",
    "o.difference_update(n)\n",
    "print(o)"
   ]
  },
  {
   "cell_type": "code",
   "execution_count": 2,
   "id": "268dbf3e-f3b4-4e4b-b8d0-eb3d4a89ae53",
   "metadata": {},
   "outputs": [
    {
     "name": "stdout",
     "output_type": "stream",
     "text": [
      "{4, 9}\n"
     ]
    }
   ],
   "source": [
    "k={1,2,3,8,5,6}\n",
    "l={9,8,5,6,2,4,3,5}\n",
    "l.difference_update(k)\n",
    "print(l)"
   ]
  },
  {
   "cell_type": "markdown",
   "id": "3ccc385c-510e-4e99-8162-374ec657e923",
   "metadata": {},
   "source": [
    "# Symmetric difference\n",
    "# Keep All items Exclude Dupilicates\n",
    "# Using Symbol \" ^ \""
   ]
  },
  {
   "cell_type": "code",
   "execution_count": 12,
   "id": "2460a58e-3c0b-4ce6-b369-636b9761444c",
   "metadata": {},
   "outputs": [
    {
     "name": "stdout",
     "output_type": "stream",
     "text": [
      "{'microsoft', 'cherry', 'banana', 'google'}\n"
     ]
    }
   ],
   "source": [
    "set1 = {\"apple\", \"banana\", \"cherry\"}\n",
    "set2 = {\"google\", \"microsoft\", \"apple\"}\n",
    "\n",
    "set3 = set1.symmetric_difference(set2)\n",
    "\n",
    "print(set3)"
   ]
  },
  {
   "cell_type": "code",
   "execution_count": 4,
   "id": "3abfc05b-d7aa-4edf-9c0c-100c837f2834",
   "metadata": {},
   "outputs": [
    {
     "name": "stdout",
     "output_type": "stream",
     "text": [
      "{'microsoft', 'cherry', 'banana', 'google'}\n"
     ]
    }
   ],
   "source": [
    "set1 = {\"apple\", \"banana\", \"cherry\"}\n",
    "set2 = {\"google\", \"microsoft\", \"apple\"}\n",
    "\n",
    "set3 = set1 ^ set2\n",
    "print(set3)"
   ]
  },
  {
   "cell_type": "code",
   "execution_count": 5,
   "id": "c4c01a27-2302-4e85-b5aa-495713f56594",
   "metadata": {},
   "outputs": [
    {
     "name": "stdout",
     "output_type": "stream",
     "text": [
      "{1, 6, 8, 9}\n"
     ]
    }
   ],
   "source": [
    "k={1,2,3,4,5,5,4,2}\n",
    "l={9,8,5,6,2,4,3,5}\n",
    "m=k.symmetric_difference(l)\n",
    "print(m)"
   ]
  },
  {
   "cell_type": "code",
   "execution_count": 6,
   "id": "956dd437-ee03-41fd-a491-8a8d9c0e36e0",
   "metadata": {},
   "outputs": [
    {
     "name": "stdout",
     "output_type": "stream",
     "text": [
      "{1, 6, 8, 9}\n"
     ]
    }
   ],
   "source": [
    "k={1,2,3,4,5,5,4,2}\n",
    "l={9,8,5,6,2,4,3,5}\n",
    "m=k^l\n",
    "print(m)"
   ]
  },
  {
   "cell_type": "code",
   "execution_count": 10,
   "id": "8ad75a1c-5a90-4af7-8c3f-23bc6159d707",
   "metadata": {},
   "outputs": [
    {
     "name": "stdout",
     "output_type": "stream",
     "text": [
      "{1, 3, 8}\n"
     ]
    }
   ],
   "source": [
    "n={5,6,2,3,8,9,6}\n",
    "o={9,5,2,1,6,6}\n",
    "m=o.symmetric_difference(n)\n",
    "print(m)"
   ]
  },
  {
   "cell_type": "code",
   "execution_count": 9,
   "id": "423c267d-6393-401c-9649-65085e6267db",
   "metadata": {},
   "outputs": [
    {
     "name": "stdout",
     "output_type": "stream",
     "text": [
      "{1, 3, 8}\n"
     ]
    }
   ],
   "source": [
    "n={5,6,2,3,8,9,6}\n",
    "o={9,5,2,1,6,6}\n",
    "m=n^o\n",
    "print(m)"
   ]
  },
  {
   "cell_type": "markdown",
   "id": "4f79803c-07be-49b5-97de-29a6ea63e2db",
   "metadata": {},
   "source": [
    "# Symmetric_difference_update\n",
    "# Modifies set 1 except dupilicates"
   ]
  },
  {
   "cell_type": "code",
   "execution_count": 19,
   "id": "0acf9a9e-fd51-4f7b-a59c-03e8037b1f62",
   "metadata": {},
   "outputs": [
    {
     "name": "stdout",
     "output_type": "stream",
     "text": [
      "{'microsoft', 'cherry', 'banana', 'google'}\n"
     ]
    }
   ],
   "source": [
    "set1 = {\"apple\", \"banana\", \"cherry\"}\n",
    "set2 = {\"google\", \"microsoft\", \"apple\"}\n",
    "\n",
    "set1.symmetric_difference_update(set2)\n",
    "\n",
    "print(set1)"
   ]
  },
  {
   "cell_type": "code",
   "execution_count": 20,
   "id": "4445ba32-ffe1-4d82-806b-1ee785a64cd1",
   "metadata": {},
   "outputs": [
    {
     "name": "stdout",
     "output_type": "stream",
     "text": [
      "{1, 6, 8, 9}\n"
     ]
    }
   ],
   "source": [
    "k={1,2,3,4,5,5,4,2}\n",
    "l={9,8,5,6,2,4,3,5}\n",
    "k.symmetric_difference_update(l)\n",
    "print(k)"
   ]
  },
  {
   "cell_type": "code",
   "execution_count": 21,
   "id": "7aef567f-914e-445f-8d3c-d2fce65fb451",
   "metadata": {},
   "outputs": [
    {
     "name": "stdout",
     "output_type": "stream",
     "text": [
      "{1, 3, 8}\n"
     ]
    }
   ],
   "source": [
    "n={5,6,2,3,8,9,6}\n",
    "o={9,5,2,1,6,6}\n",
    "o.symmetric_difference_update(n)\n",
    "print(o)"
   ]
  },
  {
   "cell_type": "code",
   "execution_count": null,
   "id": "fbcf8322-d1d7-4c22-b20d-eaba02377f45",
   "metadata": {},
   "outputs": [],
   "source": []
  }
 ],
 "metadata": {
  "kernelspec": {
   "display_name": "Python 3 (ipykernel)",
   "language": "python",
   "name": "python3"
  },
  "language_info": {
   "codemirror_mode": {
    "name": "ipython",
    "version": 3
   },
   "file_extension": ".py",
   "mimetype": "text/x-python",
   "name": "python",
   "nbconvert_exporter": "python",
   "pygments_lexer": "ipython3",
   "version": "3.12.7"
  }
 },
 "nbformat": 4,
 "nbformat_minor": 5
}
