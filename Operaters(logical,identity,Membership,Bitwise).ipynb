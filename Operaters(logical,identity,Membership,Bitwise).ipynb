{
 "cells": [
  {
   "cell_type": "markdown",
   "id": "0076eef0-cac6-44e6-a5b9-06a9c134e9f9",
   "metadata": {},
   "source": [
    "# ----python logical operaters----"
   ]
  },
  {
   "cell_type": "markdown",
   "id": "6a80e55c-8089-4097-9906-698126fea014",
   "metadata": {},
   "source": [
    "# ------AND -----OR----- ------NOT----"
   ]
  },
  {
   "cell_type": "code",
   "execution_count": 5,
   "id": "9b76cf9a-774a-425c-ad4b-e6493ec0aa57",
   "metadata": {},
   "outputs": [
    {
     "name": "stdout",
     "output_type": "stream",
     "text": [
      "True\n"
     ]
    }
   ],
   "source": [
    "a=15\n",
    "print(a>10 and a<20)"
   ]
  },
  {
   "cell_type": "code",
   "execution_count": 7,
   "id": "3ed18a8f-33d2-4574-942d-2f292ed0bb58",
   "metadata": {},
   "outputs": [
    {
     "name": "stdout",
     "output_type": "stream",
     "text": [
      "True\n"
     ]
    }
   ],
   "source": [
    "a=15\n",
    "print(a>10 or a<10)"
   ]
  },
  {
   "cell_type": "code",
   "execution_count": 9,
   "id": "ae59a19d-18aa-48a2-88a2-5916d8e6f07c",
   "metadata": {},
   "outputs": [
    {
     "name": "stdout",
     "output_type": "stream",
     "text": [
      "False\n"
     ]
    }
   ],
   "source": [
    "a=15\n",
    "print(not (a>10 and a<20))"
   ]
  },
  {
   "cell_type": "markdown",
   "id": "be17d9a2-8513-47e4-b3e0-3b2e5d5b0306",
   "metadata": {},
   "source": [
    "# -----Python Identity operaters---"
   ]
  },
  {
   "cell_type": "markdown",
   "id": "6ceb4a49-04ea-4a67-b6a5-17f6bac950cd",
   "metadata": {},
   "source": [
    "# -------is   (Returns True if both variables are the same object)\n",
    "# -----is not------(Returns True if both variables are not the same object)\n"
   ]
  },
  {
   "cell_type": "code",
   "execution_count": 13,
   "id": "625d34d9-f87f-4a55-b68e-284f9656876c",
   "metadata": {},
   "outputs": [
    {
     "name": "stdout",
     "output_type": "stream",
     "text": [
      "True\n",
      "False\n",
      "True\n"
     ]
    }
   ],
   "source": [
    "x=[\"apple\"]\n",
    "y=[\"apple\"]\n",
    "z=x\n",
    "print(x is z)\n",
    "print(x is y)\n",
    "print(x==y)"
   ]
  },
  {
   "cell_type": "code",
   "execution_count": 15,
   "id": "600fbc46-2408-45bb-8079-33867a61e98b",
   "metadata": {},
   "outputs": [
    {
     "name": "stdout",
     "output_type": "stream",
     "text": [
      "False\n",
      "True\n"
     ]
    }
   ],
   "source": [
    "x=55\n",
    "y=57\n",
    "print(x is y)\n",
    "print(x is not y)"
   ]
  },
  {
   "cell_type": "markdown",
   "id": "6c8a463a-7c13-4299-85f9-27805ca8cbad",
   "metadata": {},
   "source": [
    "# ------Python Membership operaters-----"
   ]
  },
  {
   "cell_type": "markdown",
   "id": "cdfaac67-949f-41e2-a157-e664869d2340",
   "metadata": {},
   "source": [
    "#   ------in----(Returns True if a sequence with the specified value is present in the object)\n",
    "#   -----not in----(Returns True if a sequence with the specified value is not present in the object)"
   ]
  },
  {
   "cell_type": "code",
   "execution_count": 16,
   "id": "6d3039d3-c8bf-43f4-9ddf-5a40d886ccd5",
   "metadata": {},
   "outputs": [
    {
     "name": "stdout",
     "output_type": "stream",
     "text": [
      "False\n"
     ]
    }
   ],
   "source": [
    "a=\"apple\"\n",
    "print(\"s\"  in a)"
   ]
  },
  {
   "cell_type": "code",
   "execution_count": 18,
   "id": "40a543a9-9d8a-488e-bba3-26dd523e9b3e",
   "metadata": {},
   "outputs": [
    {
     "name": "stdout",
     "output_type": "stream",
     "text": [
      "False\n"
     ]
    }
   ],
   "source": [
    "a=\"apple\"\n",
    "print(\"p\" not in a)"
   ]
  },
  {
   "cell_type": "markdown",
   "id": "6e3a1957-4f17-4cdb-aef6-44902fb659f8",
   "metadata": {},
   "source": [
    "#   -------BITWISE OPERATERS-------\n",
    "#   ----- &,|,XOR,~,<<,>>----"
   ]
  },
  {
   "cell_type": "markdown",
   "id": "691a801f-0c05-4c15-809a-b474bec983d4",
   "metadata": {},
   "source": [
    "# -----&------AND---(Sets each bit to 1 if both bits are 1)----"
   ]
  },
  {
   "cell_type": "code",
   "execution_count": 21,
   "id": "250c9743-8441-4993-a203-4da49e48d09a",
   "metadata": {},
   "outputs": [
    {
     "name": "stdout",
     "output_type": "stream",
     "text": [
      "8\n"
     ]
    }
   ],
   "source": [
    "print(11&12)"
   ]
  },
  {
   "cell_type": "code",
   "execution_count": 2,
   "id": "5ce58e46-28a3-46bb-a442-e89867111113",
   "metadata": {},
   "outputs": [
    {
     "name": "stdout",
     "output_type": "stream",
     "text": [
      "1\n"
     ]
    }
   ],
   "source": [
    "print(5&9)"
   ]
  },
  {
   "cell_type": "code",
   "execution_count": 3,
   "id": "b585127e-d8b8-4b71-bb15-5d26d0bbe897",
   "metadata": {},
   "outputs": [
    {
     "name": "stdout",
     "output_type": "stream",
     "text": [
      "21\n"
     ]
    }
   ],
   "source": [
    "print(55&85)"
   ]
  },
  {
   "cell_type": "markdown",
   "id": "11babb46-59b1-4716-850a-f82d4e8cfc1a",
   "metadata": {},
   "source": [
    "# -------|---------OR-------(Sets each bit to 1 if one of two bits is 1)"
   ]
  },
  {
   "cell_type": "code",
   "execution_count": 22,
   "id": "2fda129c-97de-4cbd-b517-a8893e92a28c",
   "metadata": {},
   "outputs": [
    {
     "name": "stdout",
     "output_type": "stream",
     "text": [
      "15\n"
     ]
    }
   ],
   "source": [
    "print(11|12)"
   ]
  },
  {
   "cell_type": "code",
   "execution_count": 4,
   "id": "672987c7-97d4-45f4-98b8-d49b579c1ef2",
   "metadata": {},
   "outputs": [
    {
     "name": "stdout",
     "output_type": "stream",
     "text": [
      "13\n"
     ]
    }
   ],
   "source": [
    "print(5|9)"
   ]
  },
  {
   "cell_type": "code",
   "execution_count": 8,
   "id": "ce185b22-b45a-475c-9b86-738333359ee0",
   "metadata": {},
   "outputs": [
    {
     "name": "stdout",
     "output_type": "stream",
     "text": [
      "119\n"
     ]
    }
   ],
   "source": [
    "print(55|85)"
   ]
  },
  {
   "cell_type": "markdown",
   "id": "332aba40-6b9c-45af-94a0-e068300cac05",
   "metadata": {},
   "source": [
    "# --------^------XOR------(Sets each bit to 1 if only one of two bits is 1)"
   ]
  },
  {
   "cell_type": "code",
   "execution_count": 6,
   "id": "3086c51f-d974-4229-997a-b497ff10d7f3",
   "metadata": {},
   "outputs": [
    {
     "name": "stdout",
     "output_type": "stream",
     "text": [
      "7\n"
     ]
    }
   ],
   "source": [
    "print(11^12)"
   ]
  },
  {
   "cell_type": "code",
   "execution_count": 7,
   "id": "9699391c-9734-4d32-8b0c-17d27941ba17",
   "metadata": {},
   "outputs": [
    {
     "name": "stdout",
     "output_type": "stream",
     "text": [
      "12\n"
     ]
    }
   ],
   "source": [
    "print(5^9)"
   ]
  },
  {
   "cell_type": "code",
   "execution_count": 9,
   "id": "990cab76-3a5d-4266-8edb-1317d8402c5c",
   "metadata": {},
   "outputs": [
    {
     "name": "stdout",
     "output_type": "stream",
     "text": [
      "98\n"
     ]
    }
   ],
   "source": [
    "print(55^85)"
   ]
  },
  {
   "cell_type": "markdown",
   "id": "32869e11-4409-42f1-9f79-6528c2d67ff3",
   "metadata": {},
   "source": [
    "# --------(~)----NOT----(Inverts all the bits)---"
   ]
  },
  {
   "cell_type": "code",
   "execution_count": 10,
   "id": "dae1417c-4bb3-445c-a5e6-e3bef726352d",
   "metadata": {},
   "outputs": [
    {
     "name": "stdout",
     "output_type": "stream",
     "text": [
      "-12\n"
     ]
    }
   ],
   "source": [
    "print(~11)"
   ]
  },
  {
   "cell_type": "code",
   "execution_count": 11,
   "id": "42885749-ef54-4ce5-addc-bd3c2458cb00",
   "metadata": {},
   "outputs": [
    {
     "name": "stdout",
     "output_type": "stream",
     "text": [
      "-13\n"
     ]
    }
   ],
   "source": [
    "print(~12)"
   ]
  },
  {
   "cell_type": "code",
   "execution_count": 12,
   "id": "eb3eea70-d3f5-4c94-a3a7-a70a5f069332",
   "metadata": {},
   "outputs": [
    {
     "name": "stdout",
     "output_type": "stream",
     "text": [
      "-11\n"
     ]
    }
   ],
   "source": [
    "print(~10)"
   ]
  },
  {
   "cell_type": "markdown",
   "id": "047f6463-00f7-4a3f-90de-b5414de7e1ef",
   "metadata": {},
   "source": [
    "# ------(<<)-----Bitwise left shift-----(Shift left by pushing zeros in from the right and let the leftmost bits fall off)--- 00000100 change one bit forward 00001000 and finally two power digit add 2^0 this method use\n",
    "# Shifts the bits of a binary number towardsthe left\n",
    "# Y << n shifts the binary representation of integer Y by n positions to the left\n",
    "# Y << n is as similar as multiplying the integer Y with 2**n\n"
   ]
  },
  {
   "cell_type": "code",
   "execution_count": 15,
   "id": "24d09769-23ed-44ba-b03b-2e4fa40fb422",
   "metadata": {},
   "outputs": [
    {
     "name": "stdout",
     "output_type": "stream",
     "text": [
      "8\n",
      "16\n",
      "32\n"
     ]
    }
   ],
   "source": [
    "print(4<<1)\n",
    "# 4*2^1=4*2=8 same as\n",
    "print(4<<2)\n",
    "print(4<<3)"
   ]
  },
  {
   "cell_type": "markdown",
   "id": "7ff3e5aa-6da8-4acb-8c41-6eb49a1c07c2",
   "metadata": {},
   "source": [
    "# ----(>>)-----Bitwise right shift ---(Shift right by pushing copies of the leftmost bit in from the left, and let the rightmost bits fall off)\n",
    "# Shifts the bits of a binary number towardsthe right\n",
    "# Y << n shifts the binary representation of integer Y by n positions to the right\n",
    "# Y << n is as similar as dividing the integer Y with 2**n"
   ]
  },
  {
   "cell_type": "code",
   "execution_count": 17,
   "id": "11f2c646-7b82-438b-9312-32a972b20105",
   "metadata": {},
   "outputs": [
    {
     "name": "stdout",
     "output_type": "stream",
     "text": [
      "2\n",
      "1\n",
      "0\n"
     ]
    }
   ],
   "source": [
    "print(4>>1)\n",
    "# 4/2^1=4/2=2 same as\n",
    "print(4>>2)\n",
    "print(4>>3)"
   ]
  },
  {
   "cell_type": "code",
   "execution_count": 18,
   "id": "27cba46c-0bcd-413d-90ed-f75d7dc71418",
   "metadata": {},
   "outputs": [
    {
     "name": "stdout",
     "output_type": "stream",
     "text": [
      "6\n",
      "3\n",
      "1\n"
     ]
    }
   ],
   "source": [
    "print(12>>1)\n",
    "# 12/2^1=12/2=6 same as\n",
    "print(12>>2)\n",
    "print(12>>3)"
   ]
  },
  {
   "cell_type": "code",
   "execution_count": null,
   "id": "7e359824-d691-45ea-b00b-b1ad8359354d",
   "metadata": {},
   "outputs": [],
   "source": []
  }
 ],
 "metadata": {
  "kernelspec": {
   "display_name": "Python 3 (ipykernel)",
   "language": "python",
   "name": "python3"
  },
  "language_info": {
   "codemirror_mode": {
    "name": "ipython",
    "version": 3
   },
   "file_extension": ".py",
   "mimetype": "text/x-python",
   "name": "python",
   "nbconvert_exporter": "python",
   "pygments_lexer": "ipython3",
   "version": "3.12.7"
  }
 },
 "nbformat": 4,
 "nbformat_minor": 5
}
