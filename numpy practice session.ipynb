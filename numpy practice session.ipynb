{
 "cells": [
  {
   "cell_type": "markdown",
   "id": "13dfa793-ba61-4e66-8b19-7a3dc0416a55",
   "metadata": {},
   "source": [
    "# numpy practice"
   ]
  },
  {
   "cell_type": "code",
   "execution_count": 8,
   "id": "01cd89fc-73f7-4aef-960f-4bc484975f40",
   "metadata": {},
   "outputs": [
    {
     "name": "stdout",
     "output_type": "stream",
     "text": [
      "[3, 5, 8]\n"
     ]
    }
   ],
   "source": [
    "a=[1,2,3]\n",
    "b=[2,3,5]\n",
    "c=[]\n",
    "for i in range(len(a)):\n",
    "    c.append(a[i]+b[i])\n",
    "print(c)"
   ]
  },
  {
   "cell_type": "code",
   "execution_count": 6,
   "id": "4dd4fc4f-cb08-409f-945d-d725e338d032",
   "metadata": {},
   "outputs": [
    {
     "name": "stdout",
     "output_type": "stream",
     "text": [
      "addition: [[70 50 61]\n",
      " [ 9 12 17]]\n",
      "substraction: [[20  0 11]\n",
      " [-1  0 -1]]\n",
      "multiplication: [[1125  625  900]\n",
      " [  20   36   72]]\n",
      "division: [[1.8        1.         1.44      ]\n",
      " [0.8        1.         0.88888889]]\n"
     ]
    }
   ],
   "source": [
    "import numpy as np\n",
    "a=np.array([[45,25,36],[4,6,8]])\n",
    "b=np.array([[25,25,25],[5,6,9]])\n",
    "add=a+b\n",
    "sub=a-b\n",
    "mul=a*b\n",
    "divi=a/b\n",
    "print(\"addition:\",add)\n",
    "print(\"substraction:\",sub)\n",
    "print(\"multiplication:\",mul)\n",
    "print(\"division:\",divi)"
   ]
  },
  {
   "cell_type": "code",
   "execution_count": null,
   "id": "d9c55062-2b5d-4845-98b4-8536eb1f1f6e",
   "metadata": {},
   "outputs": [],
   "source": []
  }
 ],
 "metadata": {
  "kernelspec": {
   "display_name": "Python 3 (ipykernel)",
   "language": "python",
   "name": "python3"
  },
  "language_info": {
   "codemirror_mode": {
    "name": "ipython",
    "version": 3
   },
   "file_extension": ".py",
   "mimetype": "text/x-python",
   "name": "python",
   "nbconvert_exporter": "python",
   "pygments_lexer": "ipython3",
   "version": "3.12.7"
  }
 },
 "nbformat": 4,
 "nbformat_minor": 5
}
