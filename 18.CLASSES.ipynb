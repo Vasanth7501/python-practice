{
 "cells": [
  {
   "cell_type": "markdown",
   "id": "7176c67d-2d25-4a0b-a04c-56b3d10d7cfe",
   "metadata": {},
   "source": [
    "#  Python Classes and Objects\n"
   ]
  },
  {
   "cell_type": "code",
   "execution_count": 3,
   "id": "64443158-75c6-4000-a0c6-66f1e5e6f906",
   "metadata": {},
   "outputs": [
    {
     "name": "stdout",
     "output_type": "stream",
     "text": [
      "12\n"
     ]
    }
   ],
   "source": [
    "class myobject:\n",
    "    x=5\n",
    "    y=x+7\n",
    "    print(y)\n",
    "\n",
    "\n",
    "\n"
   ]
  },
  {
   "cell_type": "code",
   "execution_count": 1,
   "id": "1190cfb7-a1d8-44f4-b4f1-df28d7361d47",
   "metadata": {},
   "outputs": [
    {
     "name": "stdout",
     "output_type": "stream",
     "text": [
      "94\n"
     ]
    }
   ],
   "source": [
    "class myobject:\n",
    "    x=5\n",
    "    y=89\n",
    "    z=x+y\n",
    "    \n",
    "object1=myobject()\n",
    "print(object1.z)"
   ]
  },
  {
   "cell_type": "code",
   "execution_count": null,
   "id": "d9b88b44-3b6f-4363-9e80-658858418150",
   "metadata": {},
   "outputs": [],
   "source": [
    "class collge:\n",
    "    k=8\n",
    "\n",
    "\n",
    "myclg=collge()\n",
    "print(myclg.k)"
   ]
  },
  {
   "cell_type": "code",
   "execution_count": null,
   "id": "3cb79c1e-cea6-4fb2-ab0d-3e36e45d8239",
   "metadata": {},
   "outputs": [],
   "source": [
    "class myobject:\n",
    "    x=5\n",
    "    y=90\n",
    "    z=89\n",
    "    output1=(x+y+z)\n",
    "p1=myobject()\n",
    "print(p1.output1)"
   ]
  },
  {
   "cell_type": "code",
   "execution_count": 5,
   "id": "ae6fef14-434c-4589-8111-408ff368f4ae",
   "metadata": {},
   "outputs": [
    {
     "name": "stdout",
     "output_type": "stream",
     "text": [
      "12\n",
      "11\n"
     ]
    }
   ],
   "source": [
    "def add(a,b):\n",
    "    return a+b\n",
    "\n",
    "def sub(a,b):\n",
    "    return a+b\n",
    "k=add(5,7)\n",
    "k1=sub(7,4)\n",
    "print(k)\n",
    "print(k1)"
   ]
  },
  {
   "cell_type": "code",
   "execution_count": 6,
   "id": "60cc6111-f1d5-41aa-8d90-b558e508dead",
   "metadata": {},
   "outputs": [
    {
     "name": "stdout",
     "output_type": "stream",
     "text": [
      "9\n"
     ]
    }
   ],
   "source": [
    "class myobject:\n",
    "    def add(self):\n",
    "        a=4\n",
    "        b=5\n",
    "        return a+b\n",
    "    def sub(self):\n",
    "        a=90\n",
    "        b=5\n",
    "        print(a-b)\n",
    "\n",
    "cal=myobject()\n",
    "k=cal.add()\n",
    "print(k)\n",
    "# cal.sub()"
   ]
  },
  {
   "cell_type": "code",
   "execution_count": 7,
   "id": "e81b5d3c-959e-4b22-a369-c073a083b870",
   "metadata": {},
   "outputs": [
    {
     "name": "stdout",
     "output_type": "stream",
     "text": [
      "98\n"
     ]
    }
   ],
   "source": [
    "class myobject:\n",
    "    def add(self):\n",
    "        a=4\n",
    "        b=5\n",
    "        return a+b\n",
    "    def sub(self):\n",
    "        a=90\n",
    "        b=5\n",
    "        print(a-b)\n",
    "\n",
    "class myobject1:\n",
    "    def add(self):\n",
    "        a=8\n",
    "        b=90\n",
    "        c=a+b\n",
    "        print(a+b)\n",
    "    def sub(self):\n",
    "        a=78\n",
    "        b=512\n",
    "        print(a-b)\n",
    "\n",
    "\n",
    "        \n",
    "add1=myobject1()\n",
    "k=add1.add()\n",
    "k\n",
    "\n",
    "\n",
    "\n",
    "# k1=add1.sub()"
   ]
  },
  {
   "cell_type": "code",
   "execution_count": null,
   "id": "2c6f4fbb-fbf4-43e8-b651-bf344554c520",
   "metadata": {},
   "outputs": [],
   "source": [
    "# input1=int(input(\"enter the number 1\"))\n",
    "# input2=int(input(\"enter the number 2\"))\n",
    "# a=input1\n",
    "# b=input2\n",
    "# c=8\n",
    "def add(a,b):\n",
    "\n",
    "    num1=a\n",
    "    num2=b\n",
    "    print(a+c)\n",
    "# def sub():\n",
    "#     print(a-b)\n",
    "add(5,8)\n",
    "sub()"
   ]
  },
  {
   "cell_type": "code",
   "execution_count": null,
   "id": "a2ae610e-0aeb-48ef-8230-377285ccd3ec",
   "metadata": {},
   "outputs": [],
   "source": [
    "class myobject:\n",
    "    def add(self):\n",
    "        a=4\n",
    "        b=5\n",
    "        return (a+b)\n",
    "\n",
    "\n",
    "\n",
    "add1=myobject()\n",
    "k=add1.add()\n",
    "print(k)"
   ]
  },
  {
   "cell_type": "markdown",
   "id": "d1c355d5-2328-46c4-a28b-989bbc88c09a",
   "metadata": {},
   "source": [
    "# __init__() function"
   ]
  },
  {
   "cell_type": "code",
   "execution_count": null,
   "id": "40ccd46a-0fae-42d1-8d8b-5f0ac92cbea2",
   "metadata": {},
   "outputs": [],
   "source": [
    "\n",
    "class myobject():\n",
    "    def __init__(self,a,b,c):\n",
    "        self.num1=a\n",
    "        self.num2=b\n",
    "        self.num3=c\n",
    "\n",
    "    def add(self):\n",
    "        print(self.num1+self.num2)\n",
    "\n",
    "    def sub(self):\n",
    "        print(self.num3-self.num2)\n",
    "        \n",
    "    # def name1(self):\n",
    "    #     print(self.name1)\n",
    "    # def age1(self):\n",
    "    #     print(self.age1)\n",
    "    # def detail(self):\n",
    "    #     print(self.name1,self.age1)\n",
    "num1=int(input(\"enter the number\"))   \n",
    "num2=int(input(\"enter the number\"))   \n",
    "num3=int(input(\"enter the number\"))   \n",
    "\n",
    "clg=myobject(num1,num2,num3)\n",
    "clg.add()\n",
    "clg.sub\n",
    "\n",
    "# clg.name1()\n",
    "# clg.age1()\n",
    "# clg.detail()()"
   ]
  },
  {
   "cell_type": "code",
   "execution_count": 55,
   "id": "42bda665-07d7-455f-b97a-208cc9561304",
   "metadata": {},
   "outputs": [
    {
     "name": "stdout",
     "output_type": "stream",
     "text": [
      "157\n"
     ]
    }
   ],
   "source": [
    "class calcu():\n",
    "    def __init__(self,a,b,c):\n",
    "        self.num1=a\n",
    "        self.num2=b\n",
    "        self.num3=c\n",
    "    def add(self):\n",
    "        print(self.num1+self.num2)\n",
    "\n",
    "\n",
    "object=calcu(67,90,89)\n",
    "object.add()\n",
    "# print(object.add())\n"
   ]
  },
  {
   "cell_type": "code",
   "execution_count": 29,
   "id": "d325f0ba-f7c8-41db-b69c-cae29e1476e7",
   "metadata": {},
   "outputs": [
    {
     "name": "stdout",
     "output_type": "stream",
     "text": [
      "15\n"
     ]
    }
   ],
   "source": [
    "a=7\n",
    "b=8\n",
    "\n",
    "\n",
    "def add1():\n",
    "    return(a+b)\n",
    "\n",
    "\n",
    "def sub():\n",
    "    print(a-b)\n",
    "\n",
    "k=add1()\n",
    "print(k)"
   ]
  },
  {
   "cell_type": "code",
   "execution_count": 60,
   "id": "3e9de37c-5c63-4466-8c47-9888d2492bfa",
   "metadata": {},
   "outputs": [
    {
     "name": "stdout",
     "output_type": "stream",
     "text": [
      "i am raja89\n",
      "84\n"
     ]
    }
   ],
   "source": [
    "class math1:\n",
    "    def __init__(self,a,b,c,d):\n",
    "        self.num1=a\n",
    "        self.num2=b\n",
    "        self.num3=c\n",
    "        self.num4=d\n",
    "\n",
    "    def add(self):\n",
    "        return(self.num1+self.num2)\n",
    "\n",
    "object=math1(2,3,4,5)\n",
    "object.add()\n",
    "print(k)\n",
    "\n",
    "\n",
    "\n",
    "object1=math1(6,78,489,5)\n",
    "object1.add()\n",
    "print(k1)"
   ]
  },
  {
   "cell_type": "markdown",
   "id": "dcf52e4b-b80e-4f4f-9c53-9bd2c0b33496",
   "metadata": {},
   "source": [
    "# __str__() function"
   ]
  },
  {
   "cell_type": "code",
   "execution_count": 52,
   "id": "0412a83c-a056-4421-8b8f-8269fb32a266",
   "metadata": {},
   "outputs": [
    {
     "ename": "NameError",
     "evalue": "name 'name1' is not defined",
     "output_type": "error",
     "traceback": [
      "\u001b[1;31m---------------------------------------------------------------------------\u001b[0m",
      "\u001b[1;31mNameError\u001b[0m                                 Traceback (most recent call last)",
      "Cell \u001b[1;32mIn[52], line 10\u001b[0m\n\u001b[0;32m      7\u001b[0m     \u001b[38;5;28;01mreturn\u001b[39;00m (\u001b[38;5;124mf\u001b[39m\u001b[38;5;124m\"\u001b[39m\u001b[38;5;132;01m{\u001b[39;00m\u001b[38;5;28mself\u001b[39m\u001b[38;5;241m.\u001b[39mname\u001b[38;5;132;01m}\u001b[39;00m\u001b[38;5;132;01m{\u001b[39;00m\u001b[38;5;28mself\u001b[39m\u001b[38;5;241m.\u001b[39mage\u001b[38;5;132;01m}\u001b[39;00m\u001b[38;5;124m\"\u001b[39m)\n\u001b[0;32m      9\u001b[0m p1 \u001b[38;5;241m=\u001b[39m Person(\u001b[38;5;124m\"\u001b[39m\u001b[38;5;124mJohn\u001b[39m\u001b[38;5;124m\"\u001b[39m, \u001b[38;5;241m36\u001b[39m)\n\u001b[1;32m---> 10\u001b[0m a\u001b[38;5;241m=\u001b[39mname1(p1)\n\u001b[0;32m     11\u001b[0m \u001b[38;5;28mprint\u001b[39m(a)\n",
      "\u001b[1;31mNameError\u001b[0m: name 'name1' is not defined"
     ]
    }
   ],
   "source": [
    "class Person:\n",
    "  def __init__(self, name, age):\n",
    "    self.name = name\n",
    "    self.age = age\n",
    "\n",
    "  def name1(self):\n",
    "    return (f\"{self.name}{self.age}\")\n",
    "\n",
    "p1 = Person(\"John\", 36)\n",
    "a=name1(p1)\n",
    "print(a)"
   ]
  },
  {
   "cell_type": "code",
   "execution_count": 50,
   "id": "ce35f688-3766-4eaa-a915-5d96e5a6dd5e",
   "metadata": {},
   "outputs": [
    {
     "ename": "AttributeError",
     "evalue": "'Person' object has no attribute 'str'",
     "output_type": "error",
     "traceback": [
      "\u001b[1;31m---------------------------------------------------------------------------\u001b[0m",
      "\u001b[1;31mAttributeError\u001b[0m                            Traceback (most recent call last)",
      "Cell \u001b[1;32mIn[50], line 10\u001b[0m\n\u001b[0;32m      7\u001b[0m     \u001b[38;5;28mprint\u001b[39m (\u001b[38;5;124mf\u001b[39m\u001b[38;5;124m\"\u001b[39m\u001b[38;5;132;01m{\u001b[39;00m\u001b[38;5;28mself\u001b[39m\u001b[38;5;241m.\u001b[39mname\u001b[38;5;132;01m}\u001b[39;00m\u001b[38;5;132;01m{\u001b[39;00m\u001b[38;5;28mself\u001b[39m\u001b[38;5;241m.\u001b[39mage\u001b[38;5;132;01m}\u001b[39;00m\u001b[38;5;124m\"\u001b[39m)\n\u001b[0;32m      9\u001b[0m p1 \u001b[38;5;241m=\u001b[39m Person(\u001b[38;5;124m\"\u001b[39m\u001b[38;5;124mJohn\u001b[39m\u001b[38;5;124m\"\u001b[39m, \u001b[38;5;241m36\u001b[39m)\n\u001b[1;32m---> 10\u001b[0m k\u001b[38;5;241m=\u001b[39mp1\u001b[38;5;241m.\u001b[39mstr()\n\u001b[0;32m     11\u001b[0m \u001b[38;5;28mprint\u001b[39m(k)\n",
      "\u001b[1;31mAttributeError\u001b[0m: 'Person' object has no attribute 'str'"
     ]
    }
   ],
   "source": [
    "class Person:\n",
    "  def __init__(self, name, age):\n",
    "    self.name = name\n",
    "    self.age = age\n",
    "\n",
    "  def __str__(self):\n",
    "    print (f\"{self.name}{self.age}\")\n",
    "\n",
    "p1 = Person(\"John\", 36)\n",
    "k=p1.str()\n",
    "print(k)"
   ]
  },
  {
   "cell_type": "code",
   "execution_count": 23,
   "id": "aa9919d9-5ca1-4cc0-8f72-ddf07b1b66ef",
   "metadata": {},
   "outputs": [
    {
     "name": "stdout",
     "output_type": "stream",
     "text": [
      "John(36)(dept)\n",
      "John(36)(dept)\n"
     ]
    }
   ],
   "source": [
    "class Person:\n",
    "  def __init__(self, name, age,dept):\n",
    "    self.name = name\n",
    "    self.age = age\n",
    "    self.dept = dept\n",
    "\n",
    "\n",
    "  def __str__(self):\n",
    "    return f\"{self.name}({self.age})({self.dept})\"\n",
    "\n",
    "p1 = Person(\"John\", 36,\"dept\")\n",
    "print(p1)\n",
    "# print(str(p1))"
   ]
  },
  {
   "cell_type": "code",
   "execution_count": 22,
   "id": "56b3cdb6-ef8c-4101-81aa-00a80f6c8e8c",
   "metadata": {},
   "outputs": [
    {
     "name": "stdout",
     "output_type": "stream",
     "text": [
      "Person(name=Alice, age=30)\n",
      "Person(name=Alice, age=30)\n"
     ]
    }
   ],
   "source": [
    "class Person:\n",
    "    def __init__(self, name, age):\n",
    "        self.name = name\n",
    "        self.age = age\n",
    "\n",
    "    def __str__(self):\n",
    "        return f\"Person(name={self.name}, age={self.age})\"\n",
    "\n",
    "# Creating an object\n",
    "p = Person(\"Alice\", 30)\n",
    "\n",
    "# Using print or str()\n",
    "print(p)  # Output: Person(name=Alice, age=30)\n",
    "print(str(p))  # Output: Person(name=Alice, age=30)\n"
   ]
  },
  {
   "cell_type": "code",
   "execution_count": 44,
   "id": "42e9968c-9d46-46a7-bfae-070eb51c724b",
   "metadata": {},
   "outputs": [
    {
     "name": "stdout",
     "output_type": "stream",
     "text": [
      "Hello my name is John36\n"
     ]
    }
   ],
   "source": [
    "class Person:\n",
    "  def __init__(myobject, name, age):\n",
    "    myobject.name = name\n",
    "    myobject.age = age\n",
    "\n",
    "  def myfunc(abc):\n",
    "    return(\"Hello my name is \" + abc.name + str(abc.age))\n",
    "\n",
    "p1 = Person(\"John\", 36)\n",
    "k=p1.myfunc()\n",
    "print(k)"
   ]
  },
  {
   "cell_type": "code",
   "execution_count": 48,
   "id": "5f437300-e16d-4a0c-ade6-9be863b9084a",
   "metadata": {},
   "outputs": [
    {
     "name": "stdout",
     "output_type": "stream",
     "text": [
      "i am raja89\n"
     ]
    }
   ],
   "source": [
    "class object:\n",
    "    def __init__(self,a,b):\n",
    "        self.name=a\n",
    "        self.age=b\n",
    "    def details(self):\n",
    "        return (f\"i am {self.name}{self.age}\")\n",
    "\n",
    "det=object(\"raja\",89)\n",
    "k=det.details()\n",
    "print(k)"
   ]
  },
  {
   "cell_type": "code",
   "execution_count": 61,
   "id": "f241d566-9c2b-43a7-ab7e-9a7b23e45201",
   "metadata": {},
   "outputs": [
    {
     "name": "stdout",
     "output_type": "stream",
     "text": [
      "i am raja\n"
     ]
    }
   ],
   "source": [
    "class object1:\n",
    "    def __init__(self,a,b):\n",
    "        self.name=a\n",
    "        self.age=b\n",
    "    def __str__(self):\n",
    "        return (f\"i am {self.name}\")\n",
    "\n",
    "det1=object1(\"raja\",89)\n",
    "print(det1)"
   ]
  },
  {
   "cell_type": "code",
   "execution_count": 33,
   "id": "248b1e9f-65af-423c-9392-23594b299185",
   "metadata": {},
   "outputs": [
    {
     "name": "stdout",
     "output_type": "stream",
     "text": [
      "7\n"
     ]
    }
   ],
   "source": [
    "class college:\n",
    "    def __init__(self,a):\n",
    "        self.k=a\n",
    "    def add(self):\n",
    "        print(a)\n",
    "\n",
    "c1=college(\"abc\")\n",
    "c1.add()\n"
   ]
  },
  {
   "cell_type": "code",
   "execution_count": 62,
   "id": "91352ef4-6727-48b9-938c-4e6ff13b385e",
   "metadata": {},
   "outputs": [
    {
     "name": "stdout",
     "output_type": "stream",
     "text": [
      "\n",
      "--- ATM Menu ---\n",
      "1. Check Balance\n",
      "2. Deposit Money\n",
      "3. Withdraw Money\n",
      "4. Exit\n"
     ]
    },
    {
     "name": "stdin",
     "output_type": "stream",
     "text": [
      "Choose an option:  1\n"
     ]
    },
    {
     "name": "stdout",
     "output_type": "stream",
     "text": [
      "Your current balance is ₹5000\n",
      "\n",
      "--- ATM Menu ---\n",
      "1. Check Balance\n",
      "2. Deposit Money\n",
      "3. Withdraw Money\n",
      "4. Exit\n"
     ]
    },
    {
     "name": "stdin",
     "output_type": "stream",
     "text": [
      "Choose an option:  2\n",
      "Enter amount to deposit: ₹ 500\n"
     ]
    },
    {
     "name": "stdout",
     "output_type": "stream",
     "text": [
      "₹500.0 deposited successfully\n",
      "\n",
      "--- ATM Menu ---\n",
      "1. Check Balance\n",
      "2. Deposit Money\n",
      "3. Withdraw Money\n",
      "4. Exit\n"
     ]
    },
    {
     "name": "stdin",
     "output_type": "stream",
     "text": [
      "Choose an option:  3\n",
      "Enter amount to withdraw: ₹ 15\n"
     ]
    },
    {
     "name": "stdout",
     "output_type": "stream",
     "text": [
      "₹15.0 withdrawn successfully\n",
      "\n",
      "--- ATM Menu ---\n",
      "1. Check Balance\n",
      "2. Deposit Money\n",
      "3. Withdraw Money\n",
      "4. Exit\n"
     ]
    },
    {
     "name": "stdin",
     "output_type": "stream",
     "text": [
      "Choose an option:  1\n"
     ]
    },
    {
     "name": "stdout",
     "output_type": "stream",
     "text": [
      "Your current balance is ₹5485.0\n",
      "\n",
      "--- ATM Menu ---\n",
      "1. Check Balance\n",
      "2. Deposit Money\n",
      "3. Withdraw Money\n",
      "4. Exit\n"
     ]
    },
    {
     "name": "stdin",
     "output_type": "stream",
     "text": [
      "Choose an option:  3\n",
      "Enter amount to withdraw: ₹ 6000\n"
     ]
    },
    {
     "name": "stdout",
     "output_type": "stream",
     "text": [
      "Insufficient balance\n",
      "\n",
      "--- ATM Menu ---\n",
      "1. Check Balance\n",
      "2. Deposit Money\n",
      "3. Withdraw Money\n",
      "4. Exit\n"
     ]
    },
    {
     "name": "stdin",
     "output_type": "stream",
     "text": [
      "Choose an option:  4\n"
     ]
    },
    {
     "name": "stdout",
     "output_type": "stream",
     "text": [
      "Thank you for using our ATM!\n"
     ]
    }
   ],
   "source": []
  },
  {
   "cell_type": "code",
   "execution_count": null,
   "id": "47d3c69f-3065-4d82-937b-c2fe3854dc31",
   "metadata": {},
   "outputs": [],
   "source": []
  }
 ],
 "metadata": {
  "kernelspec": {
   "display_name": "Python 3 (ipykernel)",
   "language": "python",
   "name": "python3"
  },
  "language_info": {
   "codemirror_mode": {
    "name": "ipython",
    "version": 3
   },
   "file_extension": ".py",
   "mimetype": "text/x-python",
   "name": "python",
   "nbconvert_exporter": "python",
   "pygments_lexer": "ipython3",
   "version": "3.12.7"
  }
 },
 "nbformat": 4,
 "nbformat_minor": 5
}
