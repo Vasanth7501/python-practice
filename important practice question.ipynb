{
 "cells": [
  {
   "cell_type": "markdown",
   "id": "44be01a8-c818-4291-8d44-610ef434dfdd",
   "metadata": {},
   "source": [
    "# mark to grade"
   ]
  },
  {
   "cell_type": "code",
   "execution_count": 60,
   "id": "3896f6c8-489f-47b9-bb6a-0fd8e355bd83",
   "metadata": {},
   "outputs": [
    {
     "name": "stdin",
     "output_type": "stream",
     "text": [
      "Enter marks separated by spaces:  98\n"
     ]
    },
    {
     "name": "stdout",
     "output_type": "stream",
     "text": [
      "['A']\n"
     ]
    }
   ],
   "source": [
    "marks = input(\"Enter marks separated by spaces: \").split()\n",
    "marks = [int(i) for i in marks]\n",
    "\n",
    "def grade_assign(marks):\n",
    "  grades=[]\n",
    "  for i in marks:\n",
    "    if i>=85:\n",
    "      grades.append(\"A\")\n",
    "    elif i>=75:\n",
    "      grades.append(\"B\")\n",
    "    elif i>=60:\n",
    "      grades.append(\"C\")\n",
    "    elif i>=50:\n",
    "      grades.append(\"D\")\n",
    "    elif i>=35:\n",
    "      grades.append(\"E\")\n",
    "    else:\n",
    "      grades.append(\"F\")\n",
    "  return grades\n",
    "result=grade_assign(marks)\n",
    "print(result)"
   ]
  },
  {
   "cell_type": "markdown",
   "id": "f60450ea-1217-45bd-8296-72d1afdd4421",
   "metadata": {},
   "source": [
    " # Simple Contact Book (Dict based)"
   ]
  },
  {
   "cell_type": "code",
   "execution_count": 59,
   "id": "b880f110-c5ed-4cea-bc7c-ad99fd0dc5dd",
   "metadata": {},
   "outputs": [
    {
     "name": "stdin",
     "output_type": "stream",
     "text": [
      "How many contacts do you want to add?  2\n",
      "Enter name 1:  VASANTH\n",
      "Enter number for VASANTH:  45\n",
      "Enter name 2:  RAJA\n",
      "Enter number for RAJA:  558\n",
      "Enter name to search:  VASANTH\n"
     ]
    },
    {
     "name": "stdout",
     "output_type": "stream",
     "text": [
      "Contact: 45\n"
     ]
    }
   ],
   "source": [
    "# Ask how many contacts to enter\n",
    "n = int(input(\"How many contacts do you want to add? \"))\n",
    "\n",
    "contacts = {}\n",
    "\n",
    "# Add contacts using loop\n",
    "for i in range(n):\n",
    "    name = input(f\"Enter name {i+1}: \")\n",
    "    number = input(f\"Enter number for {name}: \")\n",
    "    contacts[name] = number\n",
    "\n",
    "# Search contact\n",
    "search_name = input(\"Enter name to search: \")\n",
    "\n",
    "if search_name in contacts:\n",
    "    print(\"Contact:\", contacts[search_name])\n",
    "else:\n",
    "    print(\"Name not found in contacts.\")\n"
   ]
  },
  {
   "cell_type": "markdown",
   "id": "16921bfe-59fa-4887-8932-ec3bbefc91f8",
   "metadata": {},
   "source": [
    " # Password Masker\n",
    "\n"
   ]
  },
  {
   "cell_type": "code",
   "execution_count": 58,
   "id": "fea4341c-7f1a-4e76-8ca4-bc7516aaf77e",
   "metadata": {},
   "outputs": [
    {
     "name": "stdin",
     "output_type": "stream",
     "text": [
      "Enter your password:  4568\n"
     ]
    },
    {
     "name": "stdout",
     "output_type": "stream",
     "text": [
      "Masked Password: ****\n"
     ]
    }
   ],
   "source": [
    "# Input password from user\n",
    "password = input(\"Enter your password: \")\n",
    "\n",
    "# Mask the password with '*'\n",
    "masked = '*' * len(password)\n",
    "\n",
    "# Print the masked password\n",
    "print(\"Masked Password:\", masked)\n"
   ]
  },
  {
   "cell_type": "markdown",
   "id": "ce25876c-261a-4181-ae93-77af47e9bd6d",
   "metadata": {},
   "source": [
    " \n",
    "# 34.Find Longest Word in Sentence\n"
   ]
  },
  {
   "cell_type": "code",
   "execution_count": 57,
   "id": "88392490-fc4e-40e3-94a5-8ed9755a385d",
   "metadata": {},
   "outputs": [
    {
     "name": "stdin",
     "output_type": "stream",
     "text": [
      "Enter a sentence:  VASANTH IS DATAANALYST\n"
     ]
    },
    {
     "name": "stdout",
     "output_type": "stream",
     "text": [
      "Longest word: DATAANALYST\n"
     ]
    }
   ],
   "source": [
    "# Input sentence from user\n",
    "sentence = input(\"Enter a sentence: \")\n",
    "\n",
    "# Split into words and find longest\n",
    "words = sentence.split()\n",
    "longest = words[0]\n",
    "\n",
    "for word in words:\n",
    "    if len(word) > len(longest):\n",
    "        longest = word\n",
    "\n",
    "print(\"Longest word:\", longest)\n"
   ]
  },
  {
   "cell_type": "markdown",
   "id": "f69df857-76f9-48cc-9a50-af147fb65895",
   "metadata": {},
   "source": [
    " # 33.Find All Numbers That Are Palindromes in List"
   ]
  },
  {
   "cell_type": "code",
   "execution_count": 54,
   "id": "f24c8e2a-d993-4ef6-8e92-a5309f415759",
   "metadata": {},
   "outputs": [
    {
     "name": "stdout",
     "output_type": "stream",
     "text": [
      "Palindromes in list: [121, 88]\n"
     ]
    }
   ],
   "source": [
    "# Input list from user\n",
    "numbers = [121, 133, 123, 88, 97]\n",
    "\n",
    "# Check palindromes\n",
    "palindromes = []\n",
    "for num in numbers:\n",
    "    if str(num) == str(num)[::-1]:\n",
    "        palindromes.append(num)\n",
    "\n",
    "print(\"Palindromes in list:\", palindromes)\n",
    "\n",
    "\n"
   ]
  },
  {
   "cell_type": "code",
   "execution_count": 1,
   "id": "12d02197-e739-4b2e-9fc0-15e9dc4ccc11",
   "metadata": {},
   "outputs": [
    {
     "name": "stdin",
     "output_type": "stream",
     "text": [
      "How many numbers?  2\n",
      "Enter number 1:  44\n",
      "Enter number 2:  44\n"
     ]
    },
    {
     "name": "stdout",
     "output_type": "stream",
     "text": [
      "Palindromes in list: [44, 44]\n"
     ]
    }
   ],
   "source": [
    "# Ask how many numbers to enter\n",
    "n = int(input(\"How many numbers? \"))\n",
    "\n",
    "# Create empty list\n",
    "numbers = []\n",
    "\n",
    "# Take input from user one by one\n",
    "for i in range(n):\n",
    "    num = int(input(f\"Enter number {i+1}: \"))\n",
    "    numbers.append(num)\n",
    "\n",
    "# Check for palindromes\n",
    "palindromes = []\n",
    "for num in numbers:\n",
    "    if str(num) == str(num)[::-1]:\n",
    "        palindromes.append(num)\n",
    "\n",
    "# Print result\n",
    "print(\"Palindromes in list:\", palindromes)\n"
   ]
  },
  {
   "cell_type": "markdown",
   "id": "5251af1e-c55f-422a-b7cf-d932a261c591",
   "metadata": {},
   "source": [
    " # 32.List Flattening"
   ]
  },
  {
   "cell_type": "code",
   "execution_count": 53,
   "id": "6aa18b45-a624-4624-aa34-a80c248f2413",
   "metadata": {},
   "outputs": [
    {
     "name": "stdout",
     "output_type": "stream",
     "text": [
      "Flattened List: [1, 2, 3, 4, 5, 5]\n"
     ]
    }
   ],
   "source": [
    "# Input: Nested list\n",
    "nested_list = [[1, 2], [3, 4], [5,5]]\n",
    "\n",
    "# Output: Flattened list\n",
    "flattened = []\n",
    "\n",
    "# Loop through each sublist and each item\n",
    "for sublist in nested_list:\n",
    "    for item in sublist:\n",
    "        flattened.append(item)\n",
    "\n",
    "# Print result\n",
    "print(\"Flattened List:\", flattened)\n"
   ]
  },
  {
   "cell_type": "markdown",
   "id": "15f9674f-cc42-4a34-a9bc-ff4d9570513e",
   "metadata": {},
   "source": [
    "# 31.Format: 5 uppercase letters + 4 digits + 1 uppercase letter"
   ]
  },
  {
   "cell_type": "code",
   "execution_count": 52,
   "id": "f857e095-db61-47da-93f3-f683d67c875d",
   "metadata": {},
   "outputs": [
    {
     "name": "stdin",
     "output_type": "stream",
     "text": [
      "Enter PAN number:  BTTPV0969A\n"
     ]
    },
    {
     "name": "stdout",
     "output_type": "stream",
     "text": [
      "Valid PAN\n"
     ]
    }
   ],
   "source": [
    "pan = input(\"Enter PAN number: \")\n",
    "\n",
    "if len(pan) == 10:\n",
    "    if (pan[:5].isalpha() and pan[:5].isupper() and\n",
    "        pan[5:9].isdigit() and\n",
    "        pan[9].isalpha() and pan[9].isupper()):\n",
    "        print(\"Valid PAN\")\n",
    "    else:\n",
    "        print(\"Invalid PAN\")\n",
    "else:\n",
    "    print(\"Invalid PAN\")\n"
   ]
  },
  {
   "cell_type": "markdown",
   "id": "3a3eadcb-7b60-45ff-b789-a431059b1227",
   "metadata": {},
   "source": [
    " # 30. Check if List is Palindrome"
   ]
  },
  {
   "cell_type": "code",
   "execution_count": 51,
   "id": "5d8b4034-5fbe-4275-9f73-9b6a597eb685",
   "metadata": {},
   "outputs": [
    {
     "name": "stdin",
     "output_type": "stream",
     "text": [
      "Enter how many elements in list:  2\n",
      "Enter element 1:  545\n",
      "Enter element 2:  544\n"
     ]
    },
    {
     "name": "stdout",
     "output_type": "stream",
     "text": [
      "The list is not a palindrome.\n"
     ]
    }
   ],
   "source": [
    "# Take number of elements\n",
    "n = int(input(\"Enter how many elements in list: \"))\n",
    "\n",
    "# Take list input from user\n",
    "lst = []\n",
    "for i in range(n):\n",
    "    val = input(f\"Enter element {i+1}: \")\n",
    "    lst.append(val)\n",
    "\n",
    "# Check if list is palindrome\n",
    "if lst == lst[::-1]:\n",
    "    print(\"The list is a palindrome.\")\n",
    "else:\n",
    "    print(\"The list is not a palindrome.\")\n",
    "    "
   ]
  },
  {
   "cell_type": "markdown",
   "id": "d33c92da-70d7-4a4e-806b-1b8a95896005",
   "metadata": {},
   "source": [
    " # 29. Find the Length of a List Without Using len()"
   ]
  },
  {
   "cell_type": "code",
   "execution_count": 50,
   "id": "93b46f89-7ae1-4303-99f3-ac17edc0c238",
   "metadata": {},
   "outputs": [
    {
     "name": "stdin",
     "output_type": "stream",
     "text": [
      "Enter list elements separated by spaces:  4465 4545 446\n"
     ]
    },
    {
     "name": "stdout",
     "output_type": "stream",
     "text": [
      "Length of the list: 3\n"
     ]
    }
   ],
   "source": [
    "def find_length(my_list):\n",
    "    count = 0\n",
    "    for _ in my_list:\n",
    "        count += 1\n",
    "    return count\n",
    "\n",
    "# 🔹 User Input\n",
    "user_input = input(\"Enter list elements separated by spaces: \")\n",
    "\n",
    "# 🔹 Convert input string to list of values (integers)\n",
    "input_list = [int(x) for x in user_input.split()]\n",
    "\n",
    "# 🔹 Output\n",
    "print(\"Length of the list:\", find_length(input_list))\n"
   ]
  },
  {
   "cell_type": "markdown",
   "id": "a0477c69-6884-4beb-981a-821683ecdcca",
   "metadata": {},
   "source": [
    " # 28. Check if All Characters in String are Unique"
   ]
  },
  {
   "cell_type": "code",
   "execution_count": 49,
   "id": "883faf56-36d5-48e0-b5f8-4063b5604bca",
   "metadata": {},
   "outputs": [
    {
     "name": "stdin",
     "output_type": "stream",
     "text": [
      "Enter a string:  raju\n"
     ]
    },
    {
     "name": "stdout",
     "output_type": "stream",
     "text": [
      "All characters are unique: True\n"
     ]
    }
   ],
   "source": [
    "def is_unique(s):\n",
    "    return len(set(s)) == len(s)\n",
    "\n",
    "# Example\n",
    "string = input(\"Enter a string: \")\n",
    "print(\"All characters are unique:\", is_unique(string))\n"
   ]
  },
  {
   "cell_type": "markdown",
   "id": "c09cb436-753f-4c04-8b9b-70b45bc2d6d2",
   "metadata": {},
   "source": [
    " # 27. Calculate Power Without Using Power Operator"
   ]
  },
  {
   "cell_type": "code",
   "execution_count": 46,
   "id": "f62c609b-7328-412d-af41-e5c2fcec0910",
   "metadata": {},
   "outputs": [
    {
     "name": "stdin",
     "output_type": "stream",
     "text": [
      "Enter base:  5\n",
      "Enter exponent:  2\n"
     ]
    },
    {
     "name": "stdout",
     "output_type": "stream",
     "text": [
      "5 ^ 2 = 25\n"
     ]
    }
   ],
   "source": [
    "def power(base, exponent):\n",
    "    if exponent == 0:\n",
    "        return 1\n",
    "    return base * power(base, exponent - 1)\n",
    "\n",
    "# 🔹 User Input\n",
    "base = int(input(\"Enter base: \"))\n",
    "exponent = int(input(\"Enter exponent: \"))\n",
    "\n",
    "print(f\"{base} ^ {exponent} = {power(base, exponent)}\")\n"
   ]
  },
  {
   "cell_type": "markdown",
   "id": "8c5915f2-2b6e-4949-a537-4b648e8048e6",
   "metadata": {},
   "source": [
    " # 26. Sum of All Elements in a List"
   ]
  },
  {
   "cell_type": "code",
   "execution_count": 45,
   "id": "025d95dd-2307-46d2-8092-2be1bc81d6ae",
   "metadata": {},
   "outputs": [
    {
     "name": "stdin",
     "output_type": "stream",
     "text": [
      "Enter list elements separated by spaces:  45 56  \n"
     ]
    },
    {
     "name": "stdout",
     "output_type": "stream",
     "text": [
      "Sum of elements: 101\n"
     ]
    }
   ],
   "source": [
    "def sum_of_list(lst):\n",
    "    total = 0\n",
    "    for num in lst:\n",
    "        total += num\n",
    "    return total\n",
    "\n",
    "# 🔹 User Input\n",
    "user_input = input(\"Enter list elements separated by spaces: \")\n",
    "input_list = [int(x) for x in user_input.split()]\n",
    "\n",
    "print(\"Sum of elements:\", sum_of_list(input_list))\n"
   ]
  },
  {
   "cell_type": "markdown",
   "id": "d25a61d2-dc47-4486-9336-053f5531d22f",
   "metadata": {},
   "source": [
    "# 25. Convert Decimal to Binary"
   ]
  },
  {
   "cell_type": "code",
   "execution_count": 1,
   "id": "5d40fd70-8e99-4a7a-8966-551c79b062be",
   "metadata": {},
   "outputs": [
    {
     "name": "stdin",
     "output_type": "stream",
     "text": [
      "Enter a decimal number:  52\n"
     ]
    },
    {
     "name": "stdout",
     "output_type": "stream",
     "text": [
      "Binary of 52 is 110100\n"
     ]
    }
   ],
   "source": [
    "# Input from user\n",
    "decimal = int(input(\"Enter a decimal number: \"))\n",
    "\n",
    "binary = \"\"\n",
    "num = decimal\n",
    "\n",
    "# Loop to convert to binary\n",
    "while num > 0:\n",
    "    remainder = num % 2\n",
    "    binary = str(remainder) + binary\n",
    "    num = num // 2\n",
    "\n",
    "# Edge case for 0\n",
    "if decimal == 0:\n",
    "    binary = \"0\"\n",
    "\n",
    "# Output\n",
    "print(\"Binary of\", decimal, \"is\", binary)\n"
   ]
  },
  {
   "cell_type": "markdown",
   "id": "724a2ee5-06f2-4143-bacb-e90d6f153613",
   "metadata": {},
   "source": [
    " # 24. Remove Punctuation from a String"
   ]
  },
  {
   "cell_type": "code",
   "execution_count": 40,
   "id": "cd4c68a6-8dfb-4cc5-b476-8aaf79199752",
   "metadata": {},
   "outputs": [
    {
     "name": "stdin",
     "output_type": "stream",
     "text": [
      "Enter a sentence:  ghgffgf*&^\n"
     ]
    },
    {
     "name": "stdout",
     "output_type": "stream",
     "text": [
      "Without punctuation: ghgffgf\n"
     ]
    }
   ],
   "source": [
    "import string\n",
    "\n",
    "def remove_punctuation(text):\n",
    "    result = \"\"\n",
    "    for char in text:\n",
    "        if char not in string.punctuation:\n",
    "            result += char\n",
    "    return result\n",
    "\n",
    "# 🔹 User Input\n",
    "user_input = input(\"Enter a sentence: \")\n",
    "print(\"Without punctuation:\", remove_punctuation(user_input))\n"
   ]
  },
  {
   "cell_type": "markdown",
   "id": "3efc802c-a6eb-4a36-8b3b-1706be83da9f",
   "metadata": {},
   "source": [
    " # 23. Check Positive, Negative, or Zero"
   ]
  },
  {
   "cell_type": "code",
   "execution_count": 39,
   "id": "75a46e18-f4a3-4bcd-9b1f-a58a43199620",
   "metadata": {},
   "outputs": [
    {
     "name": "stdin",
     "output_type": "stream",
     "text": [
      "Enter a number:  -85\n"
     ]
    },
    {
     "name": "stdout",
     "output_type": "stream",
     "text": [
      "The number is: Negative\n"
     ]
    }
   ],
   "source": [
    "def check_number(n):\n",
    "    if n > 0:\n",
    "        return \"Positive\"\n",
    "    elif n < 0:\n",
    "        return \"Negative\"\n",
    "    else:\n",
    "        return \"Zero\"\n",
    "\n",
    "# 🔹 User Input\n",
    "num = float(input(\"Enter a number: \"))\n",
    "print(\"The number is:\", check_number(num))\n"
   ]
  },
  {
   "cell_type": "markdown",
   "id": "ae097b22-8075-43d3-9422-fafab25c4a94",
   "metadata": {},
   "source": [
    " <!-- 22. Calculate the Area of a Circle -->"
   ]
  },
  {
   "cell_type": "markdown",
   "id": "10eac15e-d7ac-475b-a5fc-4a5edb24ab63",
   "metadata": {},
   "source": [
    " # 22. Calculate the Area of a Circle"
   ]
  },
  {
   "cell_type": "code",
   "execution_count": 36,
   "id": "c00034de-cfae-484e-a3ab-668a8a83fd11",
   "metadata": {},
   "outputs": [
    {
     "name": "stdin",
     "output_type": "stream",
     "text": [
      "Enter the radius of the circle:  5\n"
     ]
    },
    {
     "name": "stdout",
     "output_type": "stream",
     "text": [
      "Area of the circle: 78.53981633974483\n"
     ]
    }
   ],
   "source": [
    "import math\n",
    "\n",
    "def area_of_circle(radius):\n",
    "    return math.pi * radius * radius  # or radius**2\n",
    "\n",
    "# 🔹 User Input\n",
    "r = float(input(\"Enter the radius of the circle: \"))\n",
    "print(\"Area of the circle:\", area_of_circle(r))\n"
   ]
  },
  {
   "cell_type": "markdown",
   "id": "c9efe11f-29d8-437f-aa40-0b6842f9a2d0",
   "metadata": {},
   "source": [
    " <!-- 21. Find Common Elements Between Two Lists -->"
   ]
  },
  {
   "cell_type": "markdown",
   "id": "7d3da30a-447f-40b1-a94e-973f354ee46c",
   "metadata": {},
   "source": [
    " # 21. Find Common Elements Between Two Lists"
   ]
  },
  {
   "cell_type": "code",
   "execution_count": 35,
   "id": "dc12504f-b588-456e-87d2-73eee7548378",
   "metadata": {},
   "outputs": [
    {
     "name": "stdin",
     "output_type": "stream",
     "text": [
      "Enter elements of list 1 (space-separated):  4645 56546 444 444 \n",
      "Enter elements of list 2 (space-separated):  444 44 444 \n"
     ]
    },
    {
     "name": "stdout",
     "output_type": "stream",
     "text": [
      "Common elements: ['444']\n"
     ]
    }
   ],
   "source": [
    "def find_common(list1, list2):\n",
    "    return list(set(list1) & set(list2))  # or set(list1).intersection(list2)\n",
    "\n",
    "# 🔹 User Input\n",
    "l1 = input(\"Enter elements of list 1 (space-separated): \").split()\n",
    "l2 = input(\"Enter elements of list 2 (space-separated): \").split()\n",
    "\n",
    "print(\"Common elements:\", find_common(l1, l2))\n"
   ]
  },
  {
   "cell_type": "markdown",
   "id": "ef4477b4-ce92-4b74-b057-e10317e961f3",
   "metadata": {},
   "source": [
    " # 20. Check Leap Year"
   ]
  },
  {
   "cell_type": "code",
   "execution_count": 34,
   "id": "9f55cd5c-9d4e-4e87-970c-19eedaee31d9",
   "metadata": {},
   "outputs": [
    {
     "name": "stdin",
     "output_type": "stream",
     "text": [
      "Enter a year:  2026\n"
     ]
    },
    {
     "name": "stdout",
     "output_type": "stream",
     "text": [
      "2026 is Not a Leap Year\n"
     ]
    }
   ],
   "source": [
    "# Input from user\n",
    "year = int(input(\"Enter a year: \"))\n",
    "\n",
    "# Check leap year condition\n",
    "if (year % 4 == 0 and year % 100 != 0) or (year % 400 == 0):\n",
    "    print(year, \"is a Leap Year\")\n",
    "else:\n",
    "    print(year, \"is Not a Leap Year\")\n"
   ]
  },
  {
   "cell_type": "markdown",
   "id": "7a7b62cd-c5d2-4580-97cd-25f5c502b9a5",
   "metadata": {},
   "source": [
    " \n",
    "# 19. Convert Celsius to Fahrenheit"
   ]
  },
  {
   "cell_type": "code",
   "execution_count": 33,
   "id": "eeadd6d4-5ec1-4a4c-b8d0-957be397f730",
   "metadata": {},
   "outputs": [
    {
     "name": "stdin",
     "output_type": "stream",
     "text": [
      "Enter temperature in Celsius:  96\n"
     ]
    },
    {
     "name": "stdout",
     "output_type": "stream",
     "text": [
      "Temperature in Fahrenheit: 204.8\n"
     ]
    }
   ],
   "source": [
    "# Input from user\n",
    "celsius = float(input(\"Enter temperature in Celsius: \"))\n",
    "\n",
    "# Convert to Fahrenheit\n",
    "fahrenheit = (celsius * 9/5) + 32\n",
    "\n",
    "# Print result\n",
    "print(\"Temperature in Fahrenheit:\", fahrenheit)\n"
   ]
  },
  {
   "cell_type": "markdown",
   "id": "cb13d222-efcf-4b19-baf0-4c2ee2302cfe",
   "metadata": {},
   "source": [
    " # 18. Merge and Sort Two Lists"
   ]
  },
  {
   "cell_type": "code",
   "execution_count": 31,
   "id": "15984ffc-f4a7-457d-b8bb-4830000c4572",
   "metadata": {},
   "outputs": [
    {
     "name": "stdin",
     "output_type": "stream",
     "text": [
      "Enter elements of List 1 (space-separated):  455 665 7899 456\n",
      "Enter elements of List 2 (space-separated):  555 252 88 639\n"
     ]
    },
    {
     "name": "stdout",
     "output_type": "stream",
     "text": [
      "Merged and Sorted List: [88, 252, 455, 456, 555, 639, 665, 7899]\n"
     ]
    }
   ],
   "source": [
    "# Input from user\n",
    "list1 = list(map(int, input(\"Enter elements of List 1 (space-separated): \").split()))\n",
    "list2 = list(map(int, input(\"Enter elements of List 2 (space-separated): \").split()))\n",
    "\n",
    "# Merge the two lists\n",
    "merged_list = list1 + list2\n",
    "\n",
    "# Sort the merged list\n",
    "merged_list.sort()\n",
    "\n",
    "# Print the result\n",
    "print(\"Merged and Sorted List:\", merged_list)\n"
   ]
  },
  {
   "cell_type": "markdown",
   "id": "26cbd571-e859-4675-959e-f3d30521db14",
   "metadata": {},
   "source": [
    "# 17. Remove Duplicates from a List"
   ]
  },
  {
   "cell_type": "code",
   "execution_count": 30,
   "id": "1e69a42a-07b5-4070-9759-0d50d4c47a18",
   "metadata": {},
   "outputs": [
    {
     "name": "stdin",
     "output_type": "stream",
     "text": [
      "Enter list elements (space-separated):  44 55 44 44 55 66 66 \n"
     ]
    },
    {
     "name": "stdout",
     "output_type": "stream",
     "text": [
      "List after removing duplicates: [44, 55, 66]\n"
     ]
    }
   ],
   "source": [
    "# Input from user\n",
    "nums = list(map(int, input(\"Enter list elements (space-separated): \").split()))\n",
    "\n",
    "# Remove duplicates using set\n",
    "unique_nums = list(set(nums))\n",
    "\n",
    "# Optional: Sort the result\n",
    "unique_nums.sort()\n",
    "\n",
    "# Print result\n",
    "print(\"List after removing duplicates:\", unique_nums)\n"
   ]
  },
  {
   "cell_type": "markdown",
   "id": "90bbc625-e685-4ce9-8d20-175107c94735",
   "metadata": {},
   "source": [
    "# 16. Generate Multiplication Table"
   ]
  },
  {
   "cell_type": "code",
   "execution_count": 29,
   "id": "6ce5ea23-7806-4750-b586-3a2e0740cd1f",
   "metadata": {},
   "outputs": [
    {
     "name": "stdin",
     "output_type": "stream",
     "text": [
      "Enter a number to generate its multiplication table:  5\n"
     ]
    },
    {
     "name": "stdout",
     "output_type": "stream",
     "text": [
      "5 x 1 = 5\n",
      "5 x 2 = 10\n",
      "5 x 3 = 15\n",
      "5 x 4 = 20\n",
      "5 x 5 = 25\n",
      "5 x 6 = 30\n",
      "5 x 7 = 35\n",
      "5 x 8 = 40\n",
      "5 x 9 = 45\n",
      "5 x 10 = 50\n"
     ]
    }
   ],
   "source": [
    "# Input from user\n",
    "num = int(input(\"Enter a number to generate its multiplication table: \"))\n",
    "\n",
    "# Generate and print the table from 1 to 10\n",
    "for i in range(1, 11):\n",
    "    print(f\"{num} x {i} = {num * i}\")\n"
   ]
  },
  {
   "cell_type": "markdown",
   "id": "0017b86d-5e0f-450c-9b73-ed59a2f7df71",
   "metadata": {},
   "source": [
    "# 15. Check Armstrong Number"
   ]
  },
  {
   "cell_type": "code",
   "execution_count": 28,
   "id": "9438211c-23f3-49f4-8235-3425258c1745",
   "metadata": {},
   "outputs": [
    {
     "name": "stdin",
     "output_type": "stream",
     "text": [
      "Enter a number:  45\n"
     ]
    },
    {
     "name": "stdout",
     "output_type": "stream",
     "text": [
      "45 is Not an Armstrong Number\n"
     ]
    }
   ],
   "source": [
    "# Input from user\n",
    "num = int(input(\"Enter a number: \"))\n",
    "\n",
    "# Convert number to string to get number of digits\n",
    "num_str = str(num)\n",
    "n = len(num_str)\n",
    "\n",
    "# Calculate sum of each digit raised to the power of n\n",
    "armstrong_sum = sum(int(digit) ** n for digit in num_str)\n",
    "\n",
    "# Check if Armstrong\n",
    "if num == armstrong_sum:\n",
    "    print(num, \"is an Armstrong Number\")\n",
    "else:\n",
    "    print(num, \"is Not an Armstrong Number\")\n"
   ]
  },
  {
   "cell_type": "markdown",
   "id": "ad9637f9-c2c5-4d39-94ee-69f1c0767239",
   "metadata": {},
   "source": [
    "# 14. Reverse a String"
   ]
  },
  {
   "cell_type": "code",
   "execution_count": 24,
   "id": "57315654-c3f1-4c8f-a34e-da262d9601d4",
   "metadata": {},
   "outputs": [
    {
     "name": "stdin",
     "output_type": "stream",
     "text": [
      "Enter a string:  vasanth\n"
     ]
    },
    {
     "name": "stdout",
     "output_type": "stream",
     "text": [
      "Reversed String: htnasav\n"
     ]
    }
   ],
   "source": [
    "# Input from user\n",
    "text = input(\"Enter a string: \")\n",
    "\n",
    "# Reverse the string using slicing\n",
    "reversed_text = text[::-1]\n",
    "\n",
    "# Print result\n",
    "print(\"Reversed String:\", reversed_text)\n"
   ]
  },
  {
   "cell_type": "markdown",
   "id": "c41dd69f-0940-40f2-9caf-6b31d4eab26d",
   "metadata": {},
   "source": [
    "# 13. Count the Frequency of Elements in a List"
   ]
  },
  {
   "cell_type": "code",
   "execution_count": 23,
   "id": "a061cb3a-ed96-45bc-be9b-4f8095e4d026",
   "metadata": {},
   "outputs": [
    {
     "name": "stdin",
     "output_type": "stream",
     "text": [
      "Enter list elements (space-separated):  44 55 44 66 55 \n"
     ]
    },
    {
     "name": "stdout",
     "output_type": "stream",
     "text": [
      "Frequency of elements:\n",
      "44 occurs 2 time(s)\n",
      "55 occurs 2 time(s)\n",
      "66 occurs 1 time(s)\n"
     ]
    }
   ],
   "source": [
    "# Input from user\n",
    "elements = list(map(int, input(\"Enter list elements (space-separated): \").split()))\n",
    "\n",
    "# Create an empty dictionary to store frequencies\n",
    "frequency = {}\n",
    "\n",
    "# Count each element\n",
    "for item in elements:\n",
    "    if item in frequency:\n",
    "        frequency[item] += 1\n",
    "    else:\n",
    "        frequency[item] = 1\n",
    "\n",
    "# Print the frequency\n",
    "print(\"Frequency of elements:\")\n",
    "for key in frequency:\n",
    "    print(f\"{key} occurs {frequency[key]} time(s)\")\n"
   ]
  },
  {
   "cell_type": "markdown",
   "id": "71cdc272-de9c-49ee-9a99-9e8fcd17a8d2",
   "metadata": {},
   "source": [
    "# 12. Find the Largest of Three Numbers"
   ]
  },
  {
   "cell_type": "code",
   "execution_count": 19,
   "id": "ecb7c8f0-e2b8-4184-8a16-2ca40d857567",
   "metadata": {},
   "outputs": [
    {
     "name": "stdin",
     "output_type": "stream",
     "text": [
      "Enter first number:  5\n",
      "Enter second number:  45\n",
      "Enter third number:  85\n"
     ]
    },
    {
     "name": "stdout",
     "output_type": "stream",
     "text": [
      "The largest number is: 85\n"
     ]
    }
   ],
   "source": [
    "# Input from user\n",
    "a = int(input(\"Enter first number: \"))\n",
    "b = int(input(\"Enter second number: \"))\n",
    "c = int(input(\"Enter third number: \"))\n",
    "\n",
    "# Compare and find the largest\n",
    "if a >= b and a >= c:\n",
    "    largest = a\n",
    "elif b >= a and b >= c:\n",
    "    largest = b\n",
    "else:\n",
    "    largest = c\n",
    "\n",
    "# Print result\n",
    "print(\"The largest number is:\", largest)\n"
   ]
  },
  {
   "cell_type": "markdown",
   "id": "0fc084b6-93a0-43e9-b6f2-f257fd5e4eaa",
   "metadata": {},
   "source": [
    " # 11.check even or add"
   ]
  },
  {
   "cell_type": "code",
   "execution_count": 18,
   "id": "79cf8fa8-fbf4-4882-853f-ba40995f6848",
   "metadata": {},
   "outputs": [
    {
     "name": "stdin",
     "output_type": "stream",
     "text": [
      "enter the number: 45.2\n"
     ]
    },
    {
     "name": "stdout",
     "output_type": "stream",
     "text": [
      "odd\n"
     ]
    }
   ],
   "source": [
    "# check odd ,even number\n",
    "number=float(input(\"enter the number:\"))\n",
    "if number%2==0:\n",
    "  print(\"even\")\n",
    "else:\n",
    "    print(\"odd\")\n"
   ]
  },
  {
   "cell_type": "markdown",
   "id": "3949967b-3f97-453f-a01d-cd911501c8bb",
   "metadata": {},
   "source": [
    "# 10. Factorial of a Number"
   ]
  },
  {
   "cell_type": "code",
   "execution_count": 16,
   "id": "6fa677b1-0901-4058-98f3-6e7a05e7820b",
   "metadata": {},
   "outputs": [
    {
     "name": "stdin",
     "output_type": "stream",
     "text": [
      "enter the number : 5\n"
     ]
    },
    {
     "name": "stdout",
     "output_type": "stream",
     "text": [
      "Factorial:120\n"
     ]
    }
   ],
   "source": [
    "# factorial number\n",
    "n=int(input(\"enter the number :\"))\n",
    "factorial=1\n",
    "for i in range(1,n+1):\n",
    "    factorial*=i\n",
    "print(f\"Factorial:{factorial}\")"
   ]
  },
  {
   "cell_type": "markdown",
   "id": "95f6f9d7-c62c-4c60-afcd-9c4ebc67e08c",
   "metadata": {},
   "source": [
    "# 9. Sum of Digits in a Number"
   ]
  },
  {
   "cell_type": "code",
   "execution_count": 13,
   "id": "386cd752-eec2-49a8-9085-d6dd6038cc0c",
   "metadata": {},
   "outputs": [
    {
     "name": "stdin",
     "output_type": "stream",
     "text": [
      "Enter a number:  45687951\n"
     ]
    },
    {
     "name": "stdout",
     "output_type": "stream",
     "text": [
      "Sum of digits: 45\n"
     ]
    }
   ],
   "source": [
    "# Input from user\n",
    "num = input(\"Enter a number: \")\n",
    "\n",
    "# Initialize sum\n",
    "total = 0\n",
    "\n",
    "# Loop through each character (digit) in the string\n",
    "for digit in num:\n",
    "    total += int(digit)\n",
    "\n",
    "# Print result\n",
    "print(\"Sum of digits:\", total)\n"
   ]
  },
  {
   "cell_type": "markdown",
   "id": "66e17332-4ecf-4b0b-8963-621d1b3495ff",
   "metadata": {},
   "source": [
    "# 8. Count Vowels and Consonants in a String"
   ]
  },
  {
   "cell_type": "code",
   "execution_count": 12,
   "id": "57aabc97-7e61-4090-ad93-86c6ac5c7a9f",
   "metadata": {},
   "outputs": [
    {
     "name": "stdin",
     "output_type": "stream",
     "text": [
      "Enter a string:  vasanth\n"
     ]
    },
    {
     "name": "stdout",
     "output_type": "stream",
     "text": [
      "Vowels: 2\n",
      "Consonants: 5\n"
     ]
    }
   ],
   "source": [
    "# Input from user\n",
    "text = input(\"Enter a string: \")\n",
    "\n",
    "# Convert string to lowercase\n",
    "text = text.lower()\n",
    "\n",
    "# Initialize counters\n",
    "vowels = 0\n",
    "consonants = 0\n",
    "\n",
    "# Loop through characters\n",
    "for char in text:\n",
    "    if char >= 'a' and char <= 'z':  # Check only alphabet letters\n",
    "        if char in 'aeiou':\n",
    "            vowels += 1\n",
    "        else:\n",
    "            consonants += 1\n",
    "\n",
    "# Output result\n",
    "print(\"Vowels:\", vowels)\n",
    "print(\"Consonants:\", consonants)\n"
   ]
  },
  {
   "cell_type": "markdown",
   "id": "cfed194b-1cfb-4be0-8226-a150d3a854e4",
   "metadata": {},
   "source": [
    "# 5. Find Maximum and Minimum Number\n",
    "# 6. Find 2nd Largest and 2nd Smallest Number\n",
    "# 7. Sort in Ascending and Descending Order\n"
   ]
  },
  {
   "cell_type": "code",
   "execution_count": 11,
   "id": "09368093-1594-41e2-bac0-cdb0b6d6f956",
   "metadata": {},
   "outputs": [
    {
     "name": "stdout",
     "output_type": "stream",
     "text": [
      "[1, 5, 6, 8, 9, 10]\n",
      "first_min: 1 second_min: 5\n",
      "first_max: 10 second_max: 9\n"
     ]
    }
   ],
   "source": [
    "k=[1,5,6,8,9,10]\n",
    "for i in range(len(k)):\n",
    "    for j in range(len(k)):\n",
    "        if k[i]<k[j]:\n",
    "            a=k[j]\n",
    "            k[j]=k[i]\n",
    "            k[i]=a\n",
    "           \n",
    "print(k)\n",
    "print(\"first_min:\",k[0],\"second_min:\",k[1])\n",
    "print(\"first_max:\",k[len(k)-1],\"second_max:\",k[len(k)-2])"
   ]
  },
  {
   "cell_type": "markdown",
   "id": "340017c6-597d-43fa-9797-907725abefa1",
   "metadata": {},
   "source": [
    "# 4. Fibonacci Series"
   ]
  },
  {
   "cell_type": "code",
   "execution_count": 10,
   "id": "364be83b-5374-4912-93af-9c7ebc5f39e1",
   "metadata": {},
   "outputs": [
    {
     "name": "stdin",
     "output_type": "stream",
     "text": [
      "Enter how many Fibonacci numbers to print:  5\n"
     ]
    },
    {
     "name": "stdout",
     "output_type": "stream",
     "text": [
      "Fibonacci Series:\n",
      "0 1 1 2 3 "
     ]
    }
   ],
   "source": [
    "# Input from user\n",
    "n = int(input(\"Enter how many Fibonacci numbers to print: \"))\n",
    "\n",
    "# First two terms\n",
    "a, b = 0, 1\n",
    "\n",
    "# Print Fibonacci series\n",
    "print(\"Fibonacci Series:\")\n",
    "for _ in range(n):\n",
    "    print(a, end=\" \")\n",
    "    a, b = b, a + b\n"
   ]
  },
  {
   "cell_type": "markdown",
   "id": "7bbdba0e-6d34-4e13-805e-9785a15adb59",
   "metadata": {},
   "source": [
    "# 3. Prime or Not Prime"
   ]
  },
  {
   "cell_type": "code",
   "execution_count": 9,
   "id": "c8d0aa56-6148-4cf7-9825-06af7fa81984",
   "metadata": {},
   "outputs": [
    {
     "name": "stdin",
     "output_type": "stream",
     "text": [
      "enter the value: 55\n"
     ]
    },
    {
     "name": "stdout",
     "output_type": "stream",
     "text": [
      "not Prime\n"
     ]
    }
   ],
   "source": [
    "n=int(input(\"enter the value:\"))\n",
    "count=0\n",
    "for i in range(1,n+1):\n",
    "    if n%i==0:\n",
    "       count+=1\n",
    "if count<=2:\n",
    "      print(\"Prime\")\n",
    "else:\n",
    "    print(\"not Prime\")"
   ]
  },
  {
   "cell_type": "markdown",
   "id": "9bdc18ef-12a2-466c-add4-eddd0fa538cd",
   "metadata": {},
   "source": [
    "# 2. Check for Palindrome"
   ]
  },
  {
   "cell_type": "code",
   "execution_count": 5,
   "id": "beeb3868-a4b1-4cff-9c76-8ab374968128",
   "metadata": {},
   "outputs": [
    {
     "name": "stdin",
     "output_type": "stream",
     "text": [
      "Enter a string or number:  madam\n"
     ]
    },
    {
     "name": "stdout",
     "output_type": "stream",
     "text": [
      "madam is a Palindrome\n"
     ]
    }
   ],
   "source": [
    "# Input from user\n",
    "text = input(\"Enter a string or number: \")\n",
    "\n",
    "# Check if same when reversed\n",
    "if text == text[::-1]:\n",
    "    print(text, \"is a Palindrome\")\n",
    "else:\n",
    "    print(text, \"is Not a Palindrome\")\n"
   ]
  },
  {
   "cell_type": "markdown",
   "id": "2d6082d2-d6a5-407e-b177-a4532475fe4f",
   "metadata": {},
   "source": [
    "# 1. Check for Anagram"
   ]
  },
  {
   "cell_type": "code",
   "execution_count": 2,
   "id": "4221958b-4d6b-40a7-9551-2c38e4b0097b",
   "metadata": {},
   "outputs": [
    {
     "name": "stdin",
     "output_type": "stream",
     "text": [
      "Enter first string:  listen\n",
      "Enter second string:  silent\n"
     ]
    },
    {
     "name": "stdout",
     "output_type": "stream",
     "text": [
      "The strings are Anagrams\n"
     ]
    }
   ],
   "source": [
    "# Input from user\n",
    "str1 = input(\"Enter first string: \").replace(\" \", \"\").lower()\n",
    "str2 = input(\"Enter second string: \").replace(\" \", \"\").lower()\n",
    "\n",
    "# Check if sorted characters match\n",
    "if sorted(str1) == sorted(str2):\n",
    "    print(\"The strings are Anagrams\")\n",
    "else:\n",
    "    print(\"The strings are Not Anagrams\")\n",
    "\n"
   ]
  },
  {
   "cell_type": "code",
   "execution_count": null,
   "id": "89896283-629d-45c3-a294-15ed2421a532",
   "metadata": {},
   "outputs": [],
   "source": []
  }
 ],
 "metadata": {
  "kernelspec": {
   "display_name": "Python 3 (ipykernel)",
   "language": "python",
   "name": "python3"
  },
  "language_info": {
   "codemirror_mode": {
    "name": "ipython",
    "version": 3
   },
   "file_extension": ".py",
   "mimetype": "text/x-python",
   "name": "python",
   "nbconvert_exporter": "python",
   "pygments_lexer": "ipython3",
   "version": "3.12.7"
  }
 },
 "nbformat": 4,
 "nbformat_minor": 5
}
