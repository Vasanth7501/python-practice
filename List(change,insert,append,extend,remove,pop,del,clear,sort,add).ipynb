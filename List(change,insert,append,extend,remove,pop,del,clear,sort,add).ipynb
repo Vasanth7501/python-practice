{
 "cells": [
  {
   "cell_type": "markdown",
   "id": "a190d17e-1819-46c0-808c-20359b3f318b",
   "metadata": {},
   "source": [
    "# python Lists"
   ]
  },
  {
   "cell_type": "markdown",
   "id": "1c04e7d1-60c5-435e-a023-8545b3c3ba76",
   "metadata": {},
   "source": [
    "### Lists are used to store multiple items in a single variable.\n",
    "\n",
    "# Lists are one of 4 built-in data types in Python used to store collections of data, the other 3 are Tuple, Set, and Dictionary, all with different qualities and usage.\n",
    "\n",
    "# Lists are created using square brackets:"
   ]
  },
  {
   "cell_type": "markdown",
   "id": "02f5f4bc-96a0-4d59-af3e-6e55aed44162",
   "metadata": {},
   "source": [
    "# List Items\n",
    " # List items are ordered, changeable, and allow duplicate values.\n",
    "\n",
    "# List items are indexed, the first item has index [0], the second item has index [1] etc."
   ]
  },
  {
   "cell_type": "code",
   "execution_count": 4,
   "id": "597fe1c9-3502-4203-8590-4b566d28498f",
   "metadata": {},
   "outputs": [
    {
     "name": "stdout",
     "output_type": "stream",
     "text": [
      "['hi', 'hello', 'welcome']\n"
     ]
    }
   ],
   "source": [
    "mylist = [\"hi\", \"hello\", \"welcome\"]\n",
    "print(mylist)"
   ]
  },
  {
   "cell_type": "code",
   "execution_count": 7,
   "id": "aa15ab3a-52aa-439d-bfee-26a10e699596",
   "metadata": {},
   "outputs": [
    {
     "name": "stdout",
     "output_type": "stream",
     "text": [
      "[1, 2, 3, 1, 5, 7, 9]\n"
     ]
    }
   ],
   "source": [
    "mynumber=[1,2,3,1,5,7,9]\n",
    "print(mynumber)"
   ]
  },
  {
   "cell_type": "markdown",
   "id": "eaf1dff3-fc40-418a-b53f-a4bbcbd8faed",
   "metadata": {},
   "source": [
    "# Allow duplicates\n",
    "# Mutable"
   ]
  },
  {
   "cell_type": "code",
   "execution_count": 8,
   "id": "3e17e5ad-cb6d-445d-9100-161bd7acebe6",
   "metadata": {},
   "outputs": [
    {
     "name": "stdout",
     "output_type": "stream",
     "text": [
      "['hi', 'hello', 'welcome', 'welcome']\n"
     ]
    }
   ],
   "source": [
    "mylist = [\"hi\", \"hello\", \"welcome\",\"welcome\"]\n",
    "print(mylist)"
   ]
  },
  {
   "cell_type": "code",
   "execution_count": 10,
   "id": "27dfa90f-1211-46db-8b49-b554978ba293",
   "metadata": {},
   "outputs": [
    {
     "data": {
      "text/plain": [
       "[122, 122, 150, 150, 84]"
      ]
     },
     "execution_count": 10,
     "metadata": {},
     "output_type": "execute_result"
    }
   ],
   "source": [
    "mylist1=[122,122,150,150,84]\n",
    "mylist1"
   ]
  },
  {
   "cell_type": "code",
   "execution_count": 11,
   "id": "7e754c88-39cc-4380-b770-490bc9d7f133",
   "metadata": {},
   "outputs": [
    {
     "name": "stdout",
     "output_type": "stream",
     "text": [
      "5\n"
     ]
    }
   ],
   "source": [
    "print(len(mylist1))"
   ]
  },
  {
   "cell_type": "code",
   "execution_count": 12,
   "id": "e0e84b4c-2339-4a5c-8644-1cc9c3728425",
   "metadata": {},
   "outputs": [
    {
     "name": "stdout",
     "output_type": "stream",
     "text": [
      "<class 'list'>\n"
     ]
    }
   ],
   "source": [
    "print(type(mylist))"
   ]
  },
  {
   "cell_type": "code",
   "execution_count": 14,
   "id": "f5961dc0-8b36-4b45-8db8-40d5457c303f",
   "metadata": {},
   "outputs": [
    {
     "name": "stdout",
     "output_type": "stream",
     "text": [
      "[1, 1.5, (1+5j), 'hi']\n"
     ]
    }
   ],
   "source": [
    "list2=[1,1.5,1+5j,\"hi\"]\n",
    "print(list2)"
   ]
  },
  {
   "cell_type": "code",
   "execution_count": 18,
   "id": "1e4b193e-4419-4946-9a49-e93a25730b08",
   "metadata": {},
   "outputs": [
    {
     "name": "stdout",
     "output_type": "stream",
     "text": [
      "hello\n"
     ]
    }
   ],
   "source": [
    "mylist = [\"hi\", \"hello\", \"welcome\",\"welcome\"]\n",
    "print(mylist[1])"
   ]
  },
  {
   "cell_type": "code",
   "execution_count": 19,
   "id": "f3acec3e-097d-4122-bc5c-416cb24a35bf",
   "metadata": {},
   "outputs": [
    {
     "name": "stdout",
     "output_type": "stream",
     "text": [
      "hello\n"
     ]
    }
   ],
   "source": [
    "mylist = [\"hi\", \"hello\", \"welcome\",\"welcome\"]\n",
    "print(mylist[-3])"
   ]
  },
  {
   "cell_type": "code",
   "execution_count": 20,
   "id": "a2777750-29ce-4da9-a831-ae4bfda8b935",
   "metadata": {},
   "outputs": [
    {
     "name": "stdout",
     "output_type": "stream",
     "text": [
      "['hello', 'welcome', 'welcome']\n"
     ]
    }
   ],
   "source": [
    "mylist = [\"hi\", \"hello\", \"welcome\",\"welcome\"]\n",
    "print(mylist[1:])"
   ]
  },
  {
   "cell_type": "code",
   "execution_count": 21,
   "id": "2f17e915-e163-4a78-993f-9155985f1162",
   "metadata": {},
   "outputs": [
    {
     "name": "stdout",
     "output_type": "stream",
     "text": [
      "1\n"
     ]
    }
   ],
   "source": [
    "print(True*True)"
   ]
  },
  {
   "cell_type": "code",
   "execution_count": 22,
   "id": "a827d0a5-5aa1-4ee5-a6c3-0af21b6c7310",
   "metadata": {},
   "outputs": [
    {
     "name": "stdout",
     "output_type": "stream",
     "text": [
      "0\n"
     ]
    }
   ],
   "source": [
    "print(True*False)"
   ]
  },
  {
   "cell_type": "code",
   "execution_count": 23,
   "id": "afa216e7-2e8e-4d03-a8aa-df068d915c09",
   "metadata": {},
   "outputs": [
    {
     "name": "stdout",
     "output_type": "stream",
     "text": [
      "0\n"
     ]
    }
   ],
   "source": [
    "print(False*False)"
   ]
  },
  {
   "cell_type": "code",
   "execution_count": 24,
   "id": "cb4a739c-92f6-4a64-afd9-5c2a2e533db5",
   "metadata": {},
   "outputs": [
    {
     "name": "stdout",
     "output_type": "stream",
     "text": [
      "0\n"
     ]
    }
   ],
   "source": [
    "print(False*True)"
   ]
  },
  {
   "cell_type": "code",
   "execution_count": 30,
   "id": "0570fa62-c173-4b9f-a1cf-fa3eb8c4ab6e",
   "metadata": {},
   "outputs": [
    {
     "name": "stdout",
     "output_type": "stream",
     "text": [
      "76\n"
     ]
    }
   ],
   "source": [
    "k=[1,2,3,[4,[78,65,76],5],7,8]\n",
    "print(k[3][1][2])"
   ]
  },
  {
   "cell_type": "markdown",
   "id": "1d4e61fb-b6ae-4937-ac9d-4047ef0b4cc9",
   "metadata": {},
   "source": [
    "# Changed Listed Items"
   ]
  },
  {
   "cell_type": "code",
   "execution_count": 31,
   "id": "35946a8d-2304-47b2-884f-602be2216184",
   "metadata": {},
   "outputs": [
    {
     "name": "stdout",
     "output_type": "stream",
     "text": [
      "['apple', 'banana', 'carrot']\n"
     ]
    },
    {
     "data": {
      "text/plain": [
       "['apple', 'banana', 67]"
      ]
     },
     "execution_count": 31,
     "metadata": {},
     "output_type": "execute_result"
    }
   ],
   "source": [
    "mylist = [\"apple\", \"banana\", \"carrot\"]\n",
    "print(mylist)\n",
    "mylist[2]=67\n",
    "mylist"
   ]
  },
  {
   "cell_type": "code",
   "execution_count": 34,
   "id": "946ce4dd-8024-499d-8c39-45914fd563dc",
   "metadata": {},
   "outputs": [
    {
     "name": "stdout",
     "output_type": "stream",
     "text": [
      "[2, 3, 5, 8]\n"
     ]
    }
   ],
   "source": [
    "list1=[1,2,3,5,8,69,54]\n",
    "print(list1[1:5])"
   ]
  },
  {
   "cell_type": "code",
   "execution_count": 35,
   "id": "8ef1d4dd-31dd-4a90-b141-d12dd482012a",
   "metadata": {},
   "outputs": [
    {
     "data": {
      "text/plain": [
       "[1, 2, 676, 89, 9, 34, 67]"
      ]
     },
     "execution_count": 35,
     "metadata": {},
     "output_type": "execute_result"
    }
   ],
   "source": [
    "k=[1,2,33,34,67]\n",
    "k[2:3]=[676,89,9]\n",
    "k"
   ]
  },
  {
   "cell_type": "code",
   "execution_count": 36,
   "id": "12fd115e-bd00-4765-9b92-cce269ee8c07",
   "metadata": {},
   "outputs": [
    {
     "data": {
      "text/plain": [
       "[1, 2, 676, 89, 9]"
      ]
     },
     "execution_count": 36,
     "metadata": {},
     "output_type": "execute_result"
    }
   ],
   "source": [
    "k=[1,2,33,34,67]\n",
    "k[2:]=[676,89,9]\n",
    "k"
   ]
  },
  {
   "cell_type": "code",
   "execution_count": 37,
   "id": "26f6b68d-d968-4464-b19b-bdddab18b56c",
   "metadata": {},
   "outputs": [
    {
     "data": {
      "text/plain": [
       "[1, 2, [676, 89, 9], 34, 67]"
      ]
     },
     "execution_count": 37,
     "metadata": {},
     "output_type": "execute_result"
    }
   ],
   "source": [
    "k=[1,2,33,34,67]\n",
    "k[2]=[676,89,9]\n",
    "k"
   ]
  },
  {
   "cell_type": "code",
   "execution_count": 39,
   "id": "a860c512-64ef-45e8-815a-187a808d329f",
   "metadata": {},
   "outputs": [
    {
     "data": {
      "text/plain": [
       "[676, 89, 9, 34, 67]"
      ]
     },
     "execution_count": 39,
     "metadata": {},
     "output_type": "execute_result"
    }
   ],
   "source": [
    "k=[1,2,33,34,67]\n",
    "k[0:3]=[676,89,9]\n",
    "k"
   ]
  },
  {
   "cell_type": "code",
   "execution_count": 40,
   "id": "c882f00a-d8bc-4f5a-bf10-191b54fd0a40",
   "metadata": {},
   "outputs": [
    {
     "name": "stdout",
     "output_type": "stream",
     "text": [
      "banana\n"
     ]
    }
   ],
   "source": [
    "mylist = [\"apple\", \"banana\", \"carrot\"]\n",
    "print(mylist[1])"
   ]
  },
  {
   "cell_type": "code",
   "execution_count": 41,
   "id": "93a04d5f-2d49-42b6-a790-67e95ce4fe72",
   "metadata": {},
   "outputs": [
    {
     "name": "stdout",
     "output_type": "stream",
     "text": [
      "['apple', 'blackcurrant', 'watermelon', 'orange', 'kiwi', 'mango']\n"
     ]
    }
   ],
   "source": [
    "mylist = [\"apple\", \"banana\", \"cherry\", \"orange\", \"kiwi\", \"mango\"]\n",
    "mylist[1:3] = [\"blackcurrant\", \"watermelon\"]\n",
    "print(mylist)"
   ]
  },
  {
   "cell_type": "code",
   "execution_count": 45,
   "id": "74331763-ba62-4a50-b7d5-beec1062e25f",
   "metadata": {},
   "outputs": [
    {
     "name": "stdout",
     "output_type": "stream",
     "text": [
      "['apple', 'blackcurrant', 'watermelon', 'cherry', 'orange', 'kiwi', 'mango']\n"
     ]
    }
   ],
   "source": [
    "mylist = [\"apple\", \"banana\", \"cherry\", \"orange\", \"kiwi\", \"mango\"]\n",
    "mylist[1:2] = [\"blackcurrant\", \"watermelon\"]\n",
    "print(mylist)"
   ]
  },
  {
   "cell_type": "code",
   "execution_count": 46,
   "id": "abf41489-320f-466c-b157-ef10fc4b1556",
   "metadata": {},
   "outputs": [
    {
     "name": "stdout",
     "output_type": "stream",
     "text": [
      "['apple', 'blackcurrant', 'watermelon']\n"
     ]
    }
   ],
   "source": [
    "mylist = [\"apple\", \"banana\", \"cherry\"]\n",
    "mylist[1:3] = [\"blackcurrant\", \"watermelon\"]\n",
    "print(mylist)"
   ]
  },
  {
   "cell_type": "code",
   "execution_count": 44,
   "id": "c64d98b2-29e8-43d0-acaf-4fb0bf6c1f27",
   "metadata": {},
   "outputs": [
    {
     "name": "stdout",
     "output_type": "stream",
     "text": [
      "['apple', 'watermelon']\n"
     ]
    }
   ],
   "source": [
    "mylist = [\"apple\", \"banana\", \"cherry\"]\n",
    "mylist[1:3] = [\"watermelon\"]\n",
    "print(mylist)\n"
   ]
  },
  {
   "cell_type": "code",
   "execution_count": 47,
   "id": "a7475959-3fb5-4984-a96f-1f807508bcb6",
   "metadata": {},
   "outputs": [
    {
     "name": "stdout",
     "output_type": "stream",
     "text": [
      "[1, 'hi', 'hello', 5, 8]\n"
     ]
    }
   ],
   "source": [
    "k=[1,2,3,5,8]\n",
    "k[1:3]=[\"hi\",\"hello\"]\n",
    "print(k)"
   ]
  },
  {
   "cell_type": "markdown",
   "id": "60326706-0495-4b18-97a9-44e49892edfd",
   "metadata": {},
   "source": [
    "# Insert values in list"
   ]
  },
  {
   "cell_type": "markdown",
   "id": "a1e350f2-f3d2-47a5-b347-41d5a37a5db4",
   "metadata": {},
   "source": [
    "# To insert a list item at a specified index, use the insert() method.\n",
    "\n",
    "# The insert() method inserts an item at the specified index:"
   ]
  },
  {
   "cell_type": "code",
   "execution_count": 48,
   "id": "a3c1fed9-30a7-4227-9881-9d3b4eaf17a2",
   "metadata": {},
   "outputs": [
    {
     "name": "stdout",
     "output_type": "stream",
     "text": [
      "['apple', 'banana', 'watermelon', 'cherry']\n"
     ]
    }
   ],
   "source": [
    "mylist = [\"apple\", \"banana\", \"cherry\"]\n",
    "mylist.insert(2, \"watermelon\")\n",
    "print(mylist)"
   ]
  },
  {
   "cell_type": "code",
   "execution_count": 49,
   "id": "a7eb6f7a-d3de-4650-a94d-66f834b99db2",
   "metadata": {},
   "outputs": [
    {
     "name": "stdout",
     "output_type": "stream",
     "text": [
      "[1, 2, 3, 'hi', 5, 6]\n"
     ]
    }
   ],
   "source": [
    "k=[1,2,3,5,6]\n",
    "k.insert(3,\"hi\")\n",
    "print(k)"
   ]
  },
  {
   "cell_type": "code",
   "execution_count": 53,
   "id": "1d56cf59-34ea-4f80-811b-e55fc8a56d70",
   "metadata": {},
   "outputs": [
    {
     "name": "stdout",
     "output_type": "stream",
     "text": [
      "['hi', 'vasanth1', 456, 777, 852, 455, 524]\n"
     ]
    }
   ],
   "source": [
    "l=[\"hi\",\"vasanth1\",456,777,852,524]\n",
    "l.insert(5,455)\n",
    "print(l)"
   ]
  },
  {
   "cell_type": "code",
   "execution_count": 54,
   "id": "c9855e42-bb71-41c9-ad00-748289cfd145",
   "metadata": {},
   "outputs": [
    {
     "name": "stdout",
     "output_type": "stream",
     "text": [
      "[45, 85, 'vasanth', 96, 25, 63]\n"
     ]
    }
   ],
   "source": [
    "list2=[45,85,96,25,63]\n",
    "list2.insert(2,\"vasanth\")\n",
    "print(list2)"
   ]
  },
  {
   "cell_type": "code",
   "execution_count": 55,
   "id": "657f5fea-08fc-44c3-87bd-341dd1e898dc",
   "metadata": {},
   "outputs": [
    {
     "name": "stdout",
     "output_type": "stream",
     "text": [
      "['hi', 85, 96, 74, 52]\n"
     ]
    }
   ],
   "source": [
    "k=[85,96,74,52]\n",
    "k.insert(0,\"hi\")\n",
    "print(k)"
   ]
  },
  {
   "cell_type": "markdown",
   "id": "0bf06f62-b59e-43f0-86c3-fd643f5d3c61",
   "metadata": {},
   "source": [
    "# Append\n",
    "# To add an item to the end of the list, use the -----append()----- method: only one argument"
   ]
  },
  {
   "cell_type": "code",
   "execution_count": 56,
   "id": "d3576397-76b4-4d65-82c5-e2f2bf0374b1",
   "metadata": {},
   "outputs": [
    {
     "name": "stdout",
     "output_type": "stream",
     "text": [
      "[1, 2, 3, 4, 5, 'hi']\n"
     ]
    }
   ],
   "source": [
    "mylist = [1,2,3,4,5]\n",
    "mylist.append(\"hi\")\n",
    "print(mylist)"
   ]
  },
  {
   "cell_type": "code",
   "execution_count": 64,
   "id": "f704ea25-d21e-415a-949a-e7a240385e98",
   "metadata": {},
   "outputs": [
    {
     "name": "stdout",
     "output_type": "stream",
     "text": [
      "[1, 2, 5, 7, 9, 42, 'vasanth']\n"
     ]
    }
   ],
   "source": [
    "mylist1=[1,2,5,7,9,42]\n",
    "mylist1.append(\"vasanth\")\n",
    "print(mylist1)"
   ]
  },
  {
   "cell_type": "code",
   "execution_count": 65,
   "id": "7b7edec5-62b9-4b83-8e50-c4c25e59c745",
   "metadata": {},
   "outputs": [
    {
     "name": "stdout",
     "output_type": "stream",
     "text": [
      "['apple', 'banana', 'cherry', 'orange']\n"
     ]
    }
   ],
   "source": [
    "thislist = [\"apple\", \"banana\", \"cherry\"]\n",
    "thislist.append(\"orange\")\n",
    "print(thislist)"
   ]
  },
  {
   "cell_type": "code",
   "execution_count": 68,
   "id": "d315db7f-3f84-4d2a-a2e1-755640c6355d",
   "metadata": {},
   "outputs": [
    {
     "name": "stdout",
     "output_type": "stream",
     "text": [
      "[1, 2, 5]\n"
     ]
    }
   ],
   "source": [
    "k=[1,2]\n",
    "k.append(5)\n",
    "print(k)"
   ]
  },
  {
   "cell_type": "markdown",
   "id": "c162b776-0d59-4658-a5b6-0bff9d6ebdc7",
   "metadata": {},
   "source": [
    "# Extend\n",
    "# To append elements from another list to the current list, use the ----extend()--- method."
   ]
  },
  {
   "cell_type": "code",
   "execution_count": 66,
   "id": "f8923153-c513-401e-98bc-ab2047ed42d4",
   "metadata": {},
   "outputs": [
    {
     "name": "stdout",
     "output_type": "stream",
     "text": [
      "[1, 2, 34, 45, 333, 4, 4, 5, 6]\n"
     ]
    }
   ],
   "source": [
    "list1=[1,2,34,45]\n",
    "list2=[333,4,4,5,6]\n",
    "\n",
    "list1.extend(list2)\n",
    "print(list1)"
   ]
  },
  {
   "cell_type": "code",
   "execution_count": 67,
   "id": "13f1f931-0cac-440a-86cc-a3bf8e5dc29e",
   "metadata": {},
   "outputs": [
    {
     "name": "stdout",
     "output_type": "stream",
     "text": [
      "[78, 58, 96, 52, 87, 96, 54, 23]\n"
     ]
    }
   ],
   "source": [
    "l=[78,58,96,52]\n",
    "k=[87,96,54,23]\n",
    "l.extend(k)\n",
    "print(l)"
   ]
  },
  {
   "cell_type": "code",
   "execution_count": 70,
   "id": "013f730b-756c-43e2-b467-fe79a88302f3",
   "metadata": {},
   "outputs": [
    {
     "name": "stdout",
     "output_type": "stream",
     "text": [
      "['hi', 'hello', 'vasanth', 5]\n"
     ]
    }
   ],
   "source": [
    "m=[\"hi\",\"hello\"]\n",
    "l=[\"vasanth\",5]\n",
    "m.extend(l)\n",
    "print(m)"
   ]
  },
  {
   "cell_type": "code",
   "execution_count": 72,
   "id": "2b4a79b8-b429-4486-91c1-c44ba8f5aaa5",
   "metadata": {},
   "outputs": [
    {
     "name": "stdout",
     "output_type": "stream",
     "text": [
      "[78989466, 'hi', 56, 78, 89, 78, 89, 45]\n"
     ]
    }
   ],
   "source": [
    "o=[78989466,\"hi\"]\n",
    "l=[56,78,89]\n",
    "k=[78,89,45]\n",
    "o.extend(l)\n",
    "o.extend(k)\n",
    "print(o)"
   ]
  },
  {
   "cell_type": "markdown",
   "id": "8a129adc-3dce-472d-887e-1e6d817817c5",
   "metadata": {},
   "source": [
    "# Remove\n",
    "# The ----remove()---- method removes the specified item.\n",
    "# The ----pop()----- method removes the specified index.\n",
    "# The -----del---- keyword also removes the specified index:\n",
    "# The clear() method empties the list.The list still remains, but it has no content.\n",
    "\n"
   ]
  },
  {
   "cell_type": "code",
   "execution_count": 73,
   "id": "3221bad4-ce23-4d04-90c9-8aa1cd814b31",
   "metadata": {},
   "outputs": [
    {
     "name": "stdout",
     "output_type": "stream",
     "text": [
      "['banana', 'cherry']\n"
     ]
    }
   ],
   "source": [
    "mylist = [\"apple\", \"banana\", \"cherry\"]\n",
    "mylist.remove(\"apple\")\n",
    "print(mylist)"
   ]
  },
  {
   "cell_type": "code",
   "execution_count": 75,
   "id": "a7ddf136-48af-4ebf-8e6b-bb869fdf4556",
   "metadata": {},
   "outputs": [
    {
     "name": "stdout",
     "output_type": "stream",
     "text": [
      "[1, 5, 8, 10]\n"
     ]
    }
   ],
   "source": [
    "k=[1,5,8,9,10]\n",
    "k.remove(9)\n",
    "print(k)"
   ]
  },
  {
   "cell_type": "markdown",
   "id": "503ab41a-b931-4040-979e-9581b0f4b0e8",
   "metadata": {},
   "source": [
    "# The ----pop()----- method removes the specified index."
   ]
  },
  {
   "cell_type": "code",
   "execution_count": 76,
   "id": "98c85121-65ea-4722-b77b-a4462015ba5a",
   "metadata": {},
   "outputs": [
    {
     "name": "stdout",
     "output_type": "stream",
     "text": [
      "['apple', 'cherry']\n"
     ]
    }
   ],
   "source": [
    "mylist = [\"apple\", \"banana\", \"cherry\"]\n",
    "mylist.pop(1)\n",
    "print(mylist)"
   ]
  },
  {
   "cell_type": "code",
   "execution_count": 77,
   "id": "8541bf73-e9ea-4e73-a5c4-15a89cb9fd55",
   "metadata": {},
   "outputs": [
    {
     "name": "stdout",
     "output_type": "stream",
     "text": [
      "[789, 456, 123, 852, 963]\n"
     ]
    }
   ],
   "source": [
    "k=[789,456,123,741,852,963]\n",
    "k.pop(3)\n",
    "print(k)"
   ]
  },
  {
   "cell_type": "code",
   "execution_count": 78,
   "id": "f5788c3c-2281-4b39-b90c-bff923a36d97",
   "metadata": {},
   "outputs": [
    {
     "name": "stdout",
     "output_type": "stream",
     "text": [
      "[789, 456, 123, 741, 852]\n"
     ]
    }
   ],
   "source": [
    "k=[789,456,123,741,852,963]\n",
    "k.pop()\n",
    "print(k)"
   ]
  },
  {
   "cell_type": "markdown",
   "id": "e00b1e3e-4d62-435e-9e63-0d9c95fd3cc3",
   "metadata": {},
   "source": [
    "# The -----del---- keyword also removes the specified index:"
   ]
  },
  {
   "cell_type": "code",
   "execution_count": 79,
   "id": "d9310af4-6e99-4b01-9e6e-1a9b90e5b314",
   "metadata": {},
   "outputs": [
    {
     "ename": "NameError",
     "evalue": "name 'mylist' is not defined",
     "output_type": "error",
     "traceback": [
      "\u001b[1;31m---------------------------------------------------------------------------\u001b[0m",
      "\u001b[1;31mNameError\u001b[0m                                 Traceback (most recent call last)",
      "Cell \u001b[1;32mIn[79], line 3\u001b[0m\n\u001b[0;32m      1\u001b[0m mylist \u001b[38;5;241m=\u001b[39m [\u001b[38;5;241m1\u001b[39m,\u001b[38;5;241m5\u001b[39m,\u001b[38;5;241m6\u001b[39m,\u001b[38;5;241m6\u001b[39m,\u001b[38;5;241m89\u001b[39m,\u001b[38;5;241m88\u001b[39m]\n\u001b[0;32m      2\u001b[0m \u001b[38;5;28;01mdel\u001b[39;00m mylist\n\u001b[1;32m----> 3\u001b[0m mylist\n",
      "\u001b[1;31mNameError\u001b[0m: name 'mylist' is not defined"
     ]
    }
   ],
   "source": [
    "mylist = [1,5,6,6,89,88]\n",
    "del mylist\n",
    "mylist"
   ]
  },
  {
   "cell_type": "code",
   "execution_count": 81,
   "id": "83e1526d-68f1-4a5f-85dc-59e81c4316c9",
   "metadata": {},
   "outputs": [
    {
     "ename": "NameError",
     "evalue": "name 'k' is not defined",
     "output_type": "error",
     "traceback": [
      "\u001b[1;31m---------------------------------------------------------------------------\u001b[0m",
      "\u001b[1;31mNameError\u001b[0m                                 Traceback (most recent call last)",
      "Cell \u001b[1;32mIn[81], line 3\u001b[0m\n\u001b[0;32m      1\u001b[0m k\u001b[38;5;241m=\u001b[39m[\u001b[38;5;241m78\u001b[39m,\u001b[38;5;241m789\u001b[39m,\u001b[38;5;241m45\u001b[39m,\u001b[38;5;241m62\u001b[39m]\n\u001b[0;32m      2\u001b[0m \u001b[38;5;28;01mdel\u001b[39;00m k\n\u001b[1;32m----> 3\u001b[0m k\n",
      "\u001b[1;31mNameError\u001b[0m: name 'k' is not defined"
     ]
    }
   ],
   "source": [
    "k=[78,789,45,62]\n",
    "del k\n",
    "k"
   ]
  },
  {
   "cell_type": "markdown",
   "id": "8b5c9d28-fc01-45c6-8bee-27ad74f52a36",
   "metadata": {},
   "source": [
    "# The clear() method empties the list."
   ]
  },
  {
   "cell_type": "code",
   "execution_count": 82,
   "id": "20bc3369-e146-4ea4-9365-06c24631a951",
   "metadata": {},
   "outputs": [
    {
     "name": "stdout",
     "output_type": "stream",
     "text": [
      "[]\n"
     ]
    }
   ],
   "source": [
    "mylist = [1,5,6,6,89,88]\n",
    "mylist.clear()\n",
    "print(mylist)"
   ]
  },
  {
   "cell_type": "code",
   "execution_count": 83,
   "id": "db93598d-3f56-43bf-9b43-17e2b66e4e04",
   "metadata": {},
   "outputs": [
    {
     "name": "stdout",
     "output_type": "stream",
     "text": [
      "[]\n"
     ]
    }
   ],
   "source": [
    "k=[78,789,45,62]\n",
    "k.clear()\n",
    "print(k)"
   ]
  },
  {
   "cell_type": "code",
   "execution_count": 2,
   "id": "7df3920f-e688-4f93-a372-2b10fa2e8541",
   "metadata": {},
   "outputs": [
    {
     "name": "stdout",
     "output_type": "stream",
     "text": [
      "orange\n",
      "mango\n",
      "kiwi\n",
      "pineapple\n",
      "banana\n"
     ]
    }
   ],
   "source": [
    "mylist = [\"orange\", \"mango\", \"kiwi\", \"pineapple\", \"banana\"]\n",
    "for i in range(len(mylist)):\n",
    "    print(mylist[i])"
   ]
  },
  {
   "cell_type": "code",
   "execution_count": 7,
   "id": "e82e842a-f4e5-4834-88a5-b8085b37bb0d",
   "metadata": {},
   "outputs": [
    {
     "name": "stdout",
     "output_type": "stream",
     "text": [
      "1\n",
      "5\n",
      "6\n",
      "6\n",
      "89\n",
      "88\n"
     ]
    }
   ],
   "source": [
    "mylist = [1,5,6,6,89,88]\n",
    "for i in range (len(mylist)):\n",
    "    print(mylist[i])"
   ]
  },
  {
   "cell_type": "markdown",
   "id": "fb70ffff-3a09-403f-bf00-ea34d49db80c",
   "metadata": {},
   "source": [
    "# Sort"
   ]
  },
  {
   "cell_type": "code",
   "execution_count": 9,
   "id": "24e04aab-07de-4754-9d18-c873769f2c9b",
   "metadata": {},
   "outputs": [
    {
     "name": "stdout",
     "output_type": "stream",
     "text": [
      "['banana', 'kiwi', 'mango', 'orange', 'pineapple']\n"
     ]
    }
   ],
   "source": [
    "mylist = [\"orange\", \"mango\", \"kiwi\", \"pineapple\", \"banana\"]\n",
    "mylist.sort()\n",
    "print(mylist)"
   ]
  },
  {
   "cell_type": "code",
   "execution_count": 10,
   "id": "ecd44600-7d2b-4748-a079-86bdbc697472",
   "metadata": {},
   "outputs": [
    {
     "name": "stdout",
     "output_type": "stream",
     "text": [
      "[23, 50, 65, 82, 100]\n"
     ]
    }
   ],
   "source": [
    "mylist = [100, 50, 65, 82, 23]\n",
    "mylist.sort()\n",
    "print(mylist)"
   ]
  },
  {
   "cell_type": "code",
   "execution_count": 11,
   "id": "8bdf7d69-7a59-4463-b5b9-f8b9210c39c4",
   "metadata": {},
   "outputs": [
    {
     "name": "stdout",
     "output_type": "stream",
     "text": [
      "['pineapple', 'orange', 'mango', 'kiwi', 'banana']\n"
     ]
    }
   ],
   "source": [
    "mylist = [\"orange\", \"mango\", \"kiwi\", \"pineapple\", \"banana\"]\n",
    "mylist.sort(reverse = True)\n",
    "print(mylist)"
   ]
  },
  {
   "cell_type": "code",
   "execution_count": 12,
   "id": "50e1d4d0-b0c5-48b4-baea-f4223a84dc34",
   "metadata": {},
   "outputs": [
    {
     "name": "stdout",
     "output_type": "stream",
     "text": [
      "[100, 82, 65, 50, 23]\n"
     ]
    }
   ],
   "source": [
    "mylist = [100, 50, 65, 82, 23]\n",
    "mylist.sort(reverse=True)\n",
    "print(mylist)"
   ]
  },
  {
   "cell_type": "code",
   "execution_count": 13,
   "id": "3646e2bb-f56c-4b26-978e-23e964eea957",
   "metadata": {},
   "outputs": [],
   "source": [
    "# Copy\n"
   ]
  },
  {
   "cell_type": "code",
   "execution_count": 14,
   "id": "c97c6617-98f0-4c48-9842-7e39a0c6c9ab",
   "metadata": {},
   "outputs": [
    {
     "name": "stdout",
     "output_type": "stream",
     "text": [
      "['apple', 'banana', 'cherry']\n"
     ]
    }
   ],
   "source": [
    "mylist = [\"apple\", \"banana\", \"cherry\"]\n",
    "copylist = mylist.copy()\n",
    "print(copylist)"
   ]
  },
  {
   "cell_type": "code",
   "execution_count": 15,
   "id": "e3204974-5aa3-4fde-91ed-aaabe300ed6f",
   "metadata": {},
   "outputs": [
    {
     "name": "stdout",
     "output_type": "stream",
     "text": [
      "[100, 50, 65, 82, 23]\n"
     ]
    }
   ],
   "source": [
    "mylist = [100, 50, 65, 82, 23]\n",
    "k=mylist.copy()\n",
    "print(k)"
   ]
  },
  {
   "cell_type": "code",
   "execution_count": 16,
   "id": "cc365049-ca4f-433b-a76b-6418fe4a6ff8",
   "metadata": {},
   "outputs": [
    {
     "name": "stdout",
     "output_type": "stream",
     "text": [
      "[100, 50, 65, 82, 23]\n"
     ]
    }
   ],
   "source": [
    "mylist = [100, 50, 65, 82, 23]\n",
    "mylist.copy()\n",
    "print(k)"
   ]
  },
  {
   "cell_type": "markdown",
   "id": "694c1188-8ee2-4d77-8677-8ee15dfd9694",
   "metadata": {},
   "source": [
    "# ADD "
   ]
  },
  {
   "cell_type": "code",
   "execution_count": 20,
   "id": "e7cf4895-485e-464e-b4f6-856cb84544c9",
   "metadata": {},
   "outputs": [
    {
     "name": "stdout",
     "output_type": "stream",
     "text": [
      "['k', 'l', 'm', 2, 8, 5]\n"
     ]
    }
   ],
   "source": [
    "list1 = [\"k\", \"l\", \"m\"]\n",
    "list2 = [2, 8, 5]\n",
    "\n",
    "list3 = list1 + list2\n",
    "print(list3)"
   ]
  },
  {
   "cell_type": "code",
   "execution_count": 21,
   "id": "8c6dbc1b-ddfd-4562-b1ea-1f7b9f31705b",
   "metadata": {},
   "outputs": [
    {
     "name": "stdout",
     "output_type": "stream",
     "text": [
      "[1, 2, 3, 4, 5, 6, 6, 7, 8, 9, 0]\n"
     ]
    }
   ],
   "source": [
    "l1=[1,2,3,4,5,6]\n",
    "l2=[6,7,8,9,0]\n",
    "print(l1+l2)"
   ]
  },
  {
   "cell_type": "code",
   "execution_count": 19,
   "id": "01f983d0-3f62-46a5-b9b3-779869058b9c",
   "metadata": {},
   "outputs": [
    {
     "data": {
      "text/plain": [
       "['a', 'b', 'c', 'd']"
      ]
     },
     "execution_count": 19,
     "metadata": {},
     "output_type": "execute_result"
    }
   ],
   "source": [
    "list1 = [\"a\", \"b\", \"c\",\"d\"]\n",
    "list2=[]\n",
    "for i in list1:\n",
    "    list2.append(i)\n",
    "list2"
   ]
  },
  {
   "cell_type": "markdown",
   "id": "8804c6f1-e922-4ecd-bf8f-a79644dfe238",
   "metadata": {},
   "source": [
    "# Exercise"
   ]
  },
  {
   "cell_type": "code",
   "execution_count": 28,
   "id": "9651caff-182d-4c3e-a4e8-1ce2d49c9e4c",
   "metadata": {},
   "outputs": [
    {
     "name": "stdout",
     "output_type": "stream",
     "text": [
      "[1, 22, 3, 44, 55, 6, 4, 1200]\n"
     ]
    }
   ],
   "source": [
    "l=[1,22,3,44,55,6,11,1200]\n",
    "l[6:7]=[4]\n",
    "print(l)"
   ]
  },
  {
   "cell_type": "code",
   "execution_count": 29,
   "id": "40f1c8d0-31d5-4e33-84b5-156f124ac9bc",
   "metadata": {},
   "outputs": [
    {
     "name": "stdout",
     "output_type": "stream",
     "text": [
      "[1, 22, 3, 55, 6, 11, 1200]\n"
     ]
    }
   ],
   "source": [
    "l=[1,22,3,44,55,6,11,1200]\n",
    "l.remove(44)\n",
    "print(l)"
   ]
  },
  {
   "cell_type": "code",
   "execution_count": 30,
   "id": "284519b6-c9d8-4905-8c86-a114b15b1833",
   "metadata": {},
   "outputs": [
    {
     "name": "stdout",
     "output_type": "stream",
     "text": [
      "[1, 22, 3, 44, 55, 6, 11, 1200, 88]\n"
     ]
    }
   ],
   "source": [
    "l=[1,22,3,44,55,6,11,1200]\n",
    "l.append(88)\n",
    "print(l)"
   ]
  },
  {
   "cell_type": "code",
   "execution_count": 31,
   "id": "469b047a-898c-40e3-bfe6-7f440e016706",
   "metadata": {},
   "outputs": [
    {
     "name": "stdout",
     "output_type": "stream",
     "text": [
      "[1, 22, 44, 55, 6, 11, 1200]\n"
     ]
    }
   ],
   "source": [
    "l=[1,22,3,44,55,6,11,1200]\n",
    "l.pop(2)\n",
    "print(l)"
   ]
  },
  {
   "cell_type": "code",
   "execution_count": 32,
   "id": "494b55fb-2268-4c79-be6a-aab07731348c",
   "metadata": {},
   "outputs": [
    {
     "name": "stdout",
     "output_type": "stream",
     "text": [
      "[1, 22, 3, 44, 55, 6, 11, 1200, 1, 2, 3, 546]\n"
     ]
    }
   ],
   "source": [
    "l=[1,22,3,44,55,6,11,1200]\n",
    "m=[1,2,3,546]\n",
    "l.extend(m)\n",
    "print(l)"
   ]
  },
  {
   "cell_type": "code",
   "execution_count": 1,
   "id": "c72671ba-4925-4bed-a6bd-07db17475e39",
   "metadata": {},
   "outputs": [
    {
     "name": "stdout",
     "output_type": "stream",
     "text": [
      "Hellowpythonorld\n"
     ]
    }
   ],
   "source": [
    "s=\"Helloworld\"\n",
    "k=s[:6]+\"python\"+s[6:]\n",
    "print(k)\n"
   ]
  },
  {
   "cell_type": "code",
   "execution_count": 48,
   "id": "9f842996-34c7-4e8b-add4-21c566227bc6",
   "metadata": {},
   "outputs": [
    {
     "name": "stdout",
     "output_type": "stream",
     "text": [
      "Hello\n"
     ]
    }
   ],
   "source": [
    "s=\"Helloworld\"\n",
    "print(s[0:5])\n"
   ]
  },
  {
   "cell_type": "code",
   "execution_count": 53,
   "id": "22127e9d-95dc-426a-8ae0-6889cbe0f7a7",
   "metadata": {},
   "outputs": [
    {
     "name": "stdout",
     "output_type": "stream",
     "text": [
      "Hello\n"
     ]
    }
   ],
   "source": [
    "s=\"Helloworld\"\n",
    "s=s.replace(\"world\",\"\")\n",
    "print(s)\n"
   ]
  },
  {
   "cell_type": "code",
   "execution_count": 59,
   "id": "18487872-76ca-446b-8459-c02c71ae9a43",
   "metadata": {},
   "outputs": [
    {
     "name": "stdout",
     "output_type": "stream",
     "text": [
      "Helloworld 2024\n"
     ]
    }
   ],
   "source": [
    "s=\"Helloworld\"\n",
    "s=s+\" \"+\"2024\"\n",
    "print(s)"
   ]
  },
  {
   "cell_type": "code",
   "execution_count": 4,
   "id": "58bf8a3c-c94b-422d-b470-d2df0a869d94",
   "metadata": {},
   "outputs": [
    {
     "name": "stdout",
     "output_type": "stream",
     "text": [
      "Heloworld\n"
     ]
    }
   ],
   "source": [
    "s=\"Helloworld\"\n",
    "s=s[:2]+s[3:]\n",
    "print(s)"
   ]
  },
  {
   "cell_type": "code",
   "execution_count": 64,
   "id": "b51053e8-fd3e-43e5-9d99-8549e9a6f229",
   "metadata": {},
   "outputs": [
    {
     "name": "stdout",
     "output_type": "stream",
     "text": [
      "Helloworld programming\n"
     ]
    }
   ],
   "source": [
    "s=\"Helloworld\"\n",
    "t=\"programming\"\n",
    "s=s+\" \"+t\n",
    "print(s)"
   ]
  },
  {
   "cell_type": "code",
   "execution_count": 72,
   "id": "b4f93aaf-ca29-4552-b48d-bbe8f28aa574",
   "metadata": {},
   "outputs": [
    {
     "name": "stdout",
     "output_type": "stream",
     "text": [
      "Hello world\n"
     ]
    }
   ],
   "source": [
    "k=\"Hello World\"\n",
    "print(k.capitalize())\n"
   ]
  },
  {
   "cell_type": "code",
   "execution_count": 8,
   "id": "f4c291a5-419e-4dcf-8342-7ed789fbc9b5",
   "metadata": {},
   "outputs": [
    {
     "name": "stdout",
     "output_type": "stream",
     "text": [
      "hELLO wORLD\n"
     ]
    }
   ],
   "source": [
    "k=\"Hello World\"\n",
    "print(k.swapcase())"
   ]
  },
  {
   "cell_type": "code",
   "execution_count": 7,
   "id": "9be4de7e-630c-4d65-9646-faa6d8655329",
   "metadata": {},
   "outputs": [
    {
     "name": "stdout",
     "output_type": "stream",
     "text": [
      "Palindrome\n"
     ]
    }
   ],
   "source": [
    "k=\"madam\"\n",
    "if k==k[::-1]:\n",
    "    print(\"Palindrome\")\n",
    "else:\n",
    "    print(\"not palindrome\")\n",
    "  "
   ]
  },
  {
   "cell_type": "code",
   "execution_count": null,
   "id": "22c8ca49-2e0e-4106-868f-ae3a3425e7d5",
   "metadata": {},
   "outputs": [],
   "source": []
  }
 ],
 "metadata": {
  "kernelspec": {
   "display_name": "Python 3 (ipykernel)",
   "language": "python",
   "name": "python3"
  },
  "language_info": {
   "codemirror_mode": {
    "name": "ipython",
    "version": 3
   },
   "file_extension": ".py",
   "mimetype": "text/x-python",
   "name": "python",
   "nbconvert_exporter": "python",
   "pygments_lexer": "ipython3",
   "version": "3.12.7"
  }
 },
 "nbformat": 4,
 "nbformat_minor": 5
}
