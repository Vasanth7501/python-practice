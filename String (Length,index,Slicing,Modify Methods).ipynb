{
 "cells": [
  {
   "cell_type": "markdown",
   "id": "1550915f-ab38-4b4d-a582-09d881f35276",
   "metadata": {},
   "source": [
    "# --------string-------"
   ]
  },
  {
   "cell_type": "markdown",
   "id": "277ee371-c180-43aa-9db1-12101aa28f7e",
   "metadata": {},
   "source": [
    "# ------single line string--- using \"------\" ---------"
   ]
  },
  {
   "cell_type": "code",
   "execution_count": 2,
   "id": "153a0e80-fa27-4999-9673-43c021f519aa",
   "metadata": {},
   "outputs": [
    {
     "name": "stdout",
     "output_type": "stream",
     "text": [
      "hello world\n"
     ]
    }
   ],
   "source": [
    "k=\"hello world\"\n",
    "print(k)"
   ]
  },
  {
   "cell_type": "markdown",
   "id": "f17bf8e6-6b1f-4709-a7f5-255e8a2ac686",
   "metadata": {},
   "source": [
    "\n",
    "# ---------multiline string -------using \"\"\"---------\"\"\" -----------"
   ]
  },
  {
   "cell_type": "code",
   "execution_count": 3,
   "id": "9570d463-ca4f-4a2f-822b-8a30fa5cc958",
   "metadata": {},
   "outputs": [
    {
     "name": "stdout",
     "output_type": "stream",
     "text": [
      "Late at night, Emma found an old, \n",
      "    dusty key hidden under a loose floorboard.\n",
      "    Curiosity led her to the attic, \n",
      "    where she discovered a locked chest that seemed to hum with energy. \n",
      "    As she turned the key, the chest creaked open, \n",
      "    revealing a portal to a world she never imagined\n"
     ]
    }
   ],
   "source": [
    "k= \"\"\"Late at night, Emma found an old, \n",
    "    dusty key hidden under a loose floorboard.\n",
    "    Curiosity led her to the attic, \n",
    "    where she discovered a locked chest that seemed to hum with energy. \n",
    "    As she turned the key, the chest creaked open, \n",
    "    revealing a portal to a world she never imagined\"\"\"\n",
    "print(k)"
   ]
  },
  {
   "cell_type": "markdown",
   "id": "242db73e-7fcb-413a-8f22-41995483d5c5",
   "metadata": {},
   "source": [
    "# ----------string length -----"
   ]
  },
  {
   "cell_type": "code",
   "execution_count": 7,
   "id": "acd1a0b1-66f1-4a0f-b41d-26d2ba38270b",
   "metadata": {},
   "outputs": [
    {
     "name": "stdout",
     "output_type": "stream",
     "text": [
      "5\n"
     ]
    }
   ],
   "source": [
    "l=\"hello\"\n",
    "print(len(l))"
   ]
  },
  {
   "cell_type": "code",
   "execution_count": 8,
   "id": "f1fba620-c517-41b3-b2e9-3de21bcd8ff0",
   "metadata": {},
   "outputs": [
    {
     "name": "stdout",
     "output_type": "stream",
     "text": [
      "11\n"
     ]
    }
   ],
   "source": [
    "w=\"78946123579\"\n",
    "print(len(w))"
   ]
  },
  {
   "cell_type": "code",
   "execution_count": 9,
   "id": "faddec20-8258-4750-8d72-e3afd325a815",
   "metadata": {},
   "outputs": [
    {
     "name": "stdout",
     "output_type": "stream",
     "text": [
      "15\n"
     ]
    }
   ],
   "source": [
    "f=\"print_78922 123\"\n",
    "print(len(f))"
   ]
  },
  {
   "cell_type": "markdown",
   "id": "e3ca4fb0-0185-4bab-b96a-a36d0eb0358f",
   "metadata": {},
   "source": [
    "# ----------string indexing ---- give position of the value return the value"
   ]
  },
  {
   "cell_type": "code",
   "execution_count": 10,
   "id": "fa658847-54b8-4dbd-8418-bc5ac7ce71e2",
   "metadata": {},
   "outputs": [
    {
     "name": "stdout",
     "output_type": "stream",
     "text": [
      "A\n"
     ]
    }
   ],
   "source": [
    "x=\"Data Analyst\"\n",
    "print(x[5])"
   ]
  },
  {
   "cell_type": "code",
   "execution_count": 11,
   "id": "1d7c5160-868c-45f0-8727-6c94c146f674",
   "metadata": {},
   "outputs": [
    {
     "name": "stdout",
     "output_type": "stream",
     "text": [
      "D\n"
     ]
    }
   ],
   "source": [
    "x=\"Data Analyst\"\n",
    "print(x[0])"
   ]
  },
  {
   "cell_type": "code",
   "execution_count": 21,
   "id": "339a497d-420e-46b5-a8a7-23fc1dd5c4cc",
   "metadata": {},
   "outputs": [
    {
     "name": "stdout",
     "output_type": "stream",
     "text": [
      "5\n"
     ]
    }
   ],
   "source": [
    "y=\"python_7895423\"\n",
    "print(y[10])"
   ]
  },
  {
   "cell_type": "code",
   "execution_count": 22,
   "id": "358f2521-30eb-4e8a-9237-63ae7f4d7604",
   "metadata": {},
   "outputs": [
    {
     "name": "stdout",
     "output_type": "stream",
     "text": [
      "8\n"
     ]
    }
   ],
   "source": [
    "g=\"789456\"\n",
    "print(g[1])\n"
   ]
  },
  {
   "cell_type": "markdown",
   "id": "a7bbf46c-92da-4a8c-bb0f-8824d75b178d",
   "metadata": {},
   "source": [
    "# --------string slicing----- You can return a range of characters by using the slice syntax. Specify the start index and the end index, separated by a colon, to return a part of the string."
   ]
  },
  {
   "cell_type": "code",
   "execution_count": 35,
   "id": "6a6195fc-9e03-44ee-b514-26c4ae443f26",
   "metadata": {},
   "outputs": [
    {
     "name": "stdout",
     "output_type": "stream",
     "text": [
      "ogi\n"
     ]
    }
   ],
   "source": [
    "k=\"Besant technologies\"\n",
    "print(k[-5:-2])"
   ]
  },
  {
   "cell_type": "code",
   "execution_count": 34,
   "id": "1e627674-0bae-4770-ab3a-6f73c42e907b",
   "metadata": {},
   "outputs": [
    {
     "name": "stdout",
     "output_type": "stream",
     "text": [
      "Besant technologies\n"
     ]
    }
   ],
   "source": [
    "k=\"Besant technologies\"\n",
    "print(k[0:])"
   ]
  },
  {
   "cell_type": "code",
   "execution_count": 33,
   "id": "117ed747-2f5c-4613-b8f0-5f52248494b6",
   "metadata": {},
   "outputs": [
    {
     "name": "stdout",
     "output_type": "stream",
     "text": [
      "Besant technologies\n"
     ]
    }
   ],
   "source": [
    "k=\"Besant technologies\"\n",
    "print(k[:])"
   ]
  },
  {
   "cell_type": "code",
   "execution_count": 32,
   "id": "4c20629b-3245-45ab-b8c4-477d84ec7f4d",
   "metadata": {},
   "outputs": [
    {
     "name": "stdout",
     "output_type": "stream",
     "text": [
      "Besant t\n"
     ]
    }
   ],
   "source": [
    "k=\"Besant technologies\"\n",
    "print(k[0:8])"
   ]
  },
  {
   "cell_type": "code",
   "execution_count": 31,
   "id": "0c2a0cff-c07d-4b6a-8494-5b2921d3befd",
   "metadata": {},
   "outputs": [
    {
     "name": "stdout",
     "output_type": "stream",
     "text": [
      " tec\n"
     ]
    }
   ],
   "source": [
    "k=\"Besant technologies\"\n",
    "print(k[-13:-9])"
   ]
  },
  {
   "cell_type": "code",
   "execution_count": 30,
   "id": "2034cdd0-21e5-4c9d-a0ec-835a309a71aa",
   "metadata": {},
   "outputs": [
    {
     "name": "stdout",
     "output_type": "stream",
     "text": [
      "t technologie\n"
     ]
    }
   ],
   "source": [
    "k=\"Besant technologies\"\n",
    "print(k[5:-1])"
   ]
  },
  {
   "cell_type": "markdown",
   "id": "abd11b5c-163a-4ca8-a891-94427c8093f8",
   "metadata": {},
   "source": [
    "# -----string modify methods------"
   ]
  },
  {
   "cell_type": "markdown",
   "id": "cfd4295d-93e0-4c50-b999-4883cb430da3",
   "metadata": {},
   "source": [
    "# ----uppper()----change string letters upppercase (only letters)-----"
   ]
  },
  {
   "cell_type": "code",
   "execution_count": 37,
   "id": "53256058-770d-4e2e-a555-d9dc70da6865",
   "metadata": {},
   "outputs": [
    {
     "name": "stdout",
     "output_type": "stream",
     "text": [
      "VASANTH\n"
     ]
    }
   ],
   "source": [
    "x=\"vasanth\"\n",
    "print(x.upper())"
   ]
  },
  {
   "cell_type": "code",
   "execution_count": 40,
   "id": "3562fc13-a30e-42ff-8830-a2c52d279fa3",
   "metadata": {},
   "outputs": [
    {
     "name": "stdout",
     "output_type": "stream",
     "text": [
      "BESANT 7852\n"
     ]
    }
   ],
   "source": [
    "y=\"Besant 7852\"\n",
    "print(y.upper())"
   ]
  },
  {
   "cell_type": "code",
   "execution_count": 41,
   "id": "f28053a3-8f51-4f1e-8314-f601a0c811e9",
   "metadata": {},
   "outputs": [
    {
     "name": "stdout",
     "output_type": "stream",
     "text": [
      "----- VASANTH\n"
     ]
    }
   ],
   "source": [
    "z=\"----- vasanth\"\n",
    "print(z.upper())"
   ]
  },
  {
   "cell_type": "markdown",
   "id": "1da12b66-ef9b-4a5f-8296-38e1ebff3dcb",
   "metadata": {},
   "source": [
    "#  ------isupper()------string value letter is smalller the result is TRUE---"
   ]
  },
  {
   "cell_type": "code",
   "execution_count": 51,
   "id": "d2b58c0a-3532-447b-9505-cd3684ce85b7",
   "metadata": {},
   "outputs": [
    {
     "name": "stdout",
     "output_type": "stream",
     "text": [
      "True\n"
     ]
    }
   ],
   "source": [
    "x=\"BESANT\"\n",
    "print(x.isupper())"
   ]
  },
  {
   "cell_type": "markdown",
   "id": "a0be3c0a-c427-4b01-aa22-63c1be70be23",
   "metadata": {},
   "source": [
    "#  ------lower()------change string letters lowercase (only letters)----"
   ]
  },
  {
   "cell_type": "code",
   "execution_count": 43,
   "id": "bb65d789-7604-4266-b11e-e8865d200d82",
   "metadata": {},
   "outputs": [
    {
     "name": "stdout",
     "output_type": "stream",
     "text": [
      "vasanth\n"
     ]
    }
   ],
   "source": [
    "x=\"VASANTH\"\n",
    "print(x.lower())"
   ]
  },
  {
   "cell_type": "code",
   "execution_count": 44,
   "id": "a8fa17da-0c9e-4927-8930-dff17172ab4d",
   "metadata": {},
   "outputs": [
    {
     "name": "stdout",
     "output_type": "stream",
     "text": [
      "besant 785\n"
     ]
    }
   ],
   "source": [
    "y=\"besaNT 785\"\n",
    "print(y.lower())"
   ]
  },
  {
   "cell_type": "code",
   "execution_count": 45,
   "id": "a165d482-bd3b-412a-9378-6c84fdc60cad",
   "metadata": {},
   "outputs": [
    {
     "name": "stdout",
     "output_type": "stream",
     "text": [
      "----kalam[]\n"
     ]
    }
   ],
   "source": [
    "z=\"----KALAM[]\"\n",
    "print(z.lower())"
   ]
  },
  {
   "cell_type": "markdown",
   "id": "0f7f4738-cd76-4d46-af60-0f58ffc0053c",
   "metadata": {},
   "source": [
    "# -----islower()------string value letter is smalller the result is TRUE----"
   ]
  },
  {
   "cell_type": "code",
   "execution_count": 1,
   "id": "be4a001e-3463-4c62-9c36-cf885c65afb3",
   "metadata": {},
   "outputs": [
    {
     "name": "stdout",
     "output_type": "stream",
     "text": [
      "True\n"
     ]
    }
   ],
   "source": [
    "x=\"vasanth\"\n",
    "print(x.islower())"
   ]
  },
  {
   "cell_type": "markdown",
   "id": "abff730d-61c6-43bb-a9a4-3222fb1ca5c1",
   "metadata": {},
   "source": [
    "# ------capitalize()----each first letter as upppercase-"
   ]
  },
  {
   "cell_type": "code",
   "execution_count": 54,
   "id": "a732cdc9-775c-4caa-9b48-e5568a63b4de",
   "metadata": {},
   "outputs": [
    {
     "name": "stdout",
     "output_type": "stream",
     "text": [
      "Besant is software training insitution\n"
     ]
    }
   ],
   "source": [
    "x=\"besant is software training insitution\"\n",
    "print(x.capitalize())"
   ]
  },
  {
   "cell_type": "markdown",
   "id": "d048cb9c-d399-44a4-83bc-ef0c05b6670d",
   "metadata": {},
   "source": [
    "# --------strip()----trim the emplty space starting and ending empty spaces----"
   ]
  },
  {
   "cell_type": "code",
   "execution_count": 57,
   "id": "a1dddad2-a96f-4d3d-8646-fa619c737225",
   "metadata": {},
   "outputs": [
    {
     "name": "stdout",
     "output_type": "stream",
     "text": [
      "besant is software training insitution\n"
     ]
    }
   ],
   "source": [
    "k=\"   besant is software training insitution  \"\n",
    "print(k.strip())"
   ]
  },
  {
   "cell_type": "code",
   "execution_count": 66,
   "id": "23e2ff9a-bffb-44c7-9f98-8fc20ed92c23",
   "metadata": {},
   "outputs": [
    {
     "name": "stdout",
     "output_type": "stream",
     "text": [
      "vasanth\n"
     ]
    }
   ],
   "source": [
    "x=\"vasanth             \"\n",
    "print(x.strip())"
   ]
  },
  {
   "cell_type": "code",
   "execution_count": 70,
   "id": "7240dbdc-984d-4d7e-85de-a0d868f9d1bc",
   "metadata": {},
   "outputs": [
    {
     "name": "stdout",
     "output_type": "stream",
     "text": [
      "789456123\n"
     ]
    }
   ],
   "source": [
    "y=\"    789456123    \"\n",
    "print(y.strip())"
   ]
  },
  {
   "cell_type": "markdown",
   "id": "27dbfd5c-80cd-4dd9-bf35-32d496a780c5",
   "metadata": {},
   "source": [
    "# --------lstrip()---- remove empty space from left side----"
   ]
  },
  {
   "cell_type": "code",
   "execution_count": 67,
   "id": "b240b191-5fbd-4ca6-a18f-ff0a3e536510",
   "metadata": {},
   "outputs": [
    {
     "name": "stdout",
     "output_type": "stream",
     "text": [
      "besant is software training insitution  \n"
     ]
    }
   ],
   "source": [
    "x=\"   besant is software training insitution  \"\n",
    "print(x.lstrip())"
   ]
  },
  {
   "cell_type": "markdown",
   "id": "1c355d2a-02a3-4b62-9ff9-d3f2d7648844",
   "metadata": {},
   "source": [
    "# --------rstrip()---- remove empty space from right side----"
   ]
  },
  {
   "cell_type": "code",
   "execution_count": 68,
   "id": "f5b4191a-c82b-4702-be36-6adc2c7e2eb6",
   "metadata": {},
   "outputs": [
    {
     "name": "stdout",
     "output_type": "stream",
     "text": [
      "   besant is software training insitution\n"
     ]
    }
   ],
   "source": [
    "x=\"   besant is software training insitution  \"\n",
    "print(x.rstrip())"
   ]
  },
  {
   "cell_type": "markdown",
   "id": "1af2c097-3a7f-492f-928d-460353c9b2fc",
   "metadata": {},
   "source": [
    "# -----------split()-----Splits the string at the specified separator, and returns a list----or rstrip() use same value return---"
   ]
  },
  {
   "cell_type": "code",
   "execution_count": 72,
   "id": "d857420b-cfff-4b07-ad1a-53f27f90a6ad",
   "metadata": {},
   "outputs": [
    {
     "name": "stdout",
     "output_type": "stream",
     "text": [
      "['hello,', 'world']\n"
     ]
    }
   ],
   "source": [
    "x=\"hello, world\"\n",
    "print(x.split())"
   ]
  },
  {
   "cell_type": "code",
   "execution_count": 77,
   "id": "de72b9e2-2566-49ef-92cb-51bafcab5248",
   "metadata": {},
   "outputs": [
    {
     "name": "stdout",
     "output_type": "stream",
     "text": [
      "['hello', ' world']\n"
     ]
    }
   ],
   "source": [
    "y=\"hello, world\"\n",
    "print(y.split(\",\"))"
   ]
  },
  {
   "cell_type": "code",
   "execution_count": 81,
   "id": "39d1bbf8-0f1e-4eac-adfd-3dc461f4fa97",
   "metadata": {},
   "outputs": [
    {
     "name": "stdout",
     "output_type": "stream",
     "text": [
      "['hello', ', world how are you']\n"
     ]
    }
   ],
   "source": [
    "y=\"hello!, world how are you\"\n",
    "print(y.rsplit(\"!\"))"
   ]
  },
  {
   "cell_type": "code",
   "execution_count": 82,
   "id": "4f4a90a9-4b08-443a-94cb-32042c68909c",
   "metadata": {},
   "outputs": [
    {
     "name": "stdout",
     "output_type": "stream",
     "text": [
      "h\n",
      "how\n"
     ]
    }
   ],
   "source": [
    "x=\"how  are you?\"\n",
    "print(x[0])\n",
    "y=x.split()\n",
    "print(y[0])"
   ]
  },
  {
   "cell_type": "code",
   "execution_count": 85,
   "id": "7bb449f6-10db-451f-96e4-b7f7775911e3",
   "metadata": {},
   "outputs": [
    {
     "name": "stdout",
     "output_type": "stream",
     "text": [
      "h\n",
      "are\n"
     ]
    }
   ],
   "source": [
    "x=\"how  are you?\"\n",
    "print(x[0])\n",
    "y=x.split()\n",
    "print(y[1])"
   ]
  },
  {
   "cell_type": "code",
   "execution_count": 86,
   "id": "bc9e46af-108f-490a-80a3-fe71bd3cd748",
   "metadata": {},
   "outputs": [
    {
     "name": "stdout",
     "output_type": "stream",
     "text": [
      "h\n",
      "you?\n"
     ]
    }
   ],
   "source": [
    "x=\"how  are you?\"\n",
    "print(x[0])\n",
    "y=x.split()\n",
    "print(y[2])"
   ]
  },
  {
   "cell_type": "markdown",
   "id": "937be60b-57c5-43ff-96c5-dea08ae92bcb",
   "metadata": {},
   "source": [
    "# -------format-----k=f\"I am {x} from {y}.\" sample one-----"
   ]
  },
  {
   "cell_type": "code",
   "execution_count": 83,
   "id": "8219a047-089d-4d7a-8e77-12fd1d947f4e",
   "metadata": {},
   "outputs": [
    {
     "name": "stdin",
     "output_type": "stream",
     "text": [
      "Enter your first name: vasanth\n",
      "Enter your place: chennai\n"
     ]
    },
    {
     "name": "stdout",
     "output_type": "stream",
     "text": [
      "I am vasanth from chennai.\n"
     ]
    }
   ],
   "source": [
    "x=input(\"Enter your first name:\")\n",
    "y=input(\"Enter your place:\")\n",
    "k=f\"I am {x} from {y}.\"\n",
    "print(k)\n"
   ]
  },
  {
   "cell_type": "markdown",
   "id": "d3fca4ab-0717-40bc-9879-494755b13f6b",
   "metadata": {},
   "source": [
    "# ------replace()----- Returns a string where a specified value is replaced with a specified value-----"
   ]
  },
  {
   "cell_type": "code",
   "execution_count": 84,
   "id": "f3a9f3be-4f64-4962-b276-1789ee503fe6",
   "metadata": {},
   "outputs": [
    {
     "name": "stdout",
     "output_type": "stream",
     "text": [
      "hi how are you\n",
      "['hi', 'how', 'are', 'you']\n",
      "hi\n",
      "Hello how are you\n"
     ]
    }
   ],
   "source": [
    "k=\"hi how are you\"\n",
    "print(k)\n",
    "print(k.split())\n",
    "y=k.split()\n",
    "print(y[0])\n",
    "print(k.replace(\"hi\",\"Hello\"))"
   ]
  },
  {
   "cell_type": "code",
   "execution_count": 88,
   "id": "cfd74a60-f05b-439b-80ea-f471fe43537b",
   "metadata": {},
   "outputs": [
    {
     "name": "stdout",
     "output_type": "stream",
     "text": [
      "how to remove values\n"
     ]
    }
   ],
   "source": [
    "k=\"how to connect values\"\n",
    "print(k.replace(\"connect\",\"remove\"))"
   ]
  },
  {
   "cell_type": "code",
   "execution_count": 90,
   "id": "e99f8e5b-d4fd-4263-a257-346cb8051120",
   "metadata": {},
   "outputs": [
    {
     "name": "stdout",
     "output_type": "stream",
     "text": [
      "78 85 96 \n"
     ]
    }
   ],
   "source": [
    "k=\"78 58 96 \"\n",
    "l=k.replace(\"58\",\"85\")\n",
    "print(l)"
   ]
  },
  {
   "cell_type": "markdown",
   "id": "cbacf40a-f967-4dbc-a38d-58546361e809",
   "metadata": {},
   "source": [
    "#  ------casefold()-----Converts string into lower case---- german letters changes ss---"
   ]
  },
  {
   "cell_type": "code",
   "execution_count": 93,
   "id": "24b131c2-2275-4b98-a86b-75ded0ab8e6e",
   "metadata": {},
   "outputs": [
    {
     "name": "stdout",
     "output_type": "stream",
     "text": [
      "besant technologies insititute\n"
     ]
    }
   ],
   "source": [
    "v=\"BESANT TECHNOLOGIES INSITITUTE\"\n",
    "print(v.casefold())"
   ]
  },
  {
   "cell_type": "code",
   "execution_count": 95,
   "id": "d260a611-f5e7-4479-b01d-21fecb10fe9c",
   "metadata": {},
   "outputs": [
    {
     "name": "stdout",
     "output_type": "stream",
     "text": [
      "vasanth\n"
     ]
    }
   ],
   "source": [
    "N=\"VASANTH\"\n",
    "print(N.casefold())"
   ]
  },
  {
   "cell_type": "code",
   "execution_count": 96,
   "id": "5d112f5d-28ee-436e-98d3-22294ee01cbd",
   "metadata": {},
   "outputs": [
    {
     "name": "stdout",
     "output_type": "stream",
     "text": [
      "stress\n"
     ]
    }
   ],
   "source": [
    "k=\"streß\"\n",
    "print(k.casefold())"
   ]
  },
  {
   "cell_type": "markdown",
   "id": "6d2dc5f5-ccb5-4bf8-9cd9-eb023a1dbdc4",
   "metadata": {},
   "source": [
    "# -----center()-----return a centered string--- using padding function---"
   ]
  },
  {
   "cell_type": "code",
   "execution_count": 98,
   "id": "9f69addc-8f2d-4d94-97b8-815246a7e2a2",
   "metadata": {},
   "outputs": [
    {
     "name": "stdout",
     "output_type": "stream",
     "text": [
      "vasanth\n",
      "7\n",
      "7\n"
     ]
    }
   ],
   "source": [
    "k=\"vasanth\"\n",
    "l=k.center(7)\n",
    "print(k)\n",
    "print(len(k))\n",
    "print(len(l))"
   ]
  },
  {
   "cell_type": "code",
   "execution_count": 107,
   "id": "428b953f-c121-4551-9302-3ec7c763d997",
   "metadata": {},
   "outputs": [
    {
     "name": "stdout",
     "output_type": "stream",
     "text": [
      "----vasanth----\n"
     ]
    }
   ],
   "source": [
    "y=\"vasanth\"\n",
    "print(y.center(15,\"-\"))"
   ]
  },
  {
   "cell_type": "code",
   "execution_count": 108,
   "id": "cd974421-8f48-4676-89d8-66563b7aaa22",
   "metadata": {},
   "outputs": [
    {
     "name": "stdout",
     "output_type": "stream",
     "text": [
      "**********human**********\n"
     ]
    }
   ],
   "source": [
    "x=\"human\"\n",
    "print(x.center(25,\"*\"))"
   ]
  },
  {
   "cell_type": "code",
   "execution_count": 110,
   "id": "b8b4501f-ecf0-417c-90d0-bc78715446ae",
   "metadata": {},
   "outputs": [
    {
     "name": "stdout",
     "output_type": "stream",
     "text": [
      "$$$$$$$$$$$$$$$$$$$$$notebook$$$$$$$$$$$$$$$$$$$$$\n"
     ]
    }
   ],
   "source": [
    "v=\"notebook\"\n",
    "print(v.center(50,\"$\"))"
   ]
  },
  {
   "cell_type": "markdown",
   "id": "8346dfe8-7df2-47a3-b5de-dc0bb2b0c522",
   "metadata": {},
   "source": [
    "# -----count()------Returns the number of times a specified value occurs in a string"
   ]
  },
  {
   "cell_type": "code",
   "execution_count": 112,
   "id": "41ed5b28-51d3-4804-a069-0f65f8e7cee8",
   "metadata": {},
   "outputs": [
    {
     "name": "stdout",
     "output_type": "stream",
     "text": [
      "2\n"
     ]
    }
   ],
   "source": [
    "x=\"hello how are you fine and works how is going\"\n",
    "print(x.count(\"how\"))"
   ]
  },
  {
   "cell_type": "code",
   "execution_count": 113,
   "id": "e7714f46-b690-438b-93eb-1e54c072c243",
   "metadata": {},
   "outputs": [
    {
     "name": "stdout",
     "output_type": "stream",
     "text": [
      "3\n"
     ]
    }
   ],
   "source": [
    "x=\"hello how are you fine and works how is going\"\n",
    "print(x.count(\"h\"))"
   ]
  },
  {
   "cell_type": "code",
   "execution_count": 114,
   "id": "f164452c-8a7d-4071-bb80-cfca05cd8147",
   "metadata": {},
   "outputs": [
    {
     "name": "stdout",
     "output_type": "stream",
     "text": [
      "3\n"
     ]
    }
   ],
   "source": [
    "x=\"1234567899874563211235697\"\n",
    "print(x.count(\"9\"))"
   ]
  },
  {
   "cell_type": "markdown",
   "id": "7f81317e-a3e1-4d79-abcb-55f0f70fc588",
   "metadata": {},
   "source": [
    "# -------index()----Searches the string for a specified value and returns the position of where it was found------"
   ]
  },
  {
   "cell_type": "code",
   "execution_count": 116,
   "id": "fd4ccf8d-194e-4b57-a077-c721b5597b96",
   "metadata": {},
   "outputs": [
    {
     "name": "stdout",
     "output_type": "stream",
     "text": [
      "6\n"
     ]
    }
   ],
   "source": [
    "k=\"hello world\"\n",
    "y=k.index(\"w\")\n",
    "print(y)"
   ]
  },
  {
   "cell_type": "code",
   "execution_count": 117,
   "id": "22cce3b9-4002-462f-bc84-ff3b2409c311",
   "metadata": {},
   "outputs": [
    {
     "name": "stdout",
     "output_type": "stream",
     "text": [
      "5\n"
     ]
    }
   ],
   "source": [
    "k=\"hello world\"\n",
    "y=k.index(\" \")\n",
    "print(y)"
   ]
  },
  {
   "cell_type": "code",
   "execution_count": 118,
   "id": "dee2cddd-17ba-4fc8-8967-bfb7be0dcc8f",
   "metadata": {},
   "outputs": [
    {
     "name": "stdout",
     "output_type": "stream",
     "text": [
      "8\n"
     ]
    }
   ],
   "source": [
    "k=\"hello world\"\n",
    "y=k.index(\"r\")\n",
    "print(y)"
   ]
  },
  {
   "cell_type": "code",
   "execution_count": 119,
   "id": "c1b6fd5e-99c9-428e-97d4-cc366d722740",
   "metadata": {},
   "outputs": [
    {
     "name": "stdout",
     "output_type": "stream",
     "text": [
      "7\n"
     ]
    }
   ],
   "source": [
    "k=\"789456123\"\n",
    "y=k.index(\"2\")\n",
    "print(y)"
   ]
  },
  {
   "cell_type": "markdown",
   "id": "12aab589-cbf7-4732-83ba-3508d5ae800d",
   "metadata": {},
   "source": [
    "# \"\"\"------startswith()  and endswith()-----Returns true if the string starts with the specified value\n",
    "# ---and Returns true if the string ends with the specified value-------"
   ]
  },
  {
   "cell_type": "code",
   "execution_count": 124,
   "id": "b96feea8-2ba8-4480-9600-1b819b0a2888",
   "metadata": {
    "scrolled": true
   },
   "outputs": [
    {
     "name": "stdout",
     "output_type": "stream",
     "text": [
      "True\n",
      "False\n"
     ]
    }
   ],
   "source": [
    "k=\"hello world\"\n",
    "x=k.startswith(\"h\")\n",
    "y=k.endswith(\"o\")\n",
    "print(x)\n",
    "print(y)"
   ]
  },
  {
   "cell_type": "code",
   "execution_count": 122,
   "id": "85d067a5-a314-46b2-8413-e34152dceaa1",
   "metadata": {},
   "outputs": [
    {
     "name": "stdout",
     "output_type": "stream",
     "text": [
      "True\n"
     ]
    }
   ],
   "source": [
    "h=\"Besant technologies\"\n",
    "print(h.startswith(\"B\"))"
   ]
  },
  {
   "cell_type": "code",
   "execution_count": 123,
   "id": "eae84a33-7185-4ccf-b908-d0575e59979c",
   "metadata": {},
   "outputs": [
    {
     "name": "stdout",
     "output_type": "stream",
     "text": [
      "True\n"
     ]
    }
   ],
   "source": [
    "h=\"Besant technologies\"\n",
    "print(h.endswith(\"s\"))"
   ]
  },
  {
   "cell_type": "markdown",
   "id": "bf895335-b164-498c-90ff-43c0520939d6",
   "metadata": {},
   "source": [
    "#   ------swapcase()-----Swaps cases, lower case becomes upper case and vice versa"
   ]
  },
  {
   "cell_type": "code",
   "execution_count": 125,
   "id": "876bbf2d-e1a2-4eb5-b0a6-dd08ade6d48a",
   "metadata": {},
   "outputs": [
    {
     "name": "stdout",
     "output_type": "stream",
     "text": [
      "besant technologies\n"
     ]
    }
   ],
   "source": [
    "k=\"besant technologies\"\n",
    "y=k.swapcase()\n",
    "print(k)"
   ]
  },
  {
   "cell_type": "code",
   "execution_count": 126,
   "id": "be544ac0-2c17-4aff-aa02-07890161075f",
   "metadata": {},
   "outputs": [
    {
     "name": "stdout",
     "output_type": "stream",
     "text": [
      "BESANT TECHOOGIES\n"
     ]
    }
   ],
   "source": [
    "k=\"BESANT TECHNOLOGIES\"\n",
    "y=k.swapcase()\n",
    "print(k)"
   ]
  },
  {
   "cell_type": "markdown",
   "id": "922d6f35-71be-4288-8217-dddde76c759d",
   "metadata": {},
   "source": [
    "# ------isdecimal()----Returns True if all characters in the string are decimals"
   ]
  },
  {
   "cell_type": "code",
   "execution_count": 128,
   "id": "3fbccb2a-5448-4a96-9bee-57a99b158993",
   "metadata": {},
   "outputs": [
    {
     "name": "stdout",
     "output_type": "stream",
     "text": [
      "True\n"
     ]
    }
   ],
   "source": [
    "k=\"852\"\n",
    "print(k.isdecimal())"
   ]
  },
  {
   "cell_type": "code",
   "execution_count": 129,
   "id": "8610b442-31bc-4810-a7b9-b8d52b3bf9f9",
   "metadata": {},
   "outputs": [
    {
     "name": "stdout",
     "output_type": "stream",
     "text": [
      "False\n"
     ]
    }
   ],
   "source": [
    "k=\"vasanth\"\n",
    "print(k.isdecimal())"
   ]
  },
  {
   "cell_type": "markdown",
   "id": "b877653d-9827-4374-9df0-30a4eed90ee9",
   "metadata": {},
   "source": [
    "# ------isalpha()------Returns True if all characters in the string are in the alphabet"
   ]
  },
  {
   "cell_type": "code",
   "execution_count": 131,
   "id": "69766697-17c1-42d1-a961-c3c633e43777",
   "metadata": {},
   "outputs": [
    {
     "name": "stdout",
     "output_type": "stream",
     "text": [
      "True\n"
     ]
    }
   ],
   "source": [
    "k=\"vasanth\"\n",
    "print(k.isalpha())"
   ]
  },
  {
   "cell_type": "code",
   "execution_count": 132,
   "id": "54195553-b8a0-43c8-8a1f-9b1881feb55c",
   "metadata": {},
   "outputs": [
    {
     "name": "stdout",
     "output_type": "stream",
     "text": [
      "False\n"
     ]
    }
   ],
   "source": [
    "k=\"852\"\n",
    "print(k.isalpha())"
   ]
  },
  {
   "cell_type": "markdown",
   "id": "cb9249a4-5eae-46bf-9383-464d1b8a20a4",
   "metadata": {},
   "source": [
    "#  -----isdigit()------Returns True if all characters in the string are digits"
   ]
  },
  {
   "cell_type": "code",
   "execution_count": 134,
   "id": "b92b6743-ec66-45ad-aa7a-9f8ac68f3b22",
   "metadata": {},
   "outputs": [
    {
     "name": "stdout",
     "output_type": "stream",
     "text": [
      "True\n"
     ]
    }
   ],
   "source": [
    "k=\"852\"\n",
    "print(k.isdigit())"
   ]
  },
  {
   "cell_type": "code",
   "execution_count": 135,
   "id": "376ffd05-dddc-4cc6-8bc4-e5490a0c6e53",
   "metadata": {},
   "outputs": [
    {
     "name": "stdout",
     "output_type": "stream",
     "text": [
      "False\n"
     ]
    }
   ],
   "source": [
    "k=\"vasanth\"\n",
    "print(k.isdigit())"
   ]
  },
  {
   "cell_type": "markdown",
   "id": "fd812509-c7fb-4d55-8961-36cc4f9ffb76",
   "metadata": {},
   "source": [
    "# ------isnumeric()-----Returns True if all characters in the string are numeric-------------"
   ]
  },
  {
   "cell_type": "code",
   "execution_count": 137,
   "id": "e1039bc1-b1c4-40a1-b022-7f4e36b32e69",
   "metadata": {},
   "outputs": [
    {
     "name": "stdout",
     "output_type": "stream",
     "text": [
      "True\n"
     ]
    }
   ],
   "source": [
    "k=\"852\"\n",
    "print(k.isnumeric())"
   ]
  },
  {
   "cell_type": "code",
   "execution_count": 138,
   "id": "2e90bb5b-f806-4fac-bd52-86d7fabcb1e7",
   "metadata": {},
   "outputs": [
    {
     "name": "stdout",
     "output_type": "stream",
     "text": [
      "False\n"
     ]
    }
   ],
   "source": [
    "k=\"Besant\"\n",
    "print(k.isnumeric())"
   ]
  },
  {
   "cell_type": "code",
   "execution_count": 139,
   "id": "810e8c08-3ca0-4b7d-8cfb-d6078b6fa3d3",
   "metadata": {},
   "outputs": [
    {
     "name": "stdout",
     "output_type": "stream",
     "text": [
      "False\n"
     ]
    }
   ],
   "source": [
    "k=\"788&\"\n",
    "print(k.isnumeric())"
   ]
  },
  {
   "cell_type": "markdown",
   "id": "c40793d1-692e-4762-8075-d9562492094e",
   "metadata": {},
   "source": [
    "# ------concatination----"
   ]
  },
  {
   "cell_type": "code",
   "execution_count": 3,
   "id": "418880f3-460c-4525-966f-344cefc5d2e7",
   "metadata": {},
   "outputs": [
    {
     "name": "stdout",
     "output_type": "stream",
     "text": [
      "hello vasanth\n"
     ]
    }
   ],
   "source": [
    "a=\"hello \"\n",
    "b=\"vasanth\"\n",
    "print(a+b)"
   ]
  },
  {
   "cell_type": "markdown",
   "id": "4ddf7419-bc22-4f47-8a3c-77adb7196f8f",
   "metadata": {},
   "source": [
    "# -------repetation----"
   ]
  },
  {
   "cell_type": "code",
   "execution_count": 19,
   "id": "b550e824-4a2d-4e78-a41d-30b35bed0b58",
   "metadata": {},
   "outputs": [
    {
     "name": "stdout",
     "output_type": "stream",
     "text": [
      "hello hello hello \n"
     ]
    }
   ],
   "source": [
    "a=\"hello\"\n",
    "print(\"hello\"\" \" * 3)"
   ]
  },
  {
   "cell_type": "markdown",
   "id": "aeaced86-254f-4995-8977-e8028ed0471c",
   "metadata": {},
   "source": [
    "#  ----join---"
   ]
  },
  {
   "cell_type": "code",
   "execution_count": 31,
   "id": "df8c51ff-810d-4b37-9f81-ac0e87423048",
   "metadata": {},
   "outputs": [
    {
     "name": "stdout",
     "output_type": "stream",
     "text": [
      "apple,orange,banana\n"
     ]
    }
   ],
   "source": [
    "k=(\"apple\",\"orange\",\"banana\")\n",
    "print(\",\".join(k))"
   ]
  },
  {
   "cell_type": "markdown",
   "id": "9b7b946f-6263-4ded-9a9f-400bf741853a",
   "metadata": {},
   "source": [
    "# --find---"
   ]
  },
  {
   "cell_type": "code",
   "execution_count": 34,
   "id": "44505aad-94c3-4671-9e3e-ec2762b17aaf",
   "metadata": {},
   "outputs": [
    {
     "name": "stdout",
     "output_type": "stream",
     "text": [
      "0\n"
     ]
    }
   ],
   "source": [
    "a=\"hello world\"\n",
    "print(a.find(\"hello\"))"
   ]
  },
  {
   "cell_type": "code",
   "execution_count": 41,
   "id": "d63d9916-b809-463c-91c0-e831c31da872",
   "metadata": {},
   "outputs": [
    {
     "name": "stdout",
     "output_type": "stream",
     "text": [
      "6\n"
     ]
    }
   ],
   "source": [
    "a=\"hello world\"\n",
    "print(a.find(\"world\"))"
   ]
  },
  {
   "cell_type": "code",
   "execution_count": null,
   "id": "861b31c9-9319-40fd-86d9-e71e46090b2f",
   "metadata": {},
   "outputs": [],
   "source": []
  }
 ],
 "metadata": {
  "kernelspec": {
   "display_name": "Python 3 (ipykernel)",
   "language": "python",
   "name": "python3"
  },
  "language_info": {
   "codemirror_mode": {
    "name": "ipython",
    "version": 3
   },
   "file_extension": ".py",
   "mimetype": "text/x-python",
   "name": "python",
   "nbconvert_exporter": "python",
   "pygments_lexer": "ipython3",
   "version": "3.12.7"
  }
 },
 "nbformat": 4,
 "nbformat_minor": 5
}
