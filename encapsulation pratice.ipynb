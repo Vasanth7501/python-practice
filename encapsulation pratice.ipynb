{
 "cells": [
  {
   "cell_type": "markdown",
   "id": "c76ff6ec-f358-4608-901b-e304b4a94769",
   "metadata": {},
   "source": [
    "# public private product in encapsulation"
   ]
  },
  {
   "cell_type": "code",
   "execution_count": 10,
   "id": "1878fae0-7ed1-498b-9408-12bfc000a50e",
   "metadata": {},
   "outputs": [
    {
     "name": "stdout",
     "output_type": "stream",
     "text": [
      "mobile\n",
      "20\n",
      "65000\n",
      "product_name: mobile\n",
      "product_stock: 20\n",
      "product_price: 75000\n"
     ]
    }
   ],
   "source": [
    "class product:\n",
    "    def __init__(self,name,stock,price):\n",
    "     self.name=name    # public\n",
    "     self._stock=stock  # private\n",
    "     self.__price=price  # product\n",
    "        \n",
    "    def display_product(self):\n",
    "        print(f\"product_name: {self.name}\")\n",
    "        print(f\"product_stock: {self._stock}\")\n",
    "        print(f\"product_price: {self.__price}\")\n",
    "        \n",
    "    def update_price(self,new_price):\n",
    "       self.__price=new_price\n",
    "\n",
    "\n",
    "item=product(\"mobile\",20,65000)\n",
    "\n",
    "print(item.name)\n",
    "# print(item._product_stock)\n",
    "\n",
    "print(item._stock)\n",
    "\n",
    "# print(item.__price)\n",
    "\n",
    "print(item._product__price)\n",
    "\n",
    "item.update_price(75000)\n",
    "\n",
    "item.display_product()\n",
    "\n",
    "\n"
   ]
  },
  {
   "cell_type": "code",
   "execution_count": null,
   "id": "9f21c032-041a-4ea0-ae28-981991c9521a",
   "metadata": {},
   "outputs": [],
   "source": []
  }
 ],
 "metadata": {
  "kernelspec": {
   "display_name": "Python 3 (ipykernel)",
   "language": "python",
   "name": "python3"
  },
  "language_info": {
   "codemirror_mode": {
    "name": "ipython",
    "version": 3
   },
   "file_extension": ".py",
   "mimetype": "text/x-python",
   "name": "python",
   "nbconvert_exporter": "python",
   "pygments_lexer": "ipython3",
   "version": "3.12.7"
  }
 },
 "nbformat": 4,
 "nbformat_minor": 5
}
