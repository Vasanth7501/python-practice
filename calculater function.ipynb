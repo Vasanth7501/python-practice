{
 "cells": [
  {
   "cell_type": "markdown",
   "id": "32ed46da-5757-4e96-92f4-62be3bd46a7b",
   "metadata": {},
   "source": [
    "# Calculater function"
   ]
  },
  {
   "cell_type": "code",
   "execution_count": null,
   "id": "9dd8a892-c405-4d7c-8384-a04c715fa074",
   "metadata": {},
   "outputs": [],
   "source": [
    "def simple_calculator(x, y, operation):\n",
    "    if operation == '+':\n",
    "        x += y\n",
    "    elif operation == '-':\n",
    "        x -= y\n",
    "    elif operation == '*':\n",
    "        x *= y\n",
    "    elif operation == '/':\n",
    "        x /= y\n",
    "    elif operation == '%':\n",
    "        x %= y\n",
    "    elif operation == '//':\n",
    "        x //= y\n",
    "    elif operation == '**':\n",
    "        x **= y\n",
    "    elif operation == '&':\n",
    "        x &= y\n",
    "    elif operation == '|':\n",
    "        x |= y\n",
    "    elif operation == '^':\n",
    "        x ^= y\n",
    "    elif operation == '<<':\n",
    "        x <<= y\n",
    "    elif operation == '>>':\n",
    "        x >>= y\n",
    "    else:\n",
    "        return \"Invalid operation\"\n",
    "    return x\n",
    "x=int(input())\n",
    "y=int(input())\n",
    "operation=input()\n",
    "\n",
    "result = simple_calculator(x, y, operation)  \n",
    "print(\"Result:\", result)"
   ]
  },
  {
   "cell_type": "code",
   "execution_count": null,
   "id": "c8cd72bb-c51d-4ccc-a2d6-a3239ed7c073",
   "metadata": {},
   "outputs": [],
   "source": []
  }
 ],
 "metadata": {
  "kernelspec": {
   "display_name": "Python 3 (ipykernel)",
   "language": "python",
   "name": "python3"
  },
  "language_info": {
   "codemirror_mode": {
    "name": "ipython",
    "version": 3
   },
   "file_extension": ".py",
   "mimetype": "text/x-python",
   "name": "python",
   "nbconvert_exporter": "python",
   "pygments_lexer": "ipython3",
   "version": "3.12.7"
  }
 },
 "nbformat": 4,
 "nbformat_minor": 5
}
